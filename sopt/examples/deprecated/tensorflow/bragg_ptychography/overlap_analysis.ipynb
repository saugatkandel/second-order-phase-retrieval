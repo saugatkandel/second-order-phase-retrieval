{
 "cells": [
  {
   "cell_type": "code",
   "execution_count": 4,
   "metadata": {},
   "outputs": [],
   "source": [
    "import functions_simple as myfn\n",
    "import numpy as np\n",
    "import scipy\n",
    "from scipy import ndimage, io\n",
    "import dill"
   ]
  },
  {
   "cell_type": "code",
   "execution_count": 5,
   "metadata": {},
   "outputs": [],
   "source": [
    "% load_ext autoreload\n",
    "% autoreload 2"
   ]
  },
  {
   "cell_type": "code",
   "execution_count": 6,
   "metadata": {},
   "outputs": [],
   "source": [
    "two_theta_bragg = 60 * np.pi/180\n",
    "probe = np.load('probe_gaussian_fwhm_6_speckle_20_yz.npy')\n",
    "probe_3d = np.repeat(probe[None, :,:], 111, axis=0)\n",
    "\n",
    "rotate_angle = (np.pi/2 - two_theta_bragg) * 180 / np.pi\n",
    "rotate_fn = lambda x: ndimage.rotate(x, rotate_angle, axes=(0,1), mode='constant', order=1)\n",
    "probe_rotated = rotate_fn(np.real(probe_3d)) + 1j * rotate_fn(np.imag(probe_3d))\n",
    "probe_rotated_centered = probe_rotated[32:96,16:96]"
   ]
  },
  {
   "cell_type": "code",
   "execution_count": 7,
   "metadata": {},
   "outputs": [],
   "source": [
    "pos1 = probe_rotated_centered[32]\n",
    "pos2 = np.pad(pos1, [[7,0],[0,0]], mode='constant')[:80]\n",
    "pos3 = np.pad(pos1, [[0,0],[13,0]], mode='constant')[:,:64]\n",
    "indices1 = (np.abs(pos1.flatten()) > 0)\n",
    "indices2 = (np.abs(pos2.flatten()) > 0)\n",
    "indices3 = np.abs(pos3.flatten()) > 0\n",
    "overlap_y = ((indices1.astype('int') + indices2.astype('int'))==2).sum()\n",
    "overlap_z = ((indices1.astype('int') + indices3.astype('int'))==2).sum()"
   ]
  },
  {
   "cell_type": "code",
   "execution_count": 8,
   "metadata": {},
   "outputs": [
    {
     "data": {
      "text/plain": [
       "(0.9041095890410958, 0.796875)"
      ]
     },
     "execution_count": 8,
     "metadata": {},
     "output_type": "execute_result"
    }
   ],
   "source": [
    "overlap_y / indices1.sum(), overlap_z / indices1.sum()"
   ]
  },
  {
   "cell_type": "code",
   "execution_count": 13,
   "metadata": {},
   "outputs": [
    {
     "data": {
      "text/plain": [
       "0.9639156081756484"
      ]
     },
     "execution_count": 13,
     "metadata": {},
     "output_type": "execute_result"
    }
   ],
   "source": [
    "1 - 3 /12 * 2 * np.cos(np.pi/6) / 12"
   ]
  },
  {
   "cell_type": "code",
   "execution_count": 20,
   "metadata": {},
   "outputs": [
    {
     "data": {
      "text/plain": [
       "0.8333333333333334"
      ]
     },
     "execution_count": 20,
     "metadata": {},
     "output_type": "execute_result"
    }
   ],
   "source": [
    "# z overlap\n",
    "1 - 2 / 12"
   ]
  },
  {
   "cell_type": "code",
   "execution_count": 21,
   "metadata": {},
   "outputs": [
    {
     "data": {
      "text/plain": [
       "0.8556624327025936"
      ]
     },
     "execution_count": 21,
     "metadata": {},
     "output_type": "execute_result"
    }
   ],
   "source": [
    "# y overlap\n",
    "1 - 2 / 12 * np.cos(np.pi/6)"
   ]
  },
  {
   "cell_type": "code",
   "execution_count": null,
   "metadata": {},
   "outputs": [],
   "source": []
  }
 ],
 "metadata": {
  "kernelspec": {
   "display_name": "Python 3",
   "language": "python",
   "name": "python3"
  },
  "language_info": {
   "codemirror_mode": {
    "name": "ipython",
    "version": 3
   },
   "file_extension": ".py",
   "mimetype": "text/x-python",
   "name": "python",
   "nbconvert_exporter": "python",
   "pygments_lexer": "ipython3",
   "version": "3.6.8"
  }
 },
 "nbformat": 4,
 "nbformat_minor": 2
}
