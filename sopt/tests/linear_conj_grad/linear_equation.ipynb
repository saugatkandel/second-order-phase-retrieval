{
 "cells": [
  {
   "cell_type": "code",
   "execution_count": 1,
   "metadata": {},
   "outputs": [],
   "source": [
    "# Comparing my tensorflow implementation of the linear conjugate gradient method to the scipy.\n",
    "# Since my implementation assumes float32 arrays, the accuracy of the results is going to be quite a bit lower.\n",
    "# however, the output should be"
   ]
  },
  {
   "cell_type": "code",
   "execution_count": 2,
   "metadata": {},
   "outputs": [],
   "source": [
    "import numpy as np\n",
    "from scipy.sparse import linalg\n",
    "import tensorflow as tf\n",
    "from sopt.optimizers.tensorflow.utils import MatrixFreeLinearOp, conjugate_gradient\n",
    "import matplotlib.pyplot as plt"
   ]
  },
  {
   "cell_type": "code",
   "execution_count": 3,
   "metadata": {},
   "outputs": [],
   "source": [
    "# Creating a linear system."
   ]
  },
  {
   "cell_type": "code",
   "execution_count": 12,
   "metadata": {},
   "outputs": [],
   "source": [
    "m = np.random.randn(20, 20)\n",
    "\n",
    "A = m @ m.T"
   ]
  },
  {
   "cell_type": "code",
   "execution_count": 14,
   "metadata": {},
   "outputs": [
    {
     "data": {
      "text/plain": [
       "array([7.47797881e+01, 5.12077591e+01, 4.62080455e+01, 4.20920774e+01,\n",
       "       3.78565012e+01, 3.40144119e+01, 2.57941481e+01, 1.82179941e+01,\n",
       "       1.70879276e+01, 1.56093088e+01, 1.19123041e+01, 6.61633792e+00,\n",
       "       6.44153687e+00, 4.42482911e+00, 3.25540079e+00, 3.47300372e+00,\n",
       "       1.02586831e+00, 1.15578761e-05, 3.38973642e-01, 4.95814638e-01])"
      ]
     },
     "execution_count": 14,
     "metadata": {},
     "output_type": "execute_result"
    }
   ],
   "source": [
    "# Ensuring the matrix is symmetric and positive definite. All eigvals should be positive\n",
    "np.linalg.eigvals(A)"
   ]
  },
  {
   "cell_type": "code",
   "execution_count": 4,
   "metadata": {},
   "outputs": [],
   "source": [
    "x_true = np.random.randn(20)\n",
    "y = (A @ x_true[:,None]).reshape(-1)"
   ]
  },
  {
   "cell_type": "code",
   "execution_count": 5,
   "metadata": {},
   "outputs": [],
   "source": [
    "# Results using scipy\n",
    "def getScipyErrors(maxiter):\n",
    "    x_pred = linalg.cg(A, y, maxiter=maxiter)[0]\n",
    "    errors = x_pred - x_true\n",
    "    return np.sum(errors**2)"
   ]
  },
  {
   "cell_type": "code",
   "execution_count": 6,
   "metadata": {},
   "outputs": [],
   "source": [
    "# Using my conjugate gradient method"
   ]
  },
  {
   "cell_type": "code",
   "execution_count": 7,
   "metadata": {},
   "outputs": [],
   "source": [
    "tf.reset_default_graph()"
   ]
  },
  {
   "cell_type": "code",
   "execution_count": 8,
   "metadata": {},
   "outputs": [],
   "source": [
    "A_t = tf.constant(A, dtype='float32')\n",
    "y_t = tf.constant(y, dtype='float32')\n",
    "x_true_t = tf.constant(x_true, dtype='float32')"
   ]
  },
  {
   "cell_type": "code",
   "execution_count": 9,
   "metadata": {},
   "outputs": [],
   "source": [
    "matvec = lambda x: tf.reshape(A_t @ x[:, None], [-1])"
   ]
  },
  {
   "cell_type": "code",
   "execution_count": 10,
   "metadata": {},
   "outputs": [],
   "source": [
    "linop = MatrixFreeLinearOp(operator=matvec, shape=y_t.get_shape())"
   ]
  },
  {
   "cell_type": "code",
   "execution_count": 11,
   "metadata": {},
   "outputs": [],
   "source": [
    "maxiter = tf.placeholder(tf.int32, shape=[])\n",
    "x_pred_t = conjugate_gradient(linop, y_t, tol=1e-6, max_iter=maxiter)\n",
    "errors_t = x_pred_t.x - x_true_t\n",
    "lsq_errors_t = tf.reduce_sum(errors_t**2)"
   ]
  },
  {
   "cell_type": "code",
   "execution_count": 12,
   "metadata": {},
   "outputs": [],
   "source": [
    "sess = tf.Session()\n",
    "sess.run(tf.global_variables_initializer())"
   ]
  },
  {
   "cell_type": "code",
   "execution_count": 13,
   "metadata": {},
   "outputs": [],
   "source": [
    "lsq_errors_scipy = []\n",
    "lsq_errors_tf = []\n",
    "for i in range(1,50):\n",
    "    lsq_errors_scipy.append(getScipyErrors(i))\n",
    "    lsq_errors_tf.append(sess.run(lsq_errors_t, feed_dict={maxiter:i}))"
   ]
  },
  {
   "cell_type": "code",
   "execution_count": 14,
   "metadata": {},
   "outputs": [],
   "source": [
    "# The tensorflow results are less accurate after a point."
   ]
  },
  {
   "cell_type": "code",
   "execution_count": 15,
   "metadata": {},
   "outputs": [
    {
     "data": {
      "image/png": "[encoded data removed]",
      "text/plain": [
       "<Figure size 432x288 with 1 Axes>"
      ]
     },
     "metadata": {
      "needs_background": "light"
     },
     "output_type": "display_data"
    }
   ],
   "source": [
    "plt.plot(np.log(lsq_errors_scipy), color='red', label='scipy')\n",
    "plt.plot(np.log(lsq_errors_tf), color='blue', ls='--', label='tf')\n",
    "plt.legend(loc='best')\n",
    "plt.show()"
   ]
  },
  {
   "cell_type": "code",
   "execution_count": null,
   "metadata": {},
   "outputs": [],
   "source": []
  }
 ],
 "metadata": {
  "kernelspec": {
   "display_name": "Python 3",
   "language": "python",
   "name": "python3"
  },
  "language_info": {
   "codemirror_mode": {
    "name": "ipython",
    "version": 3
   },
   "file_extension": ".py",
   "mimetype": "text/x-python",
   "name": "python",
   "nbconvert_exporter": "python",
   "pygments_lexer": "ipython3",
   "version": "3.7.6"
  }
 },
 "nbformat": 4,
 "nbformat_minor": 4
}
