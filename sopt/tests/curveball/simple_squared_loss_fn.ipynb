{
 "cells": [
  {
   "cell_type": "code",
   "execution_count": 1,
   "metadata": {},
   "outputs": [],
   "source": [
    "# This class tests whether the tensorflow and autograd versions give identical outputs for a simple least squared loss function"
   ]
  },
  {
   "cell_type": "code",
   "execution_count": 11,
   "metadata": {},
   "outputs": [],
   "source": [
    "from autograd import numpy as np\n",
    "import tensorflow as tf\n",
    "from matplotlib import pyplot as plt\n",
    "from sopt.optimizers.autograd.curveball import Curveball as agCb\n",
    "from sopt.optimizers.tensorflow import Curveball as tfCb"
   ]
  },
  {
   "cell_type": "code",
   "execution_count": 12,
   "metadata": {},
   "outputs": [
    {
     "name": "stdout",
     "output_type": "stream",
     "text": [
      "The autoreload extension is already loaded. To reload it, use:\n",
      "  %reload_ext autoreload\n"
     ]
    }
   ],
   "source": [
    "%load_ext autoreload\n",
    "%autoreload 2"
   ]
  },
  {
   "cell_type": "code",
   "execution_count": 13,
   "metadata": {},
   "outputs": [],
   "source": [
    "z_true = np.random.randn(3,100).astype('float32')\n",
    "\n",
    "random_mat = np.random.randn(3,3)\n",
    "random_symmetric_mat = random_mat + random_mat.T\n",
    "evals, evecs = np.linalg.eig(random_symmetric_mat)\n",
    "affine_transform = evecs\n",
    "\n",
    "y_true = affine_transform @ z_true\n",
    "y_true_flat = y_true.flatten()"
   ]
  },
  {
   "cell_type": "code",
   "execution_count": 14,
   "metadata": {},
   "outputs": [],
   "source": [
    "def y_pred(z_flat):\n",
    "    z_arr = np.reshape(z_flat, (3, -1))\n",
    "    return (affine_transform @ z_arr).flatten()\n",
    "\n",
    "def loss_fn(y):\n",
    "    return 0.5 * np.sum((y - y_true_flat)**2)"
   ]
  },
  {
   "cell_type": "code",
   "execution_count": 15,
   "metadata": {},
   "outputs": [],
   "source": [
    "z_guess = np.random.randn(300).astype('float32')"
   ]
  },
  {
   "cell_type": "code",
   "execution_count": 16,
   "metadata": {},
   "outputs": [],
   "source": [
    "# Testing the autograd implementations"
   ]
  },
  {
   "cell_type": "code",
   "execution_count": 17,
   "metadata": {},
   "outputs": [],
   "source": [
    "cb_ag1 = agCb(z_guess, y_pred, loss_fn, squared_loss=True)\n",
    "cb_ag2 = agCb(z_guess, y_pred, loss_fn, squared_loss=False)"
   ]
  },
  {
   "cell_type": "code",
   "execution_count": 18,
   "metadata": {},
   "outputs": [],
   "source": [
    "ag_losses1 = []\n",
    "ag_losses2 = []\n",
    "for i in range(50):\n",
    "    out1 = cb_ag1.minimize()\n",
    "    lossval = loss_fn(y_pred(out1))\n",
    "    out2 = cb_ag2.minimize()\n",
    "    ag_losses1.append(loss_fn(y_pred(out1)))\n",
    "    ag_losses2.append(loss_fn(y_pred(out2)))"
   ]
  },
  {
   "cell_type": "code",
   "execution_count": 19,
   "metadata": {},
   "outputs": [],
   "source": [
    "# Tensorflow test"
   ]
  },
  {
   "cell_type": "code",
   "execution_count": 20,
   "metadata": {},
   "outputs": [
    {
     "name": "stderr",
     "output_type": "stream",
     "text": [
      "W1128 17:40:22.055445 139976755275584 deprecation_wrapper.py:119] From /raid/home/skandel/code/sopt/sopt/optimizers/tensorflow/curveball_new.py:234: The name tf.assign is deprecated. Please use tf.compat.v1.assign instead.\n",
      "\n"
     ]
    }
   ],
   "source": [
    "tf.reset_default_graph()\n",
    "var1 = tf.get_variable('var1', dtype=tf.float32, initializer=z_guess)\n",
    "var2 = tf.get_variable('var2', dtype=tf.float32, initializer=z_guess)\n",
    "var3 = tf.get_variable('var3', dtype=tf.float32, initializer=z_guess)\n",
    "\n",
    "tf_y_true = tf.convert_to_tensor(y_true_flat, dtype='float32', name='y_true')\n",
    "tf_affine_transform = tf.convert_to_tensor(affine_transform, dtype='float32', name='affine_transform')\n",
    "\n",
    "def tf_y_pred(z):\n",
    "    return tf.reshape(tf_affine_transform @ tf.reshape(z, [3, -1]), [-1])\n",
    "def tf_loss(y_pred):\n",
    "    return 0.5 * tf.reduce_sum((tf_y_true - y_pred)**2)\n",
    "def tf_hessian(y_pred):\n",
    "    return 1.0\n",
    "\n",
    "preds1 = tf_y_pred(var1)\n",
    "preds2 = tf_y_pred(var2)\n",
    "preds3 = tf_y_pred(var3)\n",
    "loss_tensor1 = tf_loss(preds1)\n",
    "loss_tensor2 = tf_loss(preds2)\n",
    "loss_tensor3 = tf_loss(preds3)\n",
    "ct1 = tfCb(var1, tf_y_pred, tf_loss, name='opt1', squared_loss=True)\n",
    "ct2 = tfCb(var2, tf_y_pred, tf_loss, name='opt2', squared_loss=False)\n",
    "ct3 = tfCb(var3, tf_y_pred, tf_loss, name='opt3', squared_loss=False, loss_hessian_fn=tf_hessian)\n",
    "\n",
    "ct1_min = ct1.minimize()\n",
    "ct2_min = ct2.minimize()\n",
    "ct3_min = ct3.minimize()\n",
    "\n",
    "session = tf.Session()\n",
    "session.run(tf.global_variables_initializer())"
   ]
  },
  {
   "cell_type": "code",
   "execution_count": 21,
   "metadata": {},
   "outputs": [],
   "source": [
    "tf_losses1 = []\n",
    "tf_losses2 = []\n",
    "tf_losses3 = []\n",
    "for i in range(50):\n",
    "    session.run([ct1_min, ct2_min, ct3_min])\n",
    "    lossval1, lossval2, lossval3 = session.run([loss_tensor1, loss_tensor2, loss_tensor3])\n",
    "    tf_losses1.append(lossval1)\n",
    "    tf_losses2.append(lossval2)\n",
    "    tf_losses3.append(lossval3)\n",
    "    "
   ]
  },
  {
   "cell_type": "code",
   "execution_count": 24,
   "metadata": {},
   "outputs": [
    {
     "data": {
      "image/png": "[encoded data removed]",
      "text/plain": [
       "<Figure size 432x288 with 1 Axes>"
      ]
     },
     "metadata": {
      "needs_background": "light"
     },
     "output_type": "display_data"
    }
   ],
   "source": [
    "# Any discrepancy here is because curveball requires a matrix inversion step\n",
    "# the matrix becomes singular fairly often\n",
    "# I tried calculating the pseudo inverse myself, but all the approach I tried for this \n",
    "# in tensorflow game solutions less stable and accurate than the numpy counterpart.\n",
    "\n",
    "plt.plot(ag_losses1, color='blue', ls=':', linewidth=5.0, alpha=0.8, label='ag_sq_true')\n",
    "plt.plot(ag_losses2, color='green', ls='--', linewidth=5.0, alpha=0.4, label='ag_sq_false')\n",
    "plt.plot(tf_losses1, color='red', ls=':', linewidth=5.0, alpha=0.8, label='tf_sq_true')\n",
    "plt.plot(tf_losses2, color='orange', ls='--', linewidth=5.0, alpha=0.4, label='tf_sq_false')\n",
    "plt.plot(tf_losses3, color='pink', ls='-.', linewidth=5.0, alpha=0.2, label='tf_custom_hess')\n",
    "plt.yscale('log')\n",
    "plt.legend(loc='best')\n",
    "plt.show()"
   ]
  },
  {
   "cell_type": "code",
   "execution_count": 25,
   "metadata": {},
   "outputs": [
    {
     "name": "stdout",
     "output_type": "stream",
     "text": [
      "[84.83863030420227, 21.20965757605056, 5.302414394012639, 1.3256035985031602, 0.33140089962579, 0.08285022490644744, 0.020712556226611858, 0.005178139056652964, 0.0012945347641632645, 0.00032363369104081673] [84.838646, 21.20962, 5.3024044, 1.3256017, 0.33140123, 0.082851425, 0.020693587, 0.0051702117, 0.0012939031, 0.0003263374] [84.838646, 21.20962, 5.3024044, 1.3256017, 0.33140123, 0.082851425, 0.020693587, 0.0051702117, 0.0012939031, 0.0003263374]\n"
     ]
    }
   ],
   "source": [
    "print(ag_losses1[:10], tf_losses2[:10], tf_losses3[:10])"
   ]
  },
  {
   "cell_type": "code",
   "execution_count": null,
   "metadata": {},
   "outputs": [],
   "source": []
  }
 ],
 "metadata": {
  "kernelspec": {
   "display_name": "Python 3",
   "language": "python",
   "name": "python3"
  },
  "language_info": {
   "codemirror_mode": {
    "name": "ipython",
    "version": 3
   },
   "file_extension": ".py",
   "mimetype": "text/x-python",
   "name": "python",
   "nbconvert_exporter": "python",
   "pygments_lexer": "ipython3",
   "version": "3.7.3"
  }
 },
 "nbformat": 4,
 "nbformat_minor": 4
}
