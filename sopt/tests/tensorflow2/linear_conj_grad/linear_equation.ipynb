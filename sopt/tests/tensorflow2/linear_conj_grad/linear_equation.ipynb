{
 "cells": [
  {
   "cell_type": "code",
   "execution_count": 1,
   "metadata": {},
   "outputs": [],
   "source": [
    "# Comparing my tensorflow implementation of the linear conjugate gradient method to the scipy.\n",
    "# Since my implementation assumes float32 arrays, the accuracy of the results is going to be quite a bit lower.\n",
    "# however, the output should be"
   ]
  },
  {
   "cell_type": "code",
   "execution_count": 2,
   "metadata": {},
   "outputs": [],
   "source": [
    "import numpy as np\n",
    "from scipy.sparse import linalg\n",
    "import tensorflow as tf\n",
    "from sopt.optimizers.tensorflow2.utils import MatrixFreeLinearOp, conjugate_gradient\n",
    "import matplotlib.pyplot as plt"
   ]
  },
  {
   "cell_type": "code",
   "execution_count": 3,
   "metadata": {},
   "outputs": [],
   "source": [
    "gpu = tf.config.experimental.list_physical_devices('GPU')[0]\n",
    "tf.config.experimental.set_memory_growth(gpu, True)"
   ]
  },
  {
   "cell_type": "code",
   "execution_count": 4,
   "metadata": {},
   "outputs": [],
   "source": [
    "# Creating a linear system."
   ]
  },
  {
   "cell_type": "code",
   "execution_count": 5,
   "metadata": {},
   "outputs": [],
   "source": [
    "m = np.random.randn(20, 20)\n",
    "\n",
    "A = m @ m.T"
   ]
  },
  {
   "cell_type": "code",
   "execution_count": 6,
   "metadata": {},
   "outputs": [
    {
     "data": {
      "text/plain": [
       "array([5.43817692e+01, 5.09400120e+01, 4.41583093e+01, 3.83049090e+01,\n",
       "       3.25243817e+01, 3.10047076e+01, 2.80352708e+01, 2.12035361e+01,\n",
       "       1.83481097e+01, 1.49214291e+01, 9.89406746e+00, 7.68087440e+00,\n",
       "       6.53350848e+00, 3.83570925e+00, 2.91556764e+00, 6.53391196e-03,\n",
       "       3.79409181e-02, 1.03067332e+00, 1.52404207e+00, 1.30081563e+00])"
      ]
     },
     "execution_count": 6,
     "metadata": {},
     "output_type": "execute_result"
    }
   ],
   "source": [
    "# Ensuring the matrix is symmetric and positive definite. All eigvals should be positive\n",
    "np.linalg.eigvals(A)"
   ]
  },
  {
   "cell_type": "code",
   "execution_count": 7,
   "metadata": {},
   "outputs": [],
   "source": [
    "A_precond = np.linalg.inv(A * 5 + 1)"
   ]
  },
  {
   "cell_type": "code",
   "execution_count": 8,
   "metadata": {},
   "outputs": [],
   "source": [
    "x_true = np.random.randn(20)\n",
    "y = (A @ x_true[:,None]).reshape(-1)\n",
    "x0 = np.random.randn(20)"
   ]
  },
  {
   "cell_type": "code",
   "execution_count": 9,
   "metadata": {},
   "outputs": [],
   "source": [
    "# Results using scipy\n",
    "def getScipyErrors(maxiter):\n",
    "    x_pred = linalg.cg(A, y, maxiter=maxiter, x0=x0)[0]\n",
    "    pcg_x_pred = linalg.cg(A, y, maxiter=maxiter, M=A_precond, x0=x0)[0]\n",
    "    errors = x_pred - x_true\n",
    "    errors_pcg = pcg_x_pred - x_true\n",
    "    return np.sum(errors**2), np.sum(errors_pcg**2)"
   ]
  },
  {
   "cell_type": "code",
   "execution_count": 10,
   "metadata": {},
   "outputs": [],
   "source": [
    "# Using my conjugate gradient method"
   ]
  },
  {
   "cell_type": "code",
   "execution_count": 11,
   "metadata": {},
   "outputs": [],
   "source": [
    "A_t = tf.constant(A, dtype='float32')\n",
    "A_precond_t = tf.constant(A_precond, dtype='float32')\n",
    "y_t = tf.constant(y, dtype='float32')\n",
    "x_true_t = tf.constant(x_true, dtype='float32')\n",
    "x0_t = tf.constant(x0, dtype='float32')"
   ]
  },
  {
   "cell_type": "code",
   "execution_count": 12,
   "metadata": {},
   "outputs": [],
   "source": [
    "matvec = lambda x: tf.reshape(A_t @ x[:, None], [-1])\n",
    "linop = MatrixFreeLinearOp(operator=matvec, shape=y_t.shape)"
   ]
  },
  {
   "cell_type": "code",
   "execution_count": 13,
   "metadata": {},
   "outputs": [],
   "source": [
    "precond_matvec = lambda x: tf.reshape(A_precond_t @ x[:, None], [-1])\n",
    "precond_linop = MatrixFreeLinearOp(operator=precond_matvec, shape=y_t.shape)"
   ]
  },
  {
   "cell_type": "code",
   "execution_count": 14,
   "metadata": {},
   "outputs": [],
   "source": [
    "@tf.function\n",
    "def cg_step(maxiter, precond=None):\n",
    "    if precond is not None:\n",
    "        x_pred_t = conjugate_gradient(linop, y_t, tol=1e-6, max_iter=maxiter, preconditioner=precond, x=x0_t)\n",
    "    else:\n",
    "        x_pred_t = conjugate_gradient(linop, y_t, tol=1e-6, max_iter=maxiter, x=x0_t)\n",
    "    errors_t = x_pred_t.x - x_true_t\n",
    "    lsq_errors_t = tf.reduce_sum(errors_t**2)\n",
    "    return x_pred_t, errors_t, lsq_errors_t"
   ]
  },
  {
   "cell_type": "code",
   "execution_count": 15,
   "metadata": {},
   "outputs": [
    {
     "name": "stdout",
     "output_type": "stream",
     "text": [
      "CPU times: user 14 µs, sys: 0 ns, total: 14 µs\n",
      "Wall time: 28.8 µs\n"
     ]
    }
   ],
   "source": [
    "%time \n",
    "\n",
    "lsq_errors_scipy = []\n",
    "lsq_errors_pcg_scipy = []\n",
    "lsq_errors_tf = []\n",
    "lsq_errors_pcg_tf = []\n",
    "for i in range(1,50):\n",
    "    se1, se2 = getScipyErrors(i)\n",
    "    lsq_errors_scipy.append(se1)\n",
    "    lsq_errors_pcg_scipy.append(se2)\n",
    "    _, __, e1 = cg_step(tf.convert_to_tensor(i))\n",
    "    _, __, e2 = cg_step(tf.convert_to_tensor(i), precond=precond_linop)\n",
    "    lsq_errors_tf.append(e1.numpy())\n",
    "    lsq_errors_pcg_tf.append(e2.numpy())"
   ]
  },
  {
   "cell_type": "code",
   "execution_count": 16,
   "metadata": {},
   "outputs": [],
   "source": [
    "# The tensorflow results are less accurate after a point."
   ]
  },
  {
   "cell_type": "code",
   "execution_count": 17,
   "metadata": {},
   "outputs": [
    {
     "data": {
      "image/png": "[encoded data removed]",
      "text/plain": [
       "<Figure size 432x288 with 1 Axes>"
      ]
     },
     "metadata": {
      "needs_background": "light"
     },
     "output_type": "display_data"
    }
   ],
   "source": [
    "plt.plot(lsq_errors_scipy, color='red', label='scipy')\n",
    "plt.plot(lsq_errors_pcg_scipy, color='red', ls=\":\", label='scipy_p', markevery=0.2, marker='>')\n",
    "plt.plot(lsq_errors_tf, color='blue', ls='--', label='tf')\n",
    "plt.plot(lsq_errors_pcg_tf, color='green', ls=':', label='tfp', markevery=0.2, marker='o')\n",
    "plt.legend(loc='best')\n",
    "plt.yscale('log')\n",
    "#plt.ylim([1e-20, 5])\n",
    "#plt.yscale('log')\n",
    "plt.show()"
   ]
  },
  {
   "cell_type": "code",
   "execution_count": null,
   "metadata": {},
   "outputs": [],
   "source": []
  }
 ],
 "metadata": {
  "kernelspec": {
   "display_name": "Python 3",
   "language": "python",
   "name": "python3"
  },
  "language_info": {
   "codemirror_mode": {
    "name": "ipython",
    "version": 3
   },
   "file_extension": ".py",
   "mimetype": "text/x-python",
   "name": "python",
   "nbconvert_exporter": "python",
   "pygments_lexer": "ipython3",
   "version": "3.8.5"
  }
 },
 "nbformat": 4,
 "nbformat_minor": 4
}
