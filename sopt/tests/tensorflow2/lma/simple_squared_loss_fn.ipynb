{
 "cells": [
  {
   "cell_type": "code",
   "execution_count": 1,
   "metadata": {},
   "outputs": [],
   "source": [
    "import numpy as np\n",
    "import tensorflow as tf\n",
    "from matplotlib import pyplot as plt\n",
    "from sopt.optimizers.tensorflow2 import LMA, NonLinearConjugateGradient\n",
    "import scipy.optimize as spopt"
   ]
  },
  {
   "cell_type": "code",
   "execution_count": 2,
   "metadata": {},
   "outputs": [],
   "source": [
    "%load_ext autoreload\n",
    "%autoreload 2"
   ]
  },
  {
   "cell_type": "code",
   "execution_count": 3,
   "metadata": {},
   "outputs": [],
   "source": [
    "z_true = np.random.randn(3,10).astype('float32')\n",
    "\n",
    "random_mat = np.random.randn(3,3)\n",
    "random_symmetric_mat = random_mat + random_mat.T\n",
    "evals, evecs = np.linalg.eig(random_symmetric_mat)\n",
    "affine_transform = evecs\n",
    "\n",
    "y_true = affine_transform @ z_true\n",
    "y_true_flat = y_true.flatten()"
   ]
  },
  {
   "cell_type": "code",
   "execution_count": 4,
   "metadata": {},
   "outputs": [],
   "source": [
    "def y_pred(z_flat, affine_transform):\n",
    "    z_arr = tf.reshape(z_flat, (3, -1))\n",
    "    return tf.reshape(affine_transform @ z_arr, [-1])\n",
    "\n",
    "def loss_fn(y):\n",
    "    return 0.5 * tf.reduce_sum((y - y_true_flat)**2)"
   ]
  },
  {
   "cell_type": "code",
   "execution_count": 5,
   "metadata": {},
   "outputs": [],
   "source": [
    "z_guess = np.random.randn(30).astype('float32')"
   ]
  },
  {
   "cell_type": "code",
   "execution_count": 30,
   "metadata": {},
   "outputs": [
    {
     "name": "stdout",
     "output_type": "stream",
     "text": [
      "WARNING:tensorflow:The ftol, gtol, and xtol conditions are adapted from https://docs.scipy.org/doc/scipy/reference/generated/scipy.optimize.least_squares.html.This is a test version, and there is no guarantee that these work as intended.\n",
      "WARNING:tensorflow:The ftol, gtol, and xtol conditions are adapted from https://docs.scipy.org/doc/scipy/reference/generated/scipy.optimize.least_squares.html.This is a test version, and there is no guarantee that these work as intended.\n"
     ]
    }
   ],
   "source": [
    "v1 = tf.Variable(z_guess, dtype=tf.float32)\n",
    "v2 = tf.Variable(z_guess, dtype=tf.float32)\n",
    "v3 = tf.Variable(z_guess, dtype=tf.float32)\n",
    "\n",
    "y_true_t = tf.constant(y_true, dtype='float32')\n",
    "affine_transform_t = tf.constant(affine_transform, dtype='float32')\n",
    "\n",
    "preds_fn = lambda v: y_pred(v, affine_transform_t)\n",
    "                            \n",
    "lma1 = LMA(input_var=v1, predictions_fn=preds_fn,\n",
    "           loss_fn=loss_fn, name='opt1', min_cg_tol=0.1,\n",
    "           assert_tolerances=False)\n",
    "lma2 = LMA(input_var=v2, predictions_fn=preds_fn,\n",
    "           loss_fn=loss_fn, name='opt2', min_cg_tol=0.1,  \n",
    "           diag_hessian_fn=lambda v: 1.0, \n",
    "           assert_tolerances=False)\n",
    "cg1 = NonLinearConjugateGradient(input_var=v3, \n",
    "                                  objective_fn=lambda v: loss_fn(preds_fn(v)),\n",
    "                                  name='opt3')"
   ]
  },
  {
   "cell_type": "code",
   "execution_count": 31,
   "metadata": {},
   "outputs": [
    {
     "name": "stdout",
     "output_type": "stream",
     "text": [
      "WARNING:tensorflow:7 out of the last 7 calls to <function conjugate_gradient at 0x7f002c310dc0> triggered tf.function retracing. Tracing is expensive and the excessive number of tracings is likely due to passing python objects instead of tensors. Also, tf.function has experimental_relax_shapes=True option that relaxes argument shapes that can avoid unnecessary retracing. Please refer to https://www.tensorflow.org/tutorials/customization/performance#python_or_tensor_args and https://www.tensorflow.org/api_docs/python/tf/function for more details.\n",
      "WARNING:tensorflow:8 out of the last 8 calls to <function conjugate_gradient at 0x7f002c310dc0> triggered tf.function retracing. Tracing is expensive and the excessive number of tracings is likely due to passing python objects instead of tensors. Also, tf.function has experimental_relax_shapes=True option that relaxes argument shapes that can avoid unnecessary retracing. Please refer to https://www.tensorflow.org/tutorials/customization/performance#python_or_tensor_args and https://www.tensorflow.org/api_docs/python/tf/function for more details.\n",
      "0 3.816161e-07 3.816161e-07 34.79165\n",
      "1 2.1427304e-14 2.1427304e-14 21.488962\n",
      "2 0.0 0.0 7.02619\n",
      "3 0.0 0.0 0.14492956\n",
      "4 0.0 0.0 0.073627576\n",
      "5 0.0 0.0 0.037404492\n",
      "6 0.0 0.0 0.01900234\n",
      "7 0.0 0.0 0.009653628\n",
      "8 0.0 0.0 0.004904267\n",
      "9 0.0 0.0 0.0024914856\n"
     ]
    }
   ],
   "source": [
    "lm_losses1 = []\n",
    "lm_losses2 = []\n",
    "cg_losses = []\n",
    "for i in range(10):\n",
    "    _, loss1 = lma1.minimize(), lma1._loss_new.numpy()\n",
    "    _, loss2 = lma2.minimize(), lma2._loss_new.numpy()\n",
    "    loss3 = cg1.minimize().numpy()\n",
    "    print(i, loss1, loss2, loss3)\n",
    "    lm_losses1.append(loss1)\n",
    "    lm_losses2.append(loss2)\n",
    "    cg_losses.append(loss3)"
   ]
  },
  {
   "cell_type": "code",
   "execution_count": 32,
   "metadata": {},
   "outputs": [
    {
     "data": {
      "image/png": "[encoded data removed]",
      "text/plain": [
       "<Figure size 432x288 with 1 Axes>"
      ]
     },
     "metadata": {
      "needs_background": "light"
     },
     "output_type": "display_data"
    }
   ],
   "source": [
    "plt.plot(lm_losses1, color='blue', ls=':', linewidth=5.0, alpha=0.8, label='lm1')\n",
    "plt.plot(lm_losses2, color='green', ls='--', linewidth=5.0, alpha=0.4, label='lm2')\n",
    "plt.plot(cg_losses, color='red', ls=':', linewidth=5.0, alpha=0.8, label='cg')\n",
    "plt.yscale('log')\n",
    "plt.legend(loc='best')\n",
    "plt.show()"
   ]
  },
  {
   "cell_type": "code",
   "execution_count": null,
   "metadata": {},
   "outputs": [],
   "source": []
  }
 ],
 "metadata": {
  "kernelspec": {
   "display_name": "Python 3",
   "language": "python",
   "name": "python3"
  },
  "language_info": {
   "codemirror_mode": {
    "name": "ipython",
    "version": 3
   },
   "file_extension": ".py",
   "mimetype": "text/x-python",
   "name": "python",
   "nbconvert_exporter": "python",
   "pygments_lexer": "ipython3",
   "version": "3.8.5"
  }
 },
 "nbformat": 4,
 "nbformat_minor": 4
}
