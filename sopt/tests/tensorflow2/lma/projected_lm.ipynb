{
 "cells": [
  {
   "cell_type": "code",
   "execution_count": 1,
   "metadata": {},
   "outputs": [],
   "source": [
    "# Testing whether the projected LM approach works\n",
    "#  Without the constraints, the problem admits both +x and -x as solutions.\n",
    "# With the constraints, we should only get +x"
   ]
  },
  {
   "cell_type": "code",
   "execution_count": 2,
   "metadata": {},
   "outputs": [],
   "source": [
    "import numpy as np\n",
    "import tensorflow as tf\n",
    "import matplotlib.pyplot as plt\n",
    "from sopt.optimizers.tensorflow2.lma import LMA"
   ]
  },
  {
   "cell_type": "code",
   "execution_count": 3,
   "metadata": {},
   "outputs": [],
   "source": [
    "%load_ext autoreload\n",
    "%autoreload 2"
   ]
  },
  {
   "cell_type": "code",
   "execution_count": 4,
   "metadata": {},
   "outputs": [],
   "source": [
    "x_true = np.ones(20, dtype='float32') * 2\n",
    "\n",
    "random_mat = np.random.randn(20,20)\n",
    "A = random_mat @ random_mat\n",
    "\n",
    "# The output data could be from x=2 or x=-2.\n",
    "y = np.reshape(A @ x_true**2, [-1])"
   ]
  },
  {
   "cell_type": "code",
   "execution_count": 5,
   "metadata": {},
   "outputs": [],
   "source": [
    "x_guess = np.random.randn(20).astype('float32') * 10"
   ]
  },
  {
   "cell_type": "markdown",
   "metadata": {},
   "source": [
    "# LMA - linesearch for damping param"
   ]
  },
  {
   "cell_type": "code",
   "execution_count": 7,
   "metadata": {},
   "outputs": [
    {
     "name": "stdout",
     "output_type": "stream",
     "text": [
      "WARNING:tensorflow:The ftol, gtol, and xtol conditions are adapted from https://docs.scipy.org/doc/scipy/reference/generated/scipy.optimize.least_squares.html.This is a test version, and there is no guarantee that these work as intended.\n",
      "WARNING:tensorflow:The ftol, gtol, and xtol conditions are adapted from https://docs.scipy.org/doc/scipy/reference/generated/scipy.optimize.least_squares.html.This is a test version, and there is no guarantee that these work as intended.\n"
     ]
    }
   ],
   "source": [
    "# x = 0 is also a stationary point. We are trying to avoid that by using clip_value_min > 0\n",
    "constraint_fn = lambda x: tf.clip_by_value(x, clip_value_min=0.1, clip_value_max=2.1)\n",
    "var_constr = tf.Variable(x_guess, dtype='float32', constraint=constraint_fn)\n",
    "var_unconstr = tf.Variable(x_guess, dtype='float32')\n",
    "\n",
    "y_t = tf.constant(y, dtype='float32')\n",
    "A_t = tf.constant(A, dtype='float32')                   \n",
    "                   \n",
    "x_true_t = tf.constant(x_true, dtype='float32', name='x_true')\n",
    "\n",
    "def preds_fn(guess_var):\n",
    "    return tf.reshape(A_t @ guess_var[:,None]**2, [-1])\n",
    "def loss_fn(y_pred):\n",
    "    return 0.5 * tf.reduce_sum((y_pred - y_t)**2)\n",
    "\n",
    "error_fn = lambda v: tf.reduce_sum((v - x_true_t)**2) / x_true.size\n",
    "\n",
    "proj_lma_opt = LMA(var_constr, preds_fn, loss_fn, name='constr_opt', mu=1e-4, \n",
    "                   diag_hessian_fn=lambda x: 1.0,\n",
    "                   mu_contraction=0.25, \n",
    "                   mu_expansion=4.0,\n",
    "                   min_cg_tol=1e-5, assert_tolerances=False)\n",
    "\n",
    "unconstr_lma_opt = LMA(var_unconstr, preds_fn, loss_fn, name='unconstr_opt', mu=1e-4,\n",
    "                       diag_hessian_fn=lambda x: 1.0,\n",
    "                       mu_contraction=0.25,\n",
    "                       mu_expansion=4.0,\n",
    "                       min_cg_tol=1e-5, assert_tolerances=False)"
   ]
  },
  {
   "cell_type": "code",
   "execution_count": 9,
   "metadata": {},
   "outputs": [],
   "source": [
    "losses_constr = []\n",
    "errors_constr = []\n",
    "losses_unconstr = []\n",
    "errors_unconstr = []\n",
    "for i in range(200):\n",
    "    losses_constr.append(proj_lma_opt.minimize())\n",
    "    losses_unconstr.append(unconstr_lma_opt.minimize())\n",
    "    errors_constr.append(error_fn(var_constr))\n",
    "    errors_unconstr.append(error_fn(var_unconstr))"
   ]
  },
  {
   "cell_type": "code",
   "execution_count": 10,
   "metadata": {},
   "outputs": [
    {
     "data": {
      "image/png": "[encoded data removed]",
      "text/plain": [
       "<Figure size 576x288 with 2 Axes>"
      ]
     },
     "metadata": {
      "needs_background": "light"
     },
     "output_type": "display_data"
    }
   ],
   "source": [
    "\n",
    "plt.figure(figsize=[8,4])\n",
    "plt.subplot(1,2,1)\n",
    "plt.plot(losses_constr, color='red', ls='--', label='constr')\n",
    "plt.plot(losses_unconstr, color='green', label='unconstr')\n",
    "plt.yscale('log')\n",
    "plt.legend(loc='best')\n",
    "plt.title('Loss')\n",
    "plt.subplot(1,2,2)\n",
    "plt.plot(errors_constr, color='red', ls='--', label='constr')\n",
    "plt.plot(errors_unconstr, color='green', label='unconstr')\n",
    "plt.yscale('log')\n",
    "plt.legend(loc='best')\n",
    "plt.title('Errors')\n",
    "plt.show()"
   ]
  },
  {
   "cell_type": "code",
   "execution_count": 12,
   "metadata": {},
   "outputs": [
    {
     "data": {
      "text/plain": [
       "(array([-2.0000005, -2.       , -2.0000007, -1.9999995,  1.9999992,\n",
       "        -2.       ,  1.9999999, -1.9999992,  2.0000005,  2.0000005,\n",
       "        -2.0000005, -2.0000012, -2.0000002, -1.9999994, -2.0000017,\n",
       "        -1.9999999,  1.9999992, -1.9999995,  1.9999986, -2.0000005],\n",
       "       dtype=float32),\n",
       " array([2.0000007, 2.0000002, 2.0000007, 1.9999995, 1.9999992, 1.9999999,\n",
       "        1.9999999, 1.9999993, 2.0000002, 2.0000005, 2.0000005, 2.0000014,\n",
       "        1.9999999, 1.9999992, 2.0000014, 2.       , 1.9999993, 1.999999 ,\n",
       "        1.9999987, 2.0000005], dtype=float32))"
      ]
     },
     "execution_count": 12,
     "metadata": {},
     "output_type": "execute_result"
    }
   ],
   "source": [
    "var_unconstr.numpy(), var_constr.numpy()"
   ]
  },
  {
   "cell_type": "code",
   "execution_count": 13,
   "metadata": {},
   "outputs": [
    {
     "data": {
      "text/plain": [
       "[240, 5703, 139, 200, 1522]"
      ]
     },
     "execution_count": 13,
     "metadata": {},
     "output_type": "execute_result"
    }
   ],
   "source": [
    "[\n",
    "    proj_lma_opt._iteration.numpy(), \n",
    "    proj_lma_opt._total_cg_iterations.numpy(),\n",
    "    proj_lma_opt._total_proj_ls_iterations.numpy(), \n",
    "    unconstr_lma_opt._iteration.numpy(), \n",
    "    unconstr_lma_opt._total_cg_iterations.numpy()\n",
    "]"
   ]
  },
  {
   "cell_type": "markdown",
   "metadata": {},
   "source": [
    "# LM without linesearch "
   ]
  },
  {
   "cell_type": "code",
   "execution_count": 19,
   "metadata": {},
   "outputs": [
    {
     "name": "stdout",
     "output_type": "stream",
     "text": [
      "WARNING:tensorflow:The ftol, gtol, and xtol conditions are adapted from https://docs.scipy.org/doc/scipy/reference/generated/scipy.optimize.least_squares.html.This is a test version, and there is no guarantee that these work as intended.\n",
      "WARNING:tensorflow:The ftol, gtol, and xtol conditions are adapted from https://docs.scipy.org/doc/scipy/reference/generated/scipy.optimize.least_squares.html.This is a test version, and there is no guarantee that these work as intended.\n"
     ]
    }
   ],
   "source": [
    "var_constr = tf.Variable(x_guess, dtype='float32', constraint=constraint_fn)\n",
    "var_unconstr = tf.Variable(x_guess, dtype='float32')\n",
    "\n",
    "proj_lma_opt = LMA(var_constr, preds_fn, loss_fn, name='constr_opt', min_cg_tol=1e-5, assert_tolerances=False, max_mu_linesearch_iters=1)\n",
    "\n",
    "unconstr_lma_opt = LMA(var_unconstr, preds_fn, loss_fn, name='unconstr_opt', min_cg_tol=1e-5, assert_tolerances=False, max_mu_linesearch_iters=1)\n"
   ]
  },
  {
   "cell_type": "code",
   "execution_count": 20,
   "metadata": {},
   "outputs": [
    {
     "name": "stdout",
     "output_type": "stream",
     "text": [
      "WARNING:tensorflow:5 out of the last 7 calls to <function _jvp_helper at 0x7f87f0746790> triggered tf.function retracing. Tracing is expensive and the excessive number of tracings is likely due to passing python objects instead of tensors. Also, tf.function has experimental_relax_shapes=True option that relaxes argument shapes that can avoid unnecessary retracing. Please refer to https://www.tensorflow.org/tutorials/customization/performance#python_or_tensor_args and https://www.tensorflow.org/api_docs/python/tf/function for more details.\n",
      "WARNING:tensorflow:6 out of the last 8 calls to <function _jvp_helper at 0x7f87f0746790> triggered tf.function retracing. Tracing is expensive and the excessive number of tracings is likely due to passing python objects instead of tensors. Also, tf.function has experimental_relax_shapes=True option that relaxes argument shapes that can avoid unnecessary retracing. Please refer to https://www.tensorflow.org/tutorials/customization/performance#python_or_tensor_args and https://www.tensorflow.org/api_docs/python/tf/function for more details.\n"
     ]
    }
   ],
   "source": [
    "losses_constr = []\n",
    "errors_constr = []\n",
    "losses_unconstr = []\n",
    "errors_unconstr = []\n",
    "for i in range(200):\n",
    "    losses_constr.append(proj_lma_opt.minimize())\n",
    "    losses_unconstr.append(unconstr_lma_opt.minimize())\n",
    "    errors_constr.append(error_fn(var_constr))\n",
    "    errors_unconstr.append(error_fn(var_unconstr))"
   ]
  },
  {
   "cell_type": "code",
   "execution_count": 21,
   "metadata": {},
   "outputs": [
    {
     "data": {
      "image/png": "[encoded data removed]",
      "text/plain": [
       "<Figure size 576x288 with 2 Axes>"
      ]
     },
     "metadata": {
      "needs_background": "light"
     },
     "output_type": "display_data"
    }
   ],
   "source": [
    "\n",
    "plt.figure(figsize=[8,4])\n",
    "plt.subplot(1,2,1)\n",
    "plt.plot(np.log(losses_constr), color='red', ls='--', label='constr')\n",
    "plt.plot(np.log(losses_unconstr), color='green', label='unconstr')\n",
    "plt.legend(loc='best')\n",
    "plt.title('Loss')\n",
    "plt.subplot(1,2,2)\n",
    "plt.plot(np.log(errors_constr), color='red', ls='--', label='constr')\n",
    "plt.plot(np.log(errors_unconstr), color='green', label='unconstr')\n",
    "plt.legend(loc='best')\n",
    "plt.title('Errors')\n",
    "plt.show()"
   ]
  },
  {
   "cell_type": "code",
   "execution_count": 24,
   "metadata": {},
   "outputs": [
    {
     "data": {
      "text/plain": [
       "(array([-1.9999998, -1.9999999, -1.9999999, -2.0000002,  2.       ,\n",
       "        -1.9999998,  1.9999999, -2.       ,  2.       ,  2.       ,\n",
       "        -1.9999999, -1.9999996, -1.9999999, -2.0000002, -1.9999999,\n",
       "        -2.0000002,  2.0000002, -1.9999999,  1.9999999, -1.9999999],\n",
       "       dtype=float32),\n",
       " array([2.000001 , 2.       , 2.0000005, 2.       , 1.9999994, 2.0000005,\n",
       "        1.9999996, 1.9999992, 2.0000005, 2.0000007, 2.0000002, 2.0000017,\n",
       "        2.0000002, 1.9999994, 2.0000012, 2.0000005, 1.9999992, 1.9999994,\n",
       "        1.9999987, 2.0000002], dtype=float32))"
      ]
     },
     "execution_count": 24,
     "metadata": {},
     "output_type": "execute_result"
    }
   ],
   "source": [
    "var_unconstr.numpy(), var_constr.numpy()"
   ]
  },
  {
   "cell_type": "code",
   "execution_count": 25,
   "metadata": {},
   "outputs": [
    {
     "data": {
      "text/plain": [
       "[200, 1892, 0, 200, 1492]"
      ]
     },
     "execution_count": 25,
     "metadata": {},
     "output_type": "execute_result"
    }
   ],
   "source": [
    "[\n",
    "    proj_lma_opt._iteration.numpy(), \n",
    "    proj_lma_opt._total_cg_iterations.numpy(),\n",
    "    proj_lma_opt._total_proj_ls_iterations.numpy(), \n",
    "    unconstr_lma_opt._iteration.numpy(), \n",
    "    unconstr_lma_opt._total_cg_iterations.numpy()\n",
    "]"
   ]
  },
  {
   "cell_type": "code",
   "execution_count": null,
   "metadata": {},
   "outputs": [],
   "source": []
  }
 ],
 "metadata": {
  "kernelspec": {
   "display_name": "Python 3",
   "language": "python",
   "name": "python3"
  },
  "language_info": {
   "codemirror_mode": {
    "name": "ipython",
    "version": 3
   },
   "file_extension": ".py",
   "mimetype": "text/x-python",
   "name": "python",
   "nbconvert_exporter": "python",
   "pygments_lexer": "ipython3",
   "version": "3.8.5"
  }
 },
 "nbformat": 4,
 "nbformat_minor": 4
}
