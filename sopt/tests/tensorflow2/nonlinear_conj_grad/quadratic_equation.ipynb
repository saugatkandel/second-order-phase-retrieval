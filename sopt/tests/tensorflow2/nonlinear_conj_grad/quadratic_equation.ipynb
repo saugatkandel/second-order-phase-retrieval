{
 "cells": [
  {
   "cell_type": "code",
   "execution_count": 1,
   "metadata": {},
   "outputs": [],
   "source": [
    "# TODO: Eventually, I need to include comparisons with the scipy conjguate gradient method"
   ]
  },
  {
   "cell_type": "code",
   "execution_count": 1,
   "metadata": {},
   "outputs": [],
   "source": [
    "import numpy as np\n",
    "import tensorflow as tf\n",
    "from sopt.optimizers.tensorflow2.utils import BackTrackingLineSearch, AdaptiveLineSearch\n",
    "import matplotlib.pyplot as plt\n",
    "from sopt.optimizers.tensorflow2 import NonLinearConjugateGradient\n",
    "\n",
    "\n",
    "gpu = tf.config.experimental.list_physical_devices('GPU')[0]\n",
    "tf.config.experimental.set_memory_growth(gpu, True)"
   ]
  },
  {
   "cell_type": "code",
   "execution_count": 2,
   "metadata": {},
   "outputs": [],
   "source": [
    "%load_ext autoreload\n",
    "%autoreload 2"
   ]
  },
  {
   "cell_type": "code",
   "execution_count": 3,
   "metadata": {},
   "outputs": [],
   "source": [
    "x_guess = np.random.randn(100).astype('float32') * 20"
   ]
  },
  {
   "cell_type": "markdown",
   "metadata": {},
   "source": [
    "# Conjugate gradient method "
   ]
  },
  {
   "cell_type": "code",
   "execution_count": 5,
   "metadata": {},
   "outputs": [],
   "source": [
    "\n",
    "objective_fn = lambda x: 0.5 * tf.reduce_sum((x - 2)**2) \n",
    "mean_fn = lambda x: tf.reduce_mean(x).numpy()\n",
    "\n",
    "def obj_and_upd_fn(x, y): \n",
    "    fnval = objective_fn(x + y)\n",
    "    return fnval, x + y\n",
    "\n",
    "v1 = tf.Variable(x_guess)\n",
    "v2 = tf.Variable(x_guess)\n",
    "\n",
    "opt1 = NonLinearConjugateGradient(input_var=v1, objective_fn=objective_fn, name='cg1',\n",
    "                                 linesearch_type='backtracking')\n",
    "opt2 = NonLinearConjugateGradient(input_var=v2, \n",
    "                                 objective_fn=objective_fn,\n",
    "                                 name='cg2',\n",
    "                                 linesearch_type='adaptive')"
   ]
  },
  {
   "cell_type": "code",
   "execution_count": 6,
   "metadata": {},
   "outputs": [],
   "source": [
    "cg_losses_bls = []\n",
    "cg_means_bls = []\n",
    "cg_losses_als = []\n",
    "cg_means_als = []"
   ]
  },
  {
   "cell_type": "code",
   "execution_count": 7,
   "metadata": {},
   "outputs": [
    {
     "name": "stdout",
     "output_type": "stream",
     "text": [
      "CPU times: user 2.76 s, sys: 51.4 ms, total: 2.81 s\n",
      "Wall time: 2.71 s\n"
     ]
    }
   ],
   "source": [
    "%%time\n",
    "for i in range(20):\n",
    "    cg_losses_bls.append(opt1.minimize().numpy())\n",
    "    cg_losses_als.append(opt2.minimize().numpy())\n",
    "    cg_means_bls.append(mean_fn(v1))\n",
    "    cg_means_als.append(mean_fn(v2))"
   ]
  },
  {
   "cell_type": "markdown",
   "metadata": {},
   "source": [
    "# Comparison to backtracking and adaptive gradient descent"
   ]
  },
  {
   "cell_type": "code",
   "execution_count": 8,
   "metadata": {},
   "outputs": [],
   "source": [
    "v1 = tf.Variable(x_guess)\n",
    "v2 = tf.Variable(x_guess)\n",
    "bls_steps = tf.Variable(0, dtype='int32')\n",
    "als_steps = tf.Variable(0, dtype='int32')\n",
    "\n",
    "\n",
    "def loss_grad_fn(x):\n",
    "    with tf.GradientTape() as gt:\n",
    "        loss = objective_fn(x)\n",
    "    return loss, gt.gradient(loss, x)\n",
    "\n",
    "def linesearch_update(ls, v):\n",
    "    loss, grad = loss_grad_fn(v)\n",
    "    ls_out = ls.search(obj_and_upd_fn, v, -grad, grad, loss)\n",
    "    v.assign(ls_out.newx)\n",
    "    return ls_out.newf, mean_fn(v)\n",
    "\n",
    "\n",
    "bls = BackTrackingLineSearch(initial_stepsize=1.0, optimism=3.0)\n",
    "als = AdaptiveLineSearch(initial_stepsize=1.0)"
   ]
  },
  {
   "cell_type": "code",
   "execution_count": 9,
   "metadata": {},
   "outputs": [],
   "source": [
    "bls_losses = []\n",
    "bls_means = []\n",
    "als_losses = []\n",
    "als_means = []"
   ]
  },
  {
   "cell_type": "code",
   "execution_count": 10,
   "metadata": {},
   "outputs": [
    {
     "name": "stdout",
     "output_type": "stream",
     "text": [
      "CPU times: user 693 ms, sys: 23.1 ms, total: 716 ms\n",
      "Wall time: 624 ms\n"
     ]
    }
   ],
   "source": [
    "%%time\n",
    "for i in range(20):\n",
    "    loss1, mean1 = linesearch_update(bls, v1)\n",
    "    bls_losses.append(loss1.numpy())\n",
    "    bls_means.append(mean1)\n",
    "    \n",
    "    loss2, mean2 = linesearch_update(als, v2)\n",
    "    als_losses.append(loss2.numpy())\n",
    "    als_means.append(mean2)"
   ]
  },
  {
   "cell_type": "code",
   "execution_count": 11,
   "metadata": {},
   "outputs": [
    {
     "data": {
      "image/png": "[encoded data removed]",
      "text/plain": [
       "<Figure size 576x288 with 2 Axes>"
      ]
     },
     "metadata": {
      "needs_background": "light"
     },
     "output_type": "display_data"
    }
   ],
   "source": [
    "# Final mean should be 2.0\n",
    "\n",
    "plt.figure(figsize=[8,4])\n",
    "plt.subplot(1, 2, 1)\n",
    "plt.plot(bls_losses, color='red', ls='--', label='BLS')\n",
    "plt.plot(als_losses, color='green', ls='--', label='ALS')\n",
    "plt.plot(cg_losses_bls, color='blue', ls=':', label='CG_BLS')\n",
    "plt.plot(cg_losses_als, color='grey', ls=':', label='CG_ALS')\n",
    "plt.yscale('log')\n",
    "plt.title('Loss')\n",
    "plt.legend(loc='best')\n",
    "plt.subplot(1,2,2)\n",
    "plt.plot(bls_means, color='red', ls='--', label='BLS')\n",
    "plt.plot(als_means, color='green', ls='--', label='ALS')\n",
    "plt.plot(cg_means_bls, color='blue', ls=':', label='CG_BLS')\n",
    "plt.plot(cg_means_als, color='grey', ls=':', label='CG_ALS')\n",
    "plt.hlines(2.0, xmin=0, xmax=10, label='2.0')\n",
    "#plt.yscale('log')\n",
    "plt.title('Mean')\n",
    "plt.legend(loc='best')\n",
    "plt.show()"
   ]
  },
  {
   "cell_type": "code",
   "execution_count": 12,
   "metadata": {},
   "outputs": [
    {
     "data": {
      "text/plain": [
       "([-1.7858521,\n",
       "  -1.7497424,\n",
       "  -1.6782116,\n",
       "  -1.5378792,\n",
       "  -1.2679225,\n",
       "  -0.76920724,\n",
       "  0.07600628,\n",
       "  1.2504838,\n",
       "  2.1655488,\n",
       "  1.9634347,\n",
       "  2.0080764,\n",
       "  1.9982162,\n",
       "  2.0003939,\n",
       "  1.9999129,\n",
       "  2.0000193,\n",
       "  1.9999957,\n",
       "  2.000001,\n",
       "  1.9999996,\n",
       "  2.0,\n",
       "  2.0],\n",
       " [-1.7858521,\n",
       "  -1.7497424,\n",
       "  -1.6782113,\n",
       "  -1.5378792,\n",
       "  -1.2679225,\n",
       "  -0.76920724,\n",
       "  0.076006316,\n",
       "  1.2504838,\n",
       "  2.165549,\n",
       "  1.9634345,\n",
       "  2.0080764,\n",
       "  1.9982162,\n",
       "  2.0003939,\n",
       "  1.9999129,\n",
       "  2.0000193,\n",
       "  1.9999957,\n",
       "  2.000001,\n",
       "  1.9999996,\n",
       "  2.0,\n",
       "  2.0])"
      ]
     },
     "execution_count": 12,
     "metadata": {},
     "output_type": "execute_result"
    }
   ],
   "source": [
    "als_means, cg_means_als"
   ]
  },
  {
   "cell_type": "code",
   "execution_count": null,
   "metadata": {},
   "outputs": [],
   "source": []
  }
 ],
 "metadata": {
  "kernelspec": {
   "display_name": "Python 3",
   "language": "python",
   "name": "python3"
  },
  "language_info": {
   "codemirror_mode": {
    "name": "ipython",
    "version": 3
   },
   "file_extension": ".py",
   "mimetype": "text/x-python",
   "name": "python",
   "nbconvert_exporter": "python",
   "pygments_lexer": "ipython3",
   "version": "3.8.5"
  }
 },
 "nbformat": 4,
 "nbformat_minor": 4
}
