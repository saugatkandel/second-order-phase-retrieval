{
 "cells": [
  {
   "cell_type": "code",
   "execution_count": 1,
   "metadata": {},
   "outputs": [],
   "source": [
    "# TODO: Eventually, I need to include comparisons with the scipy conjguate gradient method"
   ]
  },
  {
   "cell_type": "code",
   "execution_count": 1,
   "metadata": {},
   "outputs": [],
   "source": [
    "import numpy as np\n",
    "import tensorflow as tf\n",
    "import matplotlib.pyplot as plt\n",
    "from tqdm.notebook import tqdm\n",
    "from sopt.optimizers.tensorflow2.utils import BackTrackingLineSearch, AdaptiveLineSearch\n",
    "from sopt.optimizers.tensorflow2 import NonLinearConjugateGradient\n",
    "\n",
    "\n",
    "gpu = tf.config.experimental.list_physical_devices('GPU')[0]\n",
    "tf.config.experimental.set_memory_growth(gpu, True)"
   ]
  },
  {
   "cell_type": "code",
   "execution_count": 2,
   "metadata": {},
   "outputs": [],
   "source": [
    "%load_ext autoreload\n",
    "%autoreload 2"
   ]
  },
  {
   "cell_type": "code",
   "execution_count": 3,
   "metadata": {},
   "outputs": [],
   "source": [
    "def rosenbrock(x):\n",
    "    x_reshaped = np.reshape(x, [2, -1])\n",
    "    return np.sum(100*(x_reshaped[1] - x_reshaped[0]**2)**2 + (1 - x_reshaped[0])**2)"
   ]
  },
  {
   "cell_type": "code",
   "execution_count": 4,
   "metadata": {},
   "outputs": [],
   "source": [
    "x_fn = lambda z: z\n",
    "z_init = np.zeros(10)"
   ]
  },
  {
   "cell_type": "code",
   "execution_count": 5,
   "metadata": {},
   "outputs": [],
   "source": [
    "# Tensorflow\n",
    "\n",
    "v1 = tf.Variable(z_init, dtype='float32')\n",
    "v2 = tf.Variable(z_init, dtype='float32')\n",
    "v3 = tf.Variable(z_init, dtype='float32')\n",
    "v4 = tf.Variable(z_init, dtype='float32')\n",
    "\n",
    "def tf_rosenbrock(x):\n",
    "    x_reshaped = tf.reshape(x, [2, -1])\n",
    "    return tf.reduce_sum(100*(x_reshaped[1] - x_reshaped[0]**2)**2 + (1 - x_reshaped[0])**2)\n",
    "\n",
    "def obj_and_upd_fn(x, y):\n",
    "    return tf_rosenbrock(x + y), x + y\n",
    "\n",
    "def loss_grad_fn(x):\n",
    "    with tf.GradientTape() as gt:\n",
    "        loss = tf_rosenbrock(x)\n",
    "    return loss, gt.gradient(loss, x)\n",
    "\n",
    "opt1 = NonLinearConjugateGradient(v1, tf_rosenbrock, name='ros', linesearch_type='backtracking')\n",
    "opt2 = NonLinearConjugateGradient(v2, tf_rosenbrock, name='ros2', linesearch_type='adaptive')\n",
    "\n",
    "def linesearch_update(ls, v):\n",
    "    loss, grad = loss_grad_fn(v)\n",
    "    ls_out = ls.search(obj_and_upd_fn, v, -grad, grad, loss)\n",
    "    v.assign(ls_out.newx)\n",
    "    return ls_out.newf\n",
    "\n",
    "bls = BackTrackingLineSearch()\n",
    "als = AdaptiveLineSearch()"
   ]
  },
  {
   "cell_type": "code",
   "execution_count": 6,
   "metadata": {},
   "outputs": [
    {
     "data": {
      "application/vnd.jupyter.widget-view+json": {
       "model_id": "381b551ffa1446a2b7fddee858d19441",
       "version_major": 2,
       "version_minor": 0
      },
      "text/plain": [
       "HBox(children=(FloatProgress(value=0.0, max=500.0), HTML(value='')))"
      ]
     },
     "metadata": {},
     "output_type": "display_data"
    },
    {
     "name": "stdout",
     "output_type": "stream",
     "text": [
      "\n",
      "CPU times: user 29.1 s, sys: 1.46 s, total: 30.5 s\n",
      "Wall time: 23.8 s\n"
     ]
    }
   ],
   "source": [
    "%%time\n",
    "\n",
    "cg_als_losses = []\n",
    "cg_bls_losses = []\n",
    "als_losses = []\n",
    "bls_losses = []\n",
    "for i in tqdm(range(500)):\n",
    "    cg_bls_losses.append(opt1.minimize().numpy())\n",
    "    cg_als_losses.append(opt2.minimize().numpy())\n",
    "    als_losses.append(linesearch_update(bls, v3).numpy())\n",
    "    bls_losses.append(linesearch_update(als, v4).numpy())"
   ]
  },
  {
   "cell_type": "code",
   "execution_count": 7,
   "metadata": {},
   "outputs": [
    {
     "data": {
      "image/png": "[encoded data removed]",
      "text/plain": [
       "<Figure size 432x288 with 1 Axes>"
      ]
     },
     "metadata": {
      "needs_background": "light"
     },
     "output_type": "display_data"
    }
   ],
   "source": [
    "plt.plot(cg_als_losses, color='red', ls='--', label='CG_ALS')\n",
    "plt.plot(cg_bls_losses, color='green', ls='--', label='CG_BLS')\n",
    "plt.plot(als_losses, color='blue', ls=':', label='ALS')\n",
    "plt.plot(bls_losses, color='gray', ls=':', label='BLS')\n",
    "plt.yscale('log')\n",
    "plt.title('Loss')\n",
    "plt.legend(loc='best')\n",
    "plt.show()"
   ]
  },
  {
   "cell_type": "code",
   "execution_count": null,
   "metadata": {},
   "outputs": [],
   "source": []
  }
 ],
 "metadata": {
  "kernelspec": {
   "display_name": "Python 3",
   "language": "python",
   "name": "python3"
  },
  "language_info": {
   "codemirror_mode": {
    "name": "ipython",
    "version": 3
   },
   "file_extension": ".py",
   "mimetype": "text/x-python",
   "name": "python",
   "nbconvert_exporter": "python",
   "pygments_lexer": "ipython3",
   "version": "3.8.5"
  }
 },
 "nbformat": 4,
 "nbformat_minor": 4
}
