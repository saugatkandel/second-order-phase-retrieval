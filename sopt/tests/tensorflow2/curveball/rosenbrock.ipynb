{
 "cells": [
  {
   "cell_type": "code",
   "execution_count": 1,
   "metadata": {},
   "outputs": [],
   "source": [
    "# This class tests the classical and ggn versions of curveball method."
   ]
  },
  {
   "cell_type": "code",
   "execution_count": 7,
   "metadata": {},
   "outputs": [],
   "source": [
    "import tensorflow as tf\n",
    "from matplotlib import pyplot as plt\n",
    "from sopt.optimizers.tensorflow2 import Curveball, NonLinearConjugateGradient\n",
    "\n",
    "tf.get_logger().setLevel('ERROR')\n",
    "gpu = tf.config.experimental.list_physical_devices('GPU')[0]\n",
    "tf.config.experimental.set_memory_growth(gpu, True)"
   ]
  },
  {
   "cell_type": "code",
   "execution_count": 3,
   "metadata": {},
   "outputs": [],
   "source": [
    "%load_ext autoreload\n",
    "%autoreload 2"
   ]
  },
  {
   "cell_type": "code",
   "execution_count": 4,
   "metadata": {},
   "outputs": [],
   "source": [
    "def fun_rosenbrock(x):\n",
    "    # outputs the residuals\n",
    "    y1 = 10 * (x[1:] - x[:-1]**2)\n",
    "    y2 = 1 - x[:-1]\n",
    "    return tf.concat((y1, y2), axis=0)\n",
    "\n",
    "def fun_loss(x):\n",
    "    return 0.5 * tf.reduce_sum(x**2)\n",
    "\n",
    "def ggn_preds_fn(v):\n",
    "    return v\n",
    "def ggn_loss_fn(v):\n",
    "    return fun_loss(fun_rosenbrock(v))"
   ]
  },
  {
   "cell_type": "code",
   "execution_count": 5,
   "metadata": {},
   "outputs": [],
   "source": [
    "z_init = tf.zeros(10)"
   ]
  },
  {
   "cell_type": "code",
   "execution_count": 20,
   "metadata": {},
   "outputs": [],
   "source": [
    "# Tensorflow\n",
    "v1 = tf.Variable(z_init, dtype='float32')\n",
    "v2 = tf.Variable(z_init, dtype='float32')\n",
    "v3 = tf.Variable(z_init, dtype='float32')\n",
    "\n",
    "cb1 = Curveball(predictions_fn=fun_rosenbrock, loss_fn=fun_loss, input_var=v1, name='cb1', damping_factor=10)\n",
    "cb2 = Curveball(predictions_fn=ggn_preds_fn, loss_fn=ggn_loss_fn, input_var=v2, name='cb2', damping_factor=10)\n",
    "nlcg_opt = NonLinearConjugateGradient(objective_fn=ggn_loss_fn, input_var=v3, name='cg')"
   ]
  },
  {
   "cell_type": "code",
   "execution_count": 21,
   "metadata": {},
   "outputs": [
    {
     "name": "stdout",
     "output_type": "stream",
     "text": [
      "4.449641\n",
      "3.3076782\n",
      "2.369151\n",
      "1.4390404\n",
      "0.57092047\n",
      "0.09022296\n",
      "0.038870674\n",
      "0.019140748\n",
      "0.010106588\n",
      "0.005557982\n",
      "CPU times: user 1.23 s, sys: 52.1 ms, total: 1.28 s\n",
      "Wall time: 1.03 s\n"
     ]
    }
   ],
   "source": [
    "%%time \n",
    "cb1_losses = []\n",
    "cb2_losses = []\n",
    "for i in range(100):\n",
    "    cb1_losses.append(cb1.minimize().numpy())\n",
    "    if i %10 == 0:\n",
    "        print(cb1_losses[-1])"
   ]
  },
  {
   "cell_type": "code",
   "execution_count": 22,
   "metadata": {},
   "outputs": [
    {
     "name": "stdout",
     "output_type": "stream",
     "text": [
      "4.449641\n",
      "3.2960358\n",
      "2.3895068\n",
      "1.524221\n",
      "0.71631837\n",
      "0.19926429\n",
      "0.06800495\n",
      "0.031105377\n",
      "0.015711933\n",
      "0.008398119\n",
      "CPU times: user 1.61 s, sys: 79.2 ms, total: 1.69 s\n",
      "Wall time: 1.42 s\n"
     ]
    }
   ],
   "source": [
    "%%time \n",
    "cb2_losses = []\n",
    "for i in range(100):\n",
    "    cb2_losses.append(cb2.minimize().numpy())\n",
    "    if i %10 == 0:\n",
    "        print(cb2_losses[-1])"
   ]
  },
  {
   "cell_type": "code",
   "execution_count": 23,
   "metadata": {},
   "outputs": [
    {
     "name": "stdout",
     "output_type": "stream",
     "text": [
      "4.480915\n",
      "4.204812\n",
      "3.1979737\n",
      "2.431549\n",
      "2.2820477\n",
      "1.8382661\n",
      "1.644171\n",
      "1.3159117\n",
      "1.1637033\n",
      "1.0904851\n",
      "CPU times: user 1.06 s, sys: 57.8 ms, total: 1.12 s\n",
      "Wall time: 854 ms\n"
     ]
    }
   ],
   "source": [
    "%%time \n",
    "cg_losses = []\n",
    "for i in range(100):\n",
    "    cg_losses.append(nlcg_opt.minimize().numpy())\n",
    "    if i %10 == 0:\n",
    "        print(cg_losses[-1])"
   ]
  },
  {
   "cell_type": "code",
   "execution_count": 24,
   "metadata": {},
   "outputs": [
    {
     "data": {
      "image/png": "[encoded data removed]",
      "text/plain": [
       "<Figure size 432x288 with 1 Axes>"
      ]
     },
     "metadata": {
      "needs_background": "light"
     },
     "output_type": "display_data"
    }
   ],
   "source": [
    "# The discrepancy here is because curveball requires a matrix inversion step\n",
    "# the matrix becomes singular fairly often\n",
    "# I tried calculating the pseudo inverse myself, but all the approach I tried for this \n",
    "# in tensorflow game solutions less stable and accurate than the numpy counterpart.\n",
    "plt.plot(cb1_losses, color='blue', ls=':', linewidth=5.0, alpha=0.8, label='cb1')\n",
    "plt.plot(cb2_losses, color='green', ls='-.', linewidth=5.0, alpha=0.8, label='cb2')\n",
    "plt.plot(cg_losses, color='red', ls='--', linewidth=5.0, alpha=0.4, label='cg')\n",
    "plt.yscale('log')\n",
    "plt.legend(loc='best')\n",
    "plt.show()"
   ]
  },
  {
   "cell_type": "code",
   "execution_count": null,
   "metadata": {},
   "outputs": [],
   "source": []
  }
 ],
 "metadata": {
  "kernelspec": {
   "display_name": "Python 3",
   "language": "python",
   "name": "python3"
  },
  "language_info": {
   "codemirror_mode": {
    "name": "ipython",
    "version": 3
   },
   "file_extension": ".py",
   "mimetype": "text/x-python",
   "name": "python",
   "nbconvert_exporter": "python",
   "pygments_lexer": "ipython3",
   "version": "3.8.5"
  }
 },
 "nbformat": 4,
 "nbformat_minor": 4
}
