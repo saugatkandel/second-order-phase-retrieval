{
 "cells": [
  {
   "cell_type": "code",
   "execution_count": 1,
   "metadata": {},
   "outputs": [],
   "source": [
    "import numpy as np\n",
    "import tensorflow as tf\n",
    "from matplotlib import pyplot as plt\n",
    "from sopt.optimizers.tensorflow2 import Curveball, NonLinearConjugateGradient\n",
    "\n",
    "\n",
    "gpu = tf.config.experimental.list_physical_devices('GPU')[0]\n",
    "tf.config.experimental.set_memory_growth(gpu, True)"
   ]
  },
  {
   "cell_type": "code",
   "execution_count": 2,
   "metadata": {},
   "outputs": [],
   "source": [
    "%load_ext autoreload\n",
    "%autoreload 2"
   ]
  },
  {
   "cell_type": "code",
   "execution_count": 3,
   "metadata": {},
   "outputs": [],
   "source": [
    "z_true = tf.constant(np.random.randn(3,100).astype('float32'))\n",
    "\n",
    "random_mat = np.random.randn(3,3)\n",
    "random_symmetric_mat = random_mat + random_mat.T\n",
    "evals, evecs = np.linalg.eig(random_symmetric_mat)\n"
   ]
  },
  {
   "cell_type": "code",
   "execution_count": 4,
   "metadata": {},
   "outputs": [],
   "source": [
    "affine_transform = tf.constant(evecs, dtype='float32')\n",
    "\n",
    "y_true = tf.reshape(affine_transform @ z_true, [-1])\n",
    "#y_true_flat = y_true.flatten()"
   ]
  },
  {
   "cell_type": "code",
   "execution_count": 24,
   "metadata": {},
   "outputs": [],
   "source": [
    "def y_pred(z_flat):\n",
    "    z_arr = tf.reshape(z_flat, (3, -1))\n",
    "    return tf.reshape(affine_transform @ z_arr, [-1])\n",
    "\n",
    "def loss_fn(y):\n",
    "    return 0.5 * tf.reduce_sum((y - y_true)**2)\n",
    "def diag_hessian_fn(v):\n",
    "    return 1.0"
   ]
  },
  {
   "cell_type": "code",
   "execution_count": 25,
   "metadata": {},
   "outputs": [],
   "source": [
    "z_guess = np.random.randn(300).astype('float32')\n",
    "v1 = tf.Variable(z_guess)\n",
    "v2 = tf.Variable(z_guess)\n",
    "v3 = tf.Variable(z_guess)\n",
    "\n",
    "v4 = tf.Variable(z_guess)\n",
    "v5 = tf.Variable(z_guess)"
   ]
  },
  {
   "cell_type": "code",
   "execution_count": 26,
   "metadata": {},
   "outputs": [],
   "source": [
    "# Testing the hvp implementations"
   ]
  },
  {
   "cell_type": "code",
   "execution_count": 27,
   "metadata": {},
   "outputs": [],
   "source": [
    "cb1 = Curveball(input_var=v1, predictions_fn=y_pred, loss_fn=loss_fn, \n",
    "                diag_hessian_fn=diag_hessian_fn, name='cb1', damping_factor=1e-4,\n",
    "                new_version=False)\n",
    "cb2 = Curveball(input_var=v2, predictions_fn=y_pred, loss_fn=loss_fn, \n",
    "                name='cb2', \n",
    "                new_version=False)\n",
    "cg = NonLinearConjugateGradient(input_var=v3, objective_fn=lambda v: loss_fn(y_pred(v)), name='cg')"
   ]
  },
  {
   "cell_type": "code",
   "execution_count": 28,
   "metadata": {},
   "outputs": [],
   "source": [
    "cb4 = Curveball(input_var=v4, predictions_fn=y_pred, loss_fn=loss_fn, diag_hessian_fn=diag_hessian_fn, name='cb4', new_version=True)\n",
    "cb5 = Curveball(input_var=v5, predictions_fn=y_pred, loss_fn=loss_fn, name='cb5', new_version=True)"
   ]
  },
  {
   "cell_type": "code",
   "execution_count": 29,
   "metadata": {},
   "outputs": [
    {
     "name": "stdout",
     "output_type": "stream",
     "text": [
      "2.6567527e-06 66.48072 243.36116 66.48072 66.48072\n",
      "1.2996213e-07 16.620178 202.98117 16.620178 16.620178\n",
      "7.0658204e-09 6.492258 138.67464 6.492258 6.492258\n",
      "3.9337495e-13 6.492258 59.151264 6.492258 6.492258\n",
      "1.1260438e-13 1.6230648 5.5463457 1.6230648 1.6230648\n",
      "8.876234e-14 9.377128e-13 0.83314985 9.377128e-13 9.377128e-13\n",
      "7.5855995e-14 9.377128e-13 0.12515236 9.377128e-13 9.377128e-13\n",
      "6.145085e-14 3.6073152e-13 0.01879989 3.6073152e-13 3.6073152e-13\n",
      "5.4317668e-14 2.0550845e-13 0.0028240406 2.0550845e-13 2.0550845e-13\n",
      "5.3901335e-14 1.7987097e-13 0.00042421732 1.7987097e-13 1.7987097e-13\n",
      "6.153412e-14 1.6441111e-13 6.3725645e-05 1.6441111e-13 1.6441111e-13\n",
      "5.9230405e-14 1.6552134e-13 9.57342e-06 1.6552134e-13 1.6552134e-13\n",
      "5.4761757e-14 1.6246649e-13 1.4382442e-06 1.6246649e-13 1.6246649e-13\n",
      "5.3901335e-14 1.6357671e-13 2.1598649e-07 1.6357671e-13 1.6357671e-13\n",
      "5.4317668e-14 1.6291058e-13 3.244205e-08 1.6291058e-13 1.6291058e-13\n",
      "6.1117784e-14 1.6557511e-13 4.8792703e-09 1.6557511e-13 1.6557511e-13\n",
      "5.964674e-14 1.6224444e-13 7.399677e-10 1.6224444e-13 1.6224444e-13\n",
      "5.4345424e-14 1.6379876e-13 1.1300945e-10 1.6379876e-13 1.6379876e-13\n",
      "5.4317668e-14 1.6268853e-13 1.7224238e-11 1.6268853e-13 1.6268853e-13\n",
      "5.3901335e-14 1.6379876e-13 2.8646035e-12 1.6379876e-13 1.6379876e-13\n"
     ]
    }
   ],
   "source": [
    "cb_losses1 = []\n",
    "cb_losses2 = []\n",
    "cg_losses = []\n",
    "\n",
    "cb_losses4 = []\n",
    "cb_losses5 = []\n",
    "\n",
    "for i in range(20):\n",
    "    cb_losses1.append(cb1.minimize().numpy())\n",
    "    cb_losses2.append(cb2.minimize().numpy())\n",
    "    cg_losses.append(cg.minimize().numpy())\n",
    "    \n",
    "    cb_losses4.append(cb4.minimize().numpy())\n",
    "    cb_losses5.append(cb5.minimize().numpy())\n",
    "    print(cb_losses1[-1], cb_losses2[-1], cg_losses[-1], cb_losses4[-1], cb_losses5[-1])"
   ]
  },
  {
   "cell_type": "code",
   "execution_count": 67,
   "metadata": {},
   "outputs": [
    {
     "name": "stdout",
     "output_type": "stream",
     "text": [
      "3.414999e-11 3.414999e-11 1.9058366e-13\n",
      "9.683915e-12 9.683915e-12 7.7757245e-14\n",
      "2.27313e-12 2.27313e-12 6.9097505e-14\n",
      "7.548927e-13 7.548927e-13 3.5235703e-14\n",
      "3.933416e-13 3.933416e-13 2.935152e-14\n",
      "2.9422471e-13 2.9422471e-13 2.2246094e-14\n",
      "2.6891163e-13 2.6891163e-13 1.8138269e-14\n",
      "1.9996678e-13 1.9996678e-13 1.769418e-14\n",
      "2.323853e-13 2.323853e-13 1.769418e-14\n",
      "1.9996678e-13 1.9996678e-13 1.769418e-14\n",
      "2.323853e-13 2.323853e-13 1.769418e-14\n",
      "1.9996678e-13 1.9996678e-13 1.769418e-14\n",
      "2.323853e-13 2.323853e-13 1.769418e-14\n",
      "1.9996678e-13 1.9996678e-13 1.769418e-14\n",
      "2.323853e-13 2.323853e-13 1.769418e-14\n",
      "1.9996678e-13 1.9996678e-13 1.769418e-14\n",
      "2.323853e-13 2.323853e-13 1.769418e-14\n",
      "1.9996678e-13 1.9996678e-13 1.769418e-14\n",
      "2.323853e-13 2.323853e-13 1.769418e-14\n",
      "1.9996678e-13 1.9996678e-13 1.769418e-14\n"
     ]
    }
   ],
   "source": [
    "cb_losses1 = []\n",
    "cb_losses2 = []\n",
    "cg_losses = []\n",
    "\n",
    "for i in range(20):\n",
    "    cb_losses1.append(cb1.minimize().numpy())\n",
    "    cb_losses2.append(cb2.minimize().numpy())\n",
    "    cg_losses.append(cg.minimize().numpy())\n",
    "    print(cb_losses1[-1], cb_losses2[-1], cg_losses[-1])"
   ]
  },
  {
   "cell_type": "code",
   "execution_count": 74,
   "metadata": {},
   "outputs": [
    {
     "data": {
      "image/png": "[encoded data removed]",
      "text/plain": [
       "<Figure size 432x288 with 1 Axes>"
      ]
     },
     "metadata": {
      "needs_background": "light"
     },
     "output_type": "display_data"
    }
   ],
   "source": [
    "plt.plot(cb_losses1, color='blue', ls=':', linewidth=5.0, alpha=0.8, label='cb1')\n",
    "plt.plot(cb_losses2, color='green', ls='--', linewidth=5.0, alpha=0.4, label='cb2')\n",
    "plt.plot(cg_losses, color='red', ls=':', linewidth=5.0, alpha=0.8, label='cg')\n",
    "plt.yscale('log')\n",
    "plt.legend(loc='best')\n",
    "plt.show()"
   ]
  },
  {
   "cell_type": "code",
   "execution_count": null,
   "metadata": {},
   "outputs": [],
   "source": []
  }
 ],
 "metadata": {
  "kernelspec": {
   "display_name": "Python 3",
   "language": "python",
   "name": "python3"
  },
  "language_info": {
   "codemirror_mode": {
    "name": "ipython",
    "version": 3
   },
   "file_extension": ".py",
   "mimetype": "text/x-python",
   "name": "python",
   "nbconvert_exporter": "python",
   "pygments_lexer": "ipython3",
   "version": "3.8.5"
  }
 },
 "nbformat": 4,
 "nbformat_minor": 4
}
