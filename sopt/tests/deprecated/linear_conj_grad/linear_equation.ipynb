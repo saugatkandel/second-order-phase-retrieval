{
 "cells": [
  {
   "cell_type": "code",
   "execution_count": 1,
   "metadata": {},
   "outputs": [],
   "source": [
    "# Comparing my tensorflow implementation of the linear conjugate gradient method to the scipy.\n",
    "# Since my implementation assumes float32 arrays, the accuracy of the results is going to be quite a bit lower.\n",
    "# however, the output should be"
   ]
  },
  {
   "cell_type": "code",
   "execution_count": 2,
   "metadata": {},
   "outputs": [
    {
     "name": "stdout",
     "output_type": "stream",
     "text": [
      "WARNING:tensorflow:From /raid/home/skandel/miniconda3/envs/tf2/lib/python3.8/site-packages/tensorflow/python/compat/v2_compat.py:96: disable_resource_variables (from tensorflow.python.ops.variable_scope) is deprecated and will be removed in a future version.\n",
      "Instructions for updating:\n",
      "non-resource variables are not supported in the long term\n"
     ]
    }
   ],
   "source": [
    "import numpy as np\n",
    "from scipy.sparse import linalg\n",
    "import tensorflow.compat.v1 as tf\n",
    "from sopt.optimizers.tensorflow.utils import MatrixFreeLinearOp, conjugate_gradient\n",
    "import matplotlib.pyplot as plt\n",
    "\n",
    "tf.disable_v2_behavior()"
   ]
  },
  {
   "cell_type": "code",
   "execution_count": 3,
   "metadata": {},
   "outputs": [],
   "source": [
    "# Creating a linear system."
   ]
  },
  {
   "cell_type": "code",
   "execution_count": 4,
   "metadata": {},
   "outputs": [],
   "source": [
    "m = np.random.randn(20, 20)\n",
    "\n",
    "A = m @ m.T"
   ]
  },
  {
   "cell_type": "code",
   "execution_count": 5,
   "metadata": {},
   "outputs": [
    {
     "data": {
      "text/plain": [
       "array([6.33893902e+01, 5.12762203e+01, 4.97880905e+01, 4.02159401e+01,\n",
       "       3.29227876e+01, 2.61270069e+01, 2.58879488e+01, 2.24258209e+01,\n",
       "       1.68808849e+01, 1.55332185e+01, 1.08107994e+01, 9.39300268e+00,\n",
       "       7.31278903e+00, 6.13714863e+00, 5.57917772e+00, 3.24729125e-03,\n",
       "       3.53786373e-01, 3.34788856e+00, 1.64040087e+00, 2.26245463e+00])"
      ]
     },
     "execution_count": 5,
     "metadata": {},
     "output_type": "execute_result"
    }
   ],
   "source": [
    "# Ensuring the matrix is symmetric and positive definite. All eigvals should be positive\n",
    "np.linalg.eigvals(A)"
   ]
  },
  {
   "cell_type": "code",
   "execution_count": 6,
   "metadata": {},
   "outputs": [],
   "source": [
    "A_precond = np.linalg.inv(A * 5 + 1)"
   ]
  },
  {
   "cell_type": "code",
   "execution_count": 7,
   "metadata": {},
   "outputs": [],
   "source": [
    "x_true = np.random.randn(20)\n",
    "y = (A @ x_true[:,None]).reshape(-1)\n",
    "x0 = np.random.randn(20)"
   ]
  },
  {
   "cell_type": "code",
   "execution_count": 8,
   "metadata": {},
   "outputs": [],
   "source": [
    "# Results using scipy\n",
    "def getScipyErrors(maxiter):\n",
    "    x_pred = linalg.cg(A, y, maxiter=maxiter, x0=x0)[0]\n",
    "    pcg_x_pred = linalg.cg(A, y, maxiter=maxiter, M=A_precond, x0=x0)[0]\n",
    "    errors = x_pred - x_true\n",
    "    errors_pcg = pcg_x_pred - x_true\n",
    "    return np.sum(errors**2), np.sum(errors_pcg**2)"
   ]
  },
  {
   "cell_type": "code",
   "execution_count": 9,
   "metadata": {},
   "outputs": [],
   "source": [
    "# Using my conjugate gradient method"
   ]
  },
  {
   "cell_type": "code",
   "execution_count": 10,
   "metadata": {},
   "outputs": [],
   "source": [
    "tf.reset_default_graph()"
   ]
  },
  {
   "cell_type": "code",
   "execution_count": 11,
   "metadata": {},
   "outputs": [],
   "source": [
    "A_t = tf.constant(A, dtype='float32')\n",
    "A_precond_t = tf.constant(A_precond, dtype='float32')\n",
    "y_t = tf.constant(y, dtype='float32')\n",
    "x_true_t = tf.constant(x_true, dtype='float32')\n",
    "x0_t = tf.constant(x0, dtype='float32')"
   ]
  },
  {
   "cell_type": "code",
   "execution_count": 12,
   "metadata": {},
   "outputs": [],
   "source": [
    "matvec = lambda x: tf.reshape(A_t @ x[:, None], [-1])"
   ]
  },
  {
   "cell_type": "code",
   "execution_count": 13,
   "metadata": {},
   "outputs": [],
   "source": [
    "linop = MatrixFreeLinearOp(operator=matvec, shape=y_t.get_shape())"
   ]
  },
  {
   "cell_type": "code",
   "execution_count": 14,
   "metadata": {},
   "outputs": [],
   "source": [
    "precond_matvec = lambda x: tf.reshape(A_precond_t @ x[:, None], [-1])\n",
    "precond_linop = MatrixFreeLinearOp(operator=precond_matvec, shape=y_t.get_shape())"
   ]
  },
  {
   "cell_type": "code",
   "execution_count": 15,
   "metadata": {},
   "outputs": [],
   "source": [
    "maxiter = tf.placeholder(tf.int32, shape=[])\n",
    "x_pred_t = conjugate_gradient(linop, y_t, tol=1e-6, max_iter=maxiter, x=x0_t)\n",
    "errors_t = x_pred_t.x - x_true_t\n",
    "lsq_errors_t = tf.reduce_sum(errors_t**2)"
   ]
  },
  {
   "cell_type": "code",
   "execution_count": 16,
   "metadata": {},
   "outputs": [],
   "source": [
    "pcg_x_pred_t = conjugate_gradient(linop, y_t, tol=1e-6, max_iter=maxiter, preconditioner=precond_linop, x=x0_t)\n",
    "pcg_errors_t = pcg_x_pred_t.x - x_true_t\n",
    "pcg_lsq_errors_t = tf.reduce_sum(pcg_errors_t**2)"
   ]
  },
  {
   "cell_type": "code",
   "execution_count": 17,
   "metadata": {},
   "outputs": [],
   "source": [
    "sess = tf.Session()\n",
    "sess.run(tf.global_variables_initializer())"
   ]
  },
  {
   "cell_type": "code",
   "execution_count": 18,
   "metadata": {},
   "outputs": [
    {
     "name": "stdout",
     "output_type": "stream",
     "text": [
      "CPU times: user 18 µs, sys: 5 µs, total: 23 µs\n",
      "Wall time: 46.3 µs\n"
     ]
    }
   ],
   "source": [
    "%time \n",
    "lsq_errors_scipy = []\n",
    "lsq_errors_pcg_scipy = []\n",
    "lsq_errors_tf = []\n",
    "lsq_errors_pcg_tf = []\n",
    "for i in range(1,50):\n",
    "    se1, se2 = getScipyErrors(i)\n",
    "    lsq_errors_scipy.append(se1)\n",
    "    lsq_errors_pcg_scipy.append(se2)\n",
    "    e1, e2 = sess.run([lsq_errors_t, pcg_lsq_errors_t], feed_dict={maxiter:i})\n",
    "    lsq_errors_tf.append(e1)\n",
    "    lsq_errors_pcg_tf.append(e2)"
   ]
  },
  {
   "cell_type": "code",
   "execution_count": 19,
   "metadata": {},
   "outputs": [],
   "source": [
    "# The tensorflow results are less accurate after a point."
   ]
  },
  {
   "cell_type": "code",
   "execution_count": 20,
   "metadata": {},
   "outputs": [
    {
     "data": {
      "image/png": "[encoded data removed]",
      "text/plain": [
       "<Figure size 432x288 with 1 Axes>"
      ]
     },
     "metadata": {
      "needs_background": "light"
     },
     "output_type": "display_data"
    }
   ],
   "source": [
    "plt.plot(lsq_errors_scipy, color='red', label='scipy')\n",
    "plt.plot(lsq_errors_pcg_scipy, color='red', ls=\":\", label='scipy_p', markevery=0.2, marker='>')\n",
    "plt.plot(lsq_errors_tf, color='blue', ls='--', label='tf')\n",
    "plt.plot(lsq_errors_pcg_tf, color='green', ls=':', label='tfp', markevery=0.2, marker='o')\n",
    "plt.legend(loc='best')\n",
    "plt.yscale('log')\n",
    "plt.ylim([1e-20, 5])\n",
    "#plt.yscale('log')\n",
    "plt.show()"
   ]
  },
  {
   "cell_type": "code",
   "execution_count": null,
   "metadata": {},
   "outputs": [],
   "source": []
  }
 ],
 "metadata": {
  "kernelspec": {
   "display_name": "Python 3",
   "language": "python",
   "name": "python3"
  },
  "language_info": {
   "codemirror_mode": {
    "name": "ipython",
    "version": 3
   },
   "file_extension": ".py",
   "mimetype": "text/x-python",
   "name": "python",
   "nbconvert_exporter": "python",
   "pygments_lexer": "ipython3",
   "version": "3.8.5"
  }
 },
 "nbformat": 4,
 "nbformat_minor": 4
}
