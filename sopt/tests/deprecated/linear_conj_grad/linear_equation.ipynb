{
 "cells": [
  {
   "cell_type": "code",
   "execution_count": null,
   "metadata": {},
   "outputs": [],
   "source": [
    "# Comparing my tensorflow implementation of the linear conjugate gradient method to the scipy.\n",
    "# Since my implementation assumes float32 arrays, the accuracy of the results is going to be quite a bit lower.\n",
    "# however, the output should be"
   ]
  },
  {
   "cell_type": "code",
   "execution_count": 2,
   "metadata": {},
   "outputs": [],
   "source": [
    "import numpy as np\n",
    "from scipy.sparse import linalg\n",
    "import tensorflow as tf\n",
    "from sopt.optimizers.tensorflow.utils import MatrixFreeLinearOp, conjugate_gradient\n",
    "import matplotlib.pyplot as plt"
   ]
  },
  {
   "cell_type": "code",
   "execution_count": 3,
   "metadata": {},
   "outputs": [],
   "source": [
    "# Creating a linear system."
   ]
  },
  {
   "cell_type": "code",
   "execution_count": 4,
   "metadata": {},
   "outputs": [],
   "source": [
    "m = np.random.randn(20, 20)\n",
    "\n",
    "A = m @ m.T"
   ]
  },
  {
   "cell_type": "code",
   "execution_count": 5,
   "metadata": {},
   "outputs": [
    {
     "data": {
      "text/plain": [
       "array([5.91334514e+01, 4.92110216e+01, 3.99611533e+01, 3.45376174e+01,\n",
       "       3.23181988e+01, 2.42207034e+01, 2.17553577e+01, 1.69006128e+01,\n",
       "       1.37958778e+01, 9.80994641e+00, 9.08417418e+00, 7.59292889e+00,\n",
       "       6.16346664e+00, 3.17523812e+00, 2.32691485e+00, 1.59224717e+00,\n",
       "       3.48651608e-03, 2.23039432e-01, 9.38569114e-01, 7.40838434e-01])"
      ]
     },
     "execution_count": 5,
     "metadata": {},
     "output_type": "execute_result"
    }
   ],
   "source": [
    "# Ensuring the matrix is symmetric and positive definite. All eigvals should be positive\n",
    "np.linalg.eigvals(A)"
   ]
  },
  {
   "cell_type": "code",
   "execution_count": 6,
   "metadata": {},
   "outputs": [],
   "source": [
    "A_precond = np.linalg.inv(A * 5 + 1)"
   ]
  },
  {
   "cell_type": "code",
   "execution_count": 7,
   "metadata": {},
   "outputs": [],
   "source": [
    "x_true = np.random.randn(20)\n",
    "y = (A @ x_true[:,None]).reshape(-1)\n",
    "x0 = np.random.randn(20)"
   ]
  },
  {
   "cell_type": "code",
   "execution_count": 8,
   "metadata": {},
   "outputs": [],
   "source": [
    "# Results using scipy\n",
    "def getScipyErrors(maxiter):\n",
    "    x_pred = linalg.cg(A, y, maxiter=maxiter, x0=x0)[0]\n",
    "    pcg_x_pred = linalg.cg(A, y, maxiter=maxiter, M=A_precond, x0=x0)[0]\n",
    "    errors = x_pred - x_true\n",
    "    errors_pcg = pcg_x_pred - x_true\n",
    "    return np.sum(errors**2), np.sum(errors_pcg**2)"
   ]
  },
  {
   "cell_type": "code",
   "execution_count": 9,
   "metadata": {},
   "outputs": [],
   "source": [
    "# Using my conjugate gradient method"
   ]
  },
  {
   "cell_type": "code",
   "execution_count": 10,
   "metadata": {},
   "outputs": [],
   "source": [
    "tf.reset_default_graph()"
   ]
  },
  {
   "cell_type": "code",
   "execution_count": 11,
   "metadata": {},
   "outputs": [],
   "source": [
    "A_t = tf.constant(A, dtype='float32')\n",
    "A_precond_t = tf.constant(A_precond, dtype='float32')\n",
    "y_t = tf.constant(y, dtype='float32')\n",
    "x_true_t = tf.constant(x_true, dtype='float32')\n",
    "x0_t = tf.constant(x0, dtype='float32')"
   ]
  },
  {
   "cell_type": "code",
   "execution_count": 12,
   "metadata": {},
   "outputs": [],
   "source": [
    "matvec = lambda x: tf.reshape(A_t @ x[:, None], [-1])"
   ]
  },
  {
   "cell_type": "code",
   "execution_count": 13,
   "metadata": {},
   "outputs": [],
   "source": [
    "linop = MatrixFreeLinearOp(operator=matvec, shape=y_t.get_shape())"
   ]
  },
  {
   "cell_type": "code",
   "execution_count": 14,
   "metadata": {},
   "outputs": [],
   "source": [
    "precond_matvec = lambda x: tf.reshape(A_precond_t @ x[:, None], [-1])\n",
    "precond_linop = MatrixFreeLinearOp(operator=precond_matvec, shape=y_t.get_shape())"
   ]
  },
  {
   "cell_type": "code",
   "execution_count": 15,
   "metadata": {},
   "outputs": [],
   "source": [
    "maxiter = tf.placeholder(tf.int32, shape=[])\n",
    "x_pred_t = conjugate_gradient(linop, y_t, tol=1e-6, max_iter=maxiter, x=x0_t)\n",
    "errors_t = x_pred_t.x - x_true_t\n",
    "lsq_errors_t = tf.reduce_sum(errors_t**2)"
   ]
  },
  {
   "cell_type": "code",
   "execution_count": 16,
   "metadata": {},
   "outputs": [],
   "source": [
    "pcg_x_pred_t = conjugate_gradient(linop, y_t, tol=1e-6, max_iter=maxiter, preconditioner=precond_linop, x=x0_t)\n",
    "pcg_errors_t = pcg_x_pred_t.x - x_true_t\n",
    "pcg_lsq_errors_t = tf.reduce_sum(pcg_errors_t**2)"
   ]
  },
  {
   "cell_type": "code",
   "execution_count": 17,
   "metadata": {},
   "outputs": [],
   "source": [
    "sess = tf.Session()\n",
    "sess.run(tf.global_variables_initializer())"
   ]
  },
  {
   "cell_type": "code",
   "execution_count": 18,
   "metadata": {},
   "outputs": [],
   "source": [
    "lsq_errors_scipy = []\n",
    "lsq_errors_pcg_scipy = []\n",
    "lsq_errors_tf = []\n",
    "lsq_errors_pcg_tf = []\n",
    "for i in range(1,50):\n",
    "    se1, se2 = getScipyErrors(i)\n",
    "    lsq_errors_scipy.append(se1)\n",
    "    lsq_errors_pcg_scipy.append(se2)\n",
    "    e1, e2 = sess.run([lsq_errors_t, pcg_lsq_errors_t], feed_dict={maxiter:i})\n",
    "    lsq_errors_tf.append(e1)\n",
    "    lsq_errors_pcg_tf.append(e2)"
   ]
  },
  {
   "cell_type": "code",
   "execution_count": 22,
   "metadata": {},
   "outputs": [
    {
     "data": {
      "text/plain": [
       "CGState(i=2, x=array([ 0.89555   , -1.1711347 ,  1.0844897 ,  0.20900443,  0.06882337,\n",
       "        1.1495142 ,  0.2549181 , -0.24491906,  1.7467738 , -0.06774941,\n",
       "       -1.1341972 ,  0.8200023 ,  0.14578445, -0.89128417,  1.2413588 ,\n",
       "       -0.3120194 , -0.2895892 ,  1.9303468 ,  0.08984564, -0.24353632],\n",
       "      dtype=float32), r=array([-0.00134233, -0.00541121, -0.00576572,  0.00515923, -0.00470891,\n",
       "       -0.00152343, -0.0035232 , -0.01250515,  0.00458801,  0.00140582,\n",
       "       -0.01142921, -0.00327327, -0.00290361, -0.00017695, -0.00540475,\n",
       "       -0.00301073,  0.00490722,  0.00040232, -0.00267526, -0.0014395 ],\n",
       "      dtype=float32), p=array([-9.3750416e-05, -1.4546918e-04,  2.3346936e-04, -2.9718372e-05,\n",
       "       -2.8330961e-04,  7.7095414e-05, -2.1225525e-05, -3.8679829e-04,\n",
       "       -1.2960237e-04, -1.0597952e-04,  1.5269817e-04, -2.2388774e-04,\n",
       "       -2.0887765e-04,  1.2537552e-04,  1.6556986e-04, -2.1530970e-05,\n",
       "       -3.5012919e-05, -1.2900705e-04,  6.8011534e-05, -6.8898968e-05],\n",
       "      dtype=float32), gamma=3.2337543e-06, r_check=0.44003344)"
      ]
     },
     "execution_count": 22,
     "metadata": {},
     "output_type": "execute_result"
    }
   ],
   "source": [
    "sess.run(pcg_x_pred_t, feed_dict={maxiter:2})"
   ]
  },
  {
   "cell_type": "code",
   "execution_count": 23,
   "metadata": {},
   "outputs": [
    {
     "data": {
      "text/plain": [
       "(array([ 0.89505555, -1.17188686,  1.08575223,  0.20885108,  0.06731419,\n",
       "         1.14992458,  0.25480018, -0.24695197,  1.74607555, -0.06830677,\n",
       "        -1.13336571,  0.8188121 ,  0.144662  , -0.89061604,  1.24226667,\n",
       "        -0.3121334 , -0.289776  ,  1.929665  ,  0.09022263, -0.24391601]),\n",
       " 0)"
      ]
     },
     "execution_count": 23,
     "metadata": {},
     "output_type": "execute_result"
    }
   ],
   "source": [
    " linalg.cg(A, y, maxiter=2, M=A_precond, x0=x0)"
   ]
  },
  {
   "cell_type": "code",
   "execution_count": 151,
   "metadata": {},
   "outputs": [
    {
     "data": {
      "text/plain": [
       "array([-0.88576584,  0.02956672,  0.3995625 ,  0.05235155,  0.30806722,\n",
       "       -0.32455984,  0.07704874,  0.2130691 , -0.17643215,  0.02576647,\n",
       "        0.13246974, -0.35094607,  0.39992595, -0.16832022,  0.05209812,\n",
       "       -0.94169653,  0.28960878,  0.01115067,  0.19486158, -0.20790812])"
      ]
     },
     "execution_count": 151,
     "metadata": {},
     "output_type": "execute_result"
    }
   ],
   "source": [
    "A_precond @ x0"
   ]
  },
  {
   "cell_type": "code",
   "execution_count": 147,
   "metadata": {},
   "outputs": [],
   "source": [
    "# The tensorflow results are less accurate after a point."
   ]
  },
  {
   "cell_type": "code",
   "execution_count": 40,
   "metadata": {},
   "outputs": [
    {
     "data": {
      "image/png": "[encoded data removed]",
      "text/plain": [
       "<Figure size 432x288 with 1 Axes>"
      ]
     },
     "metadata": {
      "needs_background": "light"
     },
     "output_type": "display_data"
    }
   ],
   "source": [
    "plt.plot(lsq_errors_scipy, color='red', label='scipy')\n",
    "plt.plot(lsq_errors_pcg_scipy, color='red', ls=\":\", label='scipy_p', markevery=0.2, marker='>')\n",
    "plt.plot(lsq_errors_tf, color='blue', ls='--', label='tf')\n",
    "plt.plot(lsq_errors_pcg_tf, color='green', ls=':', label='tfp', markevery=0.2, marker='o')\n",
    "plt.legend(loc='best')\n",
    "plt.yscale('log')\n",
    "plt.ylim([1e-20, 5])\n",
    "#plt.yscale('log')\n",
    "plt.show()"
   ]
  },
  {
   "cell_type": "code",
   "execution_count": null,
   "metadata": {},
   "outputs": [],
   "source": []
  }
 ],
 "metadata": {
  "kernelspec": {
   "display_name": "Python 3",
   "language": "python",
   "name": "python3"
  },
  "language_info": {
   "codemirror_mode": {
    "name": "ipython",
    "version": 3
   },
   "file_extension": ".py",
   "mimetype": "text/x-python",
   "name": "python",
   "nbconvert_exporter": "python",
   "pygments_lexer": "ipython3",
   "version": "3.7.6"
  }
 },
 "nbformat": 4,
 "nbformat_minor": 4
}
