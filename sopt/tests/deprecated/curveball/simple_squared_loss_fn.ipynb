{
 "cells": [
  {
   "cell_type": "code",
   "execution_count": 1,
   "metadata": {},
   "outputs": [],
   "source": [
    "# This class tests whether the tensorflow and autograd versions give identical outputs for a simple least squared loss function"
   ]
  },
  {
   "cell_type": "code",
   "execution_count": 1,
   "metadata": {},
   "outputs": [],
   "source": [
    "from autograd import numpy as np\n",
    "import tensorflow as tf\n",
    "from matplotlib import pyplot as plt\n",
    "from sopt.optimizers.autograd.curveball import Curveball as agCb\n",
    "from sopt.optimizers.tensorflow import Curveball as tfCb"
   ]
  },
  {
   "cell_type": "code",
   "execution_count": 2,
   "metadata": {},
   "outputs": [],
   "source": [
    "%load_ext autoreload\n",
    "%autoreload 2"
   ]
  },
  {
   "cell_type": "code",
   "execution_count": 21,
   "metadata": {},
   "outputs": [],
   "source": [
    "z_true = np.random.randn(3,100).astype('float32')\n",
    "\n",
    "random_mat = np.random.randn(3,3)\n",
    "random_symmetric_mat = random_mat + random_mat.T\n",
    "evals, evecs = np.linalg.eig(random_symmetric_mat)\n",
    "affine_transform = evecs\n",
    "\n",
    "y_true = affine_transform @ z_true\n",
    "y_true_flat = y_true.flatten()"
   ]
  },
  {
   "cell_type": "code",
   "execution_count": 22,
   "metadata": {},
   "outputs": [],
   "source": [
    "def y_pred(z_flat):\n",
    "    z_arr = np.reshape(z_flat, (3, -1))\n",
    "    return (affine_transform @ z_arr).flatten()\n",
    "\n",
    "def loss_fn(y):\n",
    "    return 0.5 * np.sum((y - y_true_flat)**2)"
   ]
  },
  {
   "cell_type": "code",
   "execution_count": 23,
   "metadata": {},
   "outputs": [],
   "source": [
    "z_guess = np.random.randn(300).astype('float32')"
   ]
  },
  {
   "cell_type": "code",
   "execution_count": 24,
   "metadata": {},
   "outputs": [],
   "source": [
    "# Testing the autograd implementations"
   ]
  },
  {
   "cell_type": "code",
   "execution_count": 35,
   "metadata": {},
   "outputs": [],
   "source": [
    "cb_ag1 = agCb(z_guess, y_pred, loss_fn, squared_loss=True)\n",
    "cb_ag2 = agCb(z_guess, y_pred, loss_fn, squared_loss=False)"
   ]
  },
  {
   "cell_type": "code",
   "execution_count": 36,
   "metadata": {},
   "outputs": [],
   "source": [
    "ag_losses1 = []\n",
    "ag_losses2 = []\n",
    "\n",
    "for i in range(20):\n",
    "    out1 = cb_ag1.minimize()\n",
    "    lossval = loss_fn(y_pred(out1))\n",
    "    out2 = cb_ag2.minimize()\n",
    "    ag_losses1.append(loss_fn(y_pred(out1)))\n",
    "    ag_losses2.append(loss_fn(y_pred(out2)))"
   ]
  },
  {
   "cell_type": "code",
   "execution_count": 37,
   "metadata": {},
   "outputs": [],
   "source": [
    "# Tensorflow test"
   ]
  },
  {
   "cell_type": "code",
   "execution_count": 38,
   "metadata": {},
   "outputs": [],
   "source": [
    "tf.reset_default_graph()\n",
    "var1 = tf.get_variable('var1', dtype=tf.float32, initializer=z_guess)\n",
    "var2 = tf.get_variable('var2', dtype=tf.float32, initializer=z_guess)\n",
    "\n",
    "tf_y_true = tf.convert_to_tensor(y_true_flat, dtype='float32', name='y_true')\n",
    "tf_affine_transform = tf.convert_to_tensor(affine_transform, dtype='float32', name='affine_transform')\n",
    "\n",
    "def tf_y_pred(z):\n",
    "    return tf.reshape(tf_affine_transform @ tf.reshape(z, [3, -1]), [-1])\n",
    "def tf_loss(y_pred):\n",
    "    return 0.5 * tf.reduce_sum((tf_y_true - y_pred)**2)\n",
    "\n",
    "preds1 = tf_y_pred(var1)\n",
    "preds2 = tf_y_pred(var2)\n",
    "loss_tensor1 = tf_loss(preds1)\n",
    "loss_tensor2 = tf_loss(preds2)\n",
    "ct1 = tfCb(var1, tf_y_pred, tf_loss, name='opt1', diag_hessian_fn=lambda x: 1.0, \n",
    "           damping_update_frequency=5, damping_update_factor= 0.999, damping_factor=1.0)\n",
    "ct2 = tfCb(var2, tf_y_pred, tf_loss, name='opt2',\n",
    "           damping_update_frequency=5, damping_update_factor= 0.999, damping_factor=1.0)\n",
    "\n",
    "ct1_min = ct1.minimize()\n",
    "ct2_min = ct2.minimize()\n",
    "\n",
    "session = tf.Session()\n",
    "session.run(tf.global_variables_initializer())"
   ]
  },
  {
   "cell_type": "code",
   "execution_count": 39,
   "metadata": {},
   "outputs": [],
   "source": [
    "tf_losses1 = []\n",
    "tf_losses2 = []\n",
    "tf_lambdas = []\n",
    "for i in range(20):\n",
    "    session.run([ct1_min, ct2_min])\n",
    "    lossval1, lossval2 = session.run([loss_tensor1, loss_tensor2])\n",
    "    \n",
    "    tf_losses1.append(lossval1)\n",
    "    tf_losses2.append(lossval2)\n",
    "    "
   ]
  },
  {
   "cell_type": "code",
   "execution_count": 40,
   "metadata": {},
   "outputs": [
    {
     "data": {
      "image/png": "[encoded data removed]",
      "text/plain": [
       "<Figure size 432x288 with 1 Axes>"
      ]
     },
     "metadata": {
      "needs_background": "light"
     },
     "output_type": "display_data"
    }
   ],
   "source": [
    "# Any discrepancy here is because curveball requires a matrix inversion step\n",
    "# the matrix becomes singular fairly often\n",
    "# I tried calculating the pseudo inverse myself, but all the approach I tried for this \n",
    "# in tensorflow game solutions less stable and accurate than the numpy counterpart.\n",
    "\n",
    "plt.plot(ag_losses1, color='blue', ls=':', linewidth=5.0, alpha=0.8, label='ag_sq_true')\n",
    "plt.plot(ag_losses2, color='green', ls='--', linewidth=5.0, alpha=0.4, label='ag_sq_false')\n",
    "plt.plot(tf_losses1, color='red', ls=':', linewidth=5.0, alpha=0.8, label='tf_1')\n",
    "plt.plot(tf_losses2, color='orange', ls='--', linewidth=5.0, alpha=0.4, label='tf_2')\n",
    "plt.yscale('log')\n",
    "plt.legend(loc='best')\n",
    "plt.show()"
   ]
  },
  {
   "cell_type": "code",
   "execution_count": 41,
   "metadata": {},
   "outputs": [
    {
     "name": "stdout",
     "output_type": "stream",
     "text": [
      "[74.59124732585968, 18.62915935768164, 4.652631385258821, 1.1619943976790017, 0.29020802819569896, 0.0724794369038785, 0.01810173483678006, 0.004520907144127649, 0.0011290962766892672, 0.0002819917245346435] [74.591255, 18.629154, 4.6526294, 1.161994, 0.2902078, 0.072479315, 0.018101713, 0.0045208964, 0.0011290973, 0.00028199455]\n"
     ]
    }
   ],
   "source": [
    "print(ag_losses1[:10], tf_losses1[:10])"
   ]
  }
 ],
 "metadata": {
  "kernelspec": {
   "display_name": "Python 3",
   "language": "python",
   "name": "python3"
  },
  "language_info": {
   "codemirror_mode": {
    "name": "ipython",
    "version": 3
   },
   "file_extension": ".py",
   "mimetype": "text/x-python",
   "name": "python",
   "nbconvert_exporter": "python",
   "pygments_lexer": "ipython3",
   "version": "3.7.6"
  }
 },
 "nbformat": 4,
 "nbformat_minor": 4
}
