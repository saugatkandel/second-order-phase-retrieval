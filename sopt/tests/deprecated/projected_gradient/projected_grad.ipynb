{
 "cells": [
  {
   "cell_type": "code",
   "execution_count": 1,
   "metadata": {},
   "outputs": [],
   "source": [
    "# Testing whether the projected gradient method works\n",
    "#  Without the constraints, the problem admits both +x and -x as solutions.\n",
    "# With the constraints, we should only get +x"
   ]
  },
  {
   "cell_type": "code",
   "execution_count": 2,
   "metadata": {},
   "outputs": [],
   "source": [
    "import numpy as np\n",
    "import tensorflow as tf\n",
    "import matplotlib.pyplot as plt\n",
    "from sopt.optimizers.tensorflow import ProjectedGradient\n",
    "from sopt.optimizers.tensorflow.utils.linesearch import AdaptiveLineSearch"
   ]
  },
  {
   "cell_type": "code",
   "execution_count": 3,
   "metadata": {},
   "outputs": [],
   "source": [
    "%load_ext autoreload\n",
    "%autoreload 2"
   ]
  },
  {
   "cell_type": "code",
   "execution_count": 4,
   "metadata": {},
   "outputs": [],
   "source": [
    "x_true = np.ones(20, dtype='float32') * 2\n",
    "\n",
    "random_mat = np.random.randn(20,20)\n",
    "A = random_mat @ random_mat / np.max(random_mat)**2\n",
    "\n",
    "# The output data could be from x=2 or x=-2.\n",
    "y = np.reshape(A @ x_true**2, [-1])"
   ]
  },
  {
   "cell_type": "code",
   "execution_count": 5,
   "metadata": {},
   "outputs": [],
   "source": [
    "x_guess = np.random.randn(20).astype('float32') * 10"
   ]
  },
  {
   "cell_type": "code",
   "execution_count": 6,
   "metadata": {},
   "outputs": [
    {
     "name": "stdout",
     "output_type": "stream",
     "text": [
      "WARNING:tensorflow:From /home/skandel/miniconda3/envs/tf1/lib/python3.7/site-packages/tensorflow_core/python/ops/math_grad.py:1375: where (from tensorflow.python.ops.array_ops) is deprecated and will be removed in a future version.\n",
      "Instructions for updating:\n",
      "Use tf.where in 2.0, which has the same broadcast rule as np.where\n",
      "WARNING:tensorflow:From /home/skandel/code/sopt/sopt/optimizers/tensorflow/projected_gradient.py:48: The name tf.variable_scope is deprecated. Please use tf.compat.v1.variable_scope instead.\n",
      "\n"
     ]
    }
   ],
   "source": [
    "tf.reset_default_graph()\n",
    "\n",
    "# x = 0 is also a stationary point. We are trying to avoid that by using clip_value_min > 0\n",
    "constraint_fn = lambda x: tf.clip_by_value(x, clip_value_min=0.1, clip_value_max=2.1)\n",
    "var_constr = tf.Variable(x_guess, dtype='float32', constraint=constraint_fn)\n",
    "var_unconstr = tf.Variable(x_guess, dtype='float32')\n",
    "\n",
    "y_t = tf.constant(y, dtype='float32')\n",
    "A_t = tf.constant(A, dtype='float32')                   \n",
    "                   \n",
    "x_true_t = tf.constant(x_true, dtype='float32', name='x_true')\n",
    "\n",
    "def preds_fn(guess_var):\n",
    "    return tf.reshape(A_t @ guess_var[:,None]**2, [-1])\n",
    "#def loss_fn(y_pred):\n",
    "#    return 0.5 * tf.reduce_sum((y_pred - y_t)**2)\n",
    "def loss_fn(var):\n",
    "    return 0.5 * tf.reduce_mean((preds_fn(var) - y_t)**2)\n",
    "\n",
    "loss_constr_t = loss_fn(var_constr)\n",
    "error_constr_t = tf.reduce_mean((var_constr - x_true_t)**2)\n",
    "\n",
    "loss_unconstr_t = loss_fn(var_unconstr)\n",
    "error_unconstr_t = tf.reduce_mean((var_unconstr - x_true_t)**2)\n",
    "\n",
    "proj_opt = ProjectedGradient(var_constr, loss_fn, name='constr_opt')\n",
    "proj_min_op = proj_opt.minimize()\n",
    "\n",
    "unconstr_opt = ProjectedGradient(var_unconstr, loss_fn, name='unconstr_opt')\n",
    "unconstr_min_op = unconstr_opt.minimize()\n",
    "\n",
    "#loss_and_update_fn = lambda x, y: loss_fn(x + y), x + y \n",
    "#loss_as_t = loss_fn()\n",
    "#grad\n",
    "\n",
    "#linesearch = AdaptiveLineSearch()\n",
    "\n",
    "session = tf.Session()\n",
    "session.run(tf.global_variables_initializer())"
   ]
  },
  {
   "cell_type": "code",
   "execution_count": 7,
   "metadata": {},
   "outputs": [
    {
     "data": {
      "text/plain": [
       "[137369.33, 137369.33, 106.38924, 106.38924]"
      ]
     },
     "execution_count": 7,
     "metadata": {},
     "output_type": "execute_result"
    }
   ],
   "source": [
    "session.run([loss_constr_t, loss_unconstr_t, error_constr_t, error_unconstr_t])"
   ]
  },
  {
   "cell_type": "code",
   "execution_count": 33,
   "metadata": {},
   "outputs": [],
   "source": [
    "losses_constr = []\n",
    "errors_constr = []\n",
    "losses_unconstr = []\n",
    "errors_unconstr = []"
   ]
  },
  {
   "cell_type": "code",
   "execution_count": 34,
   "metadata": {},
   "outputs": [
    {
     "name": "stdout",
     "output_type": "stream",
     "text": [
      "       0 constr       10.6      1.63        217.01e-11 unconstr  7.78e+04        94         17.35e-05\n",
      "      50 constr      0.546     0.887        88   0.151 unconstr      24.1      15.7        81  0.0188\n",
      "     100 constr      0.281     0.466       183   0.301 unconstr      2.66       8.8       163  0.0376\n",
      "     150 constr     0.0989     0.196       279   0.151 unconstr     0.309      6.74       253  0.0753\n",
      "     200 constr     0.0396    0.0894       367   0.301 unconstr    0.0963      6.26       332  0.0753\n",
      "     250 constr     0.0149    0.0409       458   0.301 unconstr     0.055       6.1       420  0.0753\n",
      "     300 constr    0.00551    0.0227       548   0.151 unconstr    0.0423      6.08       508  0.0753\n",
      "     350 constr    0.00236    0.0164       639  0.0753 unconstr    0.0348       6.1       595   0.151\n",
      "     400 constr    0.00118    0.0127       721   0.151 unconstr    0.0293      6.14       684  0.0753\n",
      "     450 constr   0.000671    0.0107       805   0.151 unconstr    0.0245      6.18       771   0.151\n",
      "     500 constr   0.000439   0.00939       890   0.151 unconstr    0.0204      6.22       860   0.151\n",
      "     550 constr   0.000323   0.00842       973   0.301 unconstr    0.0167      6.26       947  0.0753\n",
      "     600 constr   0.000256   0.00768      1058  0.0753 unconstr    0.0136      6.29      1031   0.301\n",
      "     650 constr   0.000215   0.00708      1145   0.151 unconstr    0.0112      6.33      1120  0.0753\n",
      "     700 constr   0.000182   0.00657      1235  0.0753 unconstr   0.00922      6.36      1207   0.151\n",
      "     750 constr   0.000157   0.00611      1323   0.151 unconstr   0.00766      6.38      1294  0.0753\n",
      "     800 constr   0.000137   0.00571      1409   0.151 unconstr   0.00651      6.41      1381  0.0753\n",
      "     850 constr   0.000121   0.00535      1499  0.0753 unconstr   0.00563      6.43      1468  0.0753\n",
      "     900 constr   0.000108   0.00504      1587   0.151 unconstr   0.00497      6.45      1555   0.151\n",
      "     950 constr   9.73e-05   0.00477      1674   0.602 unconstr    0.0044      6.47      1641   0.151\n",
      "    1000 constr   8.87e-05   0.00454      1765   0.301 unconstr   0.00397      6.48      1724   0.301\n",
      "    1050 constr   8.14e-05   0.00433      1855   0.301 unconstr   0.00362       6.5      1811   0.151\n",
      "    1100 constr   7.47e-05   0.00413      1944   0.151 unconstr   0.00336      6.51      1899  0.0753\n",
      "    1150 constr   6.95e-05   0.00397      2035  0.0753 unconstr   0.00314      6.53      1980   0.301\n",
      "    1200 constr   6.46e-05    0.0038      2122   0.301 unconstr   0.00296      6.54      2066  0.0753\n",
      "    1250 constr    6.1e-05   0.00367      2215   0.151 unconstr   0.00282      6.55      2154   0.151\n",
      "    1300 constr   5.72e-05   0.00354      2303   0.151 unconstr    0.0027      6.57      2239  0.0753\n",
      "    1350 constr   5.42e-05   0.00342      2392   0.151 unconstr    0.0026      6.58      2326   0.151\n",
      "    1400 constr   5.16e-05   0.00332      2483   0.151 unconstr   0.00251      6.59      2411  0.0753\n",
      "    1450 constr   4.88e-05   0.00321      2573  0.0753 unconstr   0.00243       6.6      2495   0.151\n",
      "    1500 constr   4.64e-05   0.00311      2662   0.151 unconstr   0.00235      6.61      2579   0.151\n",
      "    1550 constr   4.44e-05   0.00302      2753   0.151 unconstr   0.00228      6.62      2664   0.151\n",
      "    1600 constr   4.25e-05   0.00293      2843   0.151 unconstr   0.00222      6.63      2744   0.151\n",
      "    1650 constr   4.07e-05   0.00285      2935   0.151 unconstr   0.00216      6.64      2824   0.301\n",
      "    1700 constr    3.9e-05   0.00278      3026   0.301 unconstr    0.0021      6.65      2908   0.151\n",
      "    1750 constr   3.75e-05    0.0027      3119   0.151 unconstr   0.00204      6.65      2991   0.151\n",
      "    1800 constr   3.61e-05   0.00263      3211   0.151 unconstr   0.00199      6.66      3076   0.151\n",
      "    1850 constr   3.47e-05   0.00256      3300   0.301 unconstr   0.00194      6.67      3162  0.0753\n",
      "    1900 constr   3.34e-05    0.0025      3392  0.0753 unconstr   0.00188      6.68      3248   0.301\n",
      "    1950 constr   3.21e-05   0.00243      3485   0.151 unconstr   0.00183      6.69      3339   0.151\n"
     ]
    }
   ],
   "source": [
    "for i in range(2000):\n",
    "    session.run([proj_min_op, unconstr_min_op])\n",
    "    l1, l2, e1, e2, ls1, ls2 = session.run([loss_constr_t, loss_unconstr_t, \n",
    "                                            error_constr_t, error_unconstr_t, \n",
    "                                            proj_opt._linesearch_iterations, unconstr_opt._linesearch_iterations])\n",
    "    alpha1, alpha2 = session.run([proj_opt._linesearch._alpha, unconstr_opt._linesearch._alpha])\n",
    "    losses_constr.append(l1)\n",
    "    errors_constr.append(e1)\n",
    "    losses_unconstr.append(l2)\n",
    "    errors_unconstr.append(e2)\n",
    "    if i % 50 == 0:\n",
    "        print(f'{i:8d} constr {l1:10.3g}{e1:10.3g}{ls1:10d}{alpha1:8.3g} unconstr{l2:10.3g}{e2:10.3g}{ls2:10d}{alpha2:8.3g}')"
   ]
  },
  {
   "cell_type": "code",
   "execution_count": 35,
   "metadata": {},
   "outputs": [
    {
     "data": {
      "image/png": "[encoded data removed]",
      "text/plain": [
       "<Figure size 576x288 with 2 Axes>"
      ]
     },
     "metadata": {
      "needs_background": "light"
     },
     "output_type": "display_data"
    }
   ],
   "source": [
    "\n",
    "plt.figure(figsize=[8,4])\n",
    "plt.subplot(1,2,1)\n",
    "plt.plot(losses_constr, color='red', ls='--', label='constr')\n",
    "plt.plot(losses_unconstr, color='green', label='unconstr')\n",
    "plt.yscale('log')\n",
    "plt.legend(loc='best')\n",
    "plt.title('Loss')\n",
    "plt.subplot(1,2,2)\n",
    "plt.plot(errors_constr, color='red', ls='--', label='constr')\n",
    "plt.plot(errors_unconstr, color='green', label='unconstr')\n",
    "plt.yscale('log')\n",
    "plt.legend(loc='best')\n",
    "plt.title('Errors')\n",
    "plt.show()"
   ]
  },
  {
   "cell_type": "code",
   "execution_count": 36,
   "metadata": {},
   "outputs": [
    {
     "data": {
      "text/plain": [
       "[array([-1.9474392,  1.5239054, -1.7397401,  2.2085707,  2.2883282,\n",
       "         2.079077 ,  2.13291  ,  2.5188837,  2.1475902,  2.1700957,\n",
       "        -1.8948554, -1.9078925,  2.196532 , -2.1148746, -2.226457 ,\n",
       "         2.098402 , -1.8034678,  2.5370429, -1.3051622, -1.557167 ],\n",
       "       dtype=float32),\n",
       " array([2.0219696, 2.0970383, 2.0048847, 2.000141 , 1.9283347, 1.9824817,\n",
       "        2.0056608, 1.9026554, 1.9376279, 2.0075166, 2.0387979, 2.001208 ,\n",
       "        1.9914469, 1.9732109, 1.959043 , 1.9905131, 2.0364697, 1.9046984,\n",
       "        2.061464 , 2.0189376], dtype=float32)]"
      ]
     },
     "execution_count": 36,
     "metadata": {},
     "output_type": "execute_result"
    }
   ],
   "source": [
    "session.run([var_unconstr, var_constr])"
   ]
  },
  {
   "cell_type": "code",
   "execution_count": null,
   "metadata": {},
   "outputs": [],
   "source": []
  }
 ],
 "metadata": {
  "kernelspec": {
   "display_name": "Python 3",
   "language": "python",
   "name": "python3"
  },
  "language_info": {
   "codemirror_mode": {
    "name": "ipython",
    "version": 3
   },
   "file_extension": ".py",
   "mimetype": "text/x-python",
   "name": "python",
   "nbconvert_exporter": "python",
   "pygments_lexer": "ipython3",
   "version": "3.7.9"
  }
 },
 "nbformat": 4,
 "nbformat_minor": 4
}
