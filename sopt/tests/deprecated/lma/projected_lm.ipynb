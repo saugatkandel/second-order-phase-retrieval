{
 "cells": [
  {
   "cell_type": "code",
   "execution_count": 1,
   "metadata": {},
   "outputs": [],
   "source": [
    "# Testing whether the projected LM approach works\n",
    "#  Without the constraints, the problem admits both +x and -x as solutions.\n",
    "# With the constraints, we should only get +x"
   ]
  },
  {
   "cell_type": "code",
   "execution_count": 2,
   "metadata": {},
   "outputs": [],
   "source": [
    "import numpy as np\n",
    "import tensorflow as tf\n",
    "import matplotlib.pyplot as plt\n",
    "from sopt.optimizers.tensorflow.lma import LMA"
   ]
  },
  {
   "cell_type": "code",
   "execution_count": 3,
   "metadata": {},
   "outputs": [],
   "source": [
    "%load_ext autoreload\n",
    "%autoreload 2"
   ]
  },
  {
   "cell_type": "code",
   "execution_count": 4,
   "metadata": {},
   "outputs": [],
   "source": [
    "x_true = np.ones(20, dtype='float32') * 2\n",
    "\n",
    "random_mat = np.random.randn(20,20)\n",
    "A = random_mat @ random_mat\n",
    "\n",
    "# The output data could be from x=2 or x=-2.\n",
    "y = np.reshape(A @ x_true**2, [-1])"
   ]
  },
  {
   "cell_type": "code",
   "execution_count": 11,
   "metadata": {},
   "outputs": [],
   "source": [
    "x_guess = np.random.randn(20).astype('float32') * 10"
   ]
  },
  {
   "cell_type": "markdown",
   "metadata": {},
   "source": [
    "# LMA - linesearch for damping param"
   ]
  },
  {
   "cell_type": "code",
   "execution_count": 15,
   "metadata": {},
   "outputs": [
    {
     "name": "stdout",
     "output_type": "stream",
     "text": [
      "WARNING:tensorflow:The ftol, gtol, and xtol conditions are adapted from https://docs.scipy.org/doc/scipy/reference/generated/scipy.optimize.least_squares.html.This is a test version, and there is no guarantee that these work as intended.\n",
      "WARNING:tensorflow:case: An unordered dictionary of predicate/fn pairs was provided, but exclusive=False. The order of conditional tests is deterministic but not guaranteed.\n",
      "WARNING:tensorflow:The ftol, gtol, and xtol conditions are adapted from https://docs.scipy.org/doc/scipy/reference/generated/scipy.optimize.least_squares.html.This is a test version, and there is no guarantee that these work as intended.\n",
      "WARNING:tensorflow:case: An unordered dictionary of predicate/fn pairs was provided, but exclusive=False. The order of conditional tests is deterministic but not guaranteed.\n"
     ]
    }
   ],
   "source": [
    "tf.reset_default_graph()\n",
    "\n",
    "# x = 0 is also a stationary point. We are trying to avoid that by using clip_value_min > 0\n",
    "constraint_fn = lambda x: tf.clip_by_value(x, clip_value_min=0.1, clip_value_max=2.1)\n",
    "var_constr = tf.Variable(x_guess, dtype='float32', constraint=constraint_fn)\n",
    "var_unconstr = tf.Variable(x_guess, dtype='float32')\n",
    "\n",
    "y_t = tf.constant(y, dtype='float32')\n",
    "A_t = tf.constant(A, dtype='float32')                   \n",
    "                   \n",
    "x_true_t = tf.constant(x_true, dtype='float32', name='x_true')\n",
    "\n",
    "def preds_fn(guess_var):\n",
    "    return tf.reshape(A_t @ guess_var[:,None]**2, [-1])\n",
    "def loss_fn(y_pred):\n",
    "    return 0.5 * tf.reduce_sum((y_pred - y_t)**2)\n",
    "\n",
    "preds_constr_t = preds_fn(var_constr)\n",
    "loss_constr_t = loss_fn(preds_constr_t)\n",
    "error_constr_t = tf.reduce_sum((var_constr - x_true_t)**2) / x_true.size\n",
    "\n",
    "preds_unconstr_t = preds_fn(var_unconstr)\n",
    "loss_unconstr_t = loss_fn(preds_unconstr_t)\n",
    "error_unconstr_t = tf.reduce_sum((var_unconstr - x_true_t)**2)  / x_true.size\n",
    "\n",
    "proj_lma_opt = LMA(var_constr, preds_fn, loss_fn, name='constr_opt', mu=1e-4, \n",
    "                   diag_hessian_fn=lambda x: 1.0,\n",
    "                   mu_contraction=0.25, \n",
    "                   mu_expansion=4.0,\n",
    "                   min_cg_tol=1e-5, assert_tolerances=False)\n",
    "proj_lma_min_op = proj_lma_opt.minimize()\n",
    "\n",
    "unconstr_lma_opt = LMA(var_unconstr, preds_fn, loss_fn, name='unconstr_opt', mu=1e-4,\n",
    "                       diag_hessian_fn=lambda x: 1.0,\n",
    "                       mu_contraction=0.25,\n",
    "                       mu_expansion=4.0,\n",
    "                       min_cg_tol=1e-5, assert_tolerances=False)\n",
    "unconstr_lma_min_op = unconstr_lma_opt.minimize()\n",
    "\n",
    "session = tf.Session()\n",
    "session.run(tf.global_variables_initializer())"
   ]
  },
  {
   "cell_type": "code",
   "execution_count": 16,
   "metadata": {},
   "outputs": [],
   "source": [
    "losses_constr = []\n",
    "errors_constr = []\n",
    "losses_unconstr = []\n",
    "errors_unconstr = []\n",
    "for i in range(200):\n",
    "    session.run([proj_lma_min_op, unconstr_lma_min_op])\n",
    "    l1, l2, e1, e2 = session.run([loss_constr_t, loss_unconstr_t, error_constr_t, error_unconstr_t])\n",
    "    losses_constr.append(l1)\n",
    "    errors_constr.append(e1)\n",
    "    losses_unconstr.append(l2)\n",
    "    errors_unconstr.append(e2)"
   ]
  },
  {
   "cell_type": "code",
   "execution_count": 17,
   "metadata": {},
   "outputs": [
    {
     "data": {
      "image/png": "[encoded data removed]",
      "text/plain": [
       "<Figure size 576x288 with 2 Axes>"
      ]
     },
     "metadata": {
      "needs_background": "light"
     },
     "output_type": "display_data"
    }
   ],
   "source": [
    "\n",
    "plt.figure(figsize=[8,4])\n",
    "plt.subplot(1,2,1)\n",
    "plt.plot(losses_constr, color='red', ls='--', label='constr')\n",
    "plt.plot(losses_unconstr, color='green', label='unconstr')\n",
    "plt.yscale('log')\n",
    "plt.legend(loc='best')\n",
    "plt.title('Loss')\n",
    "plt.subplot(1,2,2)\n",
    "plt.plot(errors_constr, color='red', ls='--', label='constr')\n",
    "plt.plot(errors_unconstr, color='green', label='unconstr')\n",
    "plt.yscale('log')\n",
    "plt.legend(loc='best')\n",
    "plt.title('Errors')\n",
    "plt.show()"
   ]
  },
  {
   "cell_type": "code",
   "execution_count": 18,
   "metadata": {},
   "outputs": [
    {
     "data": {
      "text/plain": [
       "[array([-1.7203963 ,  0.4249166 , -2.7824402 ,  2.0181494 , -2.630975  ,\n",
       "         2.1386611 , -1.9505926 , -1.6628932 ,  2.2243211 , -1.855572  ,\n",
       "         2.390224  , -2.6916802 , -2.476908  ,  1.4224641 , -0.00722936,\n",
       "         2.518274  ,  2.9308245 ,  3.0213323 ,  2.390731  , -2.6059122 ],\n",
       "       dtype=float32),\n",
       " array([2.0685525, 2.0769415, 1.7288269, 1.8855394, 2.0332649, 2.045604 ,\n",
       "        1.7943376, 2.1      , 1.6871872, 2.04233  , 1.927038 , 1.812147 ,\n",
       "        1.7101033, 2.1      , 2.1      , 1.7658204, 1.81355  , 1.5800934,\n",
       "        1.905693 , 1.6789714], dtype=float32)]"
      ]
     },
     "execution_count": 18,
     "metadata": {},
     "output_type": "execute_result"
    }
   ],
   "source": [
    "session.run([var_unconstr, var_constr])"
   ]
  },
  {
   "cell_type": "code",
   "execution_count": 19,
   "metadata": {},
   "outputs": [
    {
     "data": {
      "text/plain": [
       "([221, 5634, 356], [294, 6422])"
      ]
     },
     "execution_count": 19,
     "metadata": {},
     "output_type": "execute_result"
    }
   ],
   "source": [
    "session.run([proj_lma_opt._iteration, proj_lma_opt._total_cg_iterations, proj_lma_opt._total_proj_ls_iterations]), session.run([unconstr_lma_opt._iteration, unconstr_lma_opt._total_cg_iterations])"
   ]
  },
  {
   "cell_type": "code",
   "execution_count": 20,
   "metadata": {},
   "outputs": [
    {
     "data": {
      "text/plain": [
       "[0.03874566, 8.73569]"
      ]
     },
     "execution_count": 20,
     "metadata": {},
     "output_type": "execute_result"
    }
   ],
   "source": [
    "session.run([error_constr_t, error_unconstr_t])"
   ]
  },
  {
   "cell_type": "markdown",
   "metadata": {},
   "source": [
    "# LM without linesearch "
   ]
  },
  {
   "cell_type": "code",
   "execution_count": 21,
   "metadata": {},
   "outputs": [
    {
     "name": "stdout",
     "output_type": "stream",
     "text": [
      "WARNING:tensorflow:The ftol, gtol, and xtol conditions are adapted from https://docs.scipy.org/doc/scipy/reference/generated/scipy.optimize.least_squares.html.This is a test version, and there is no guarantee that these work as intended.\n",
      "WARNING:tensorflow:case: An unordered dictionary of predicate/fn pairs was provided, but exclusive=False. The order of conditional tests is deterministic but not guaranteed.\n",
      "WARNING:tensorflow:The ftol, gtol, and xtol conditions are adapted from https://docs.scipy.org/doc/scipy/reference/generated/scipy.optimize.least_squares.html.This is a test version, and there is no guarantee that these work as intended.\n",
      "WARNING:tensorflow:case: An unordered dictionary of predicate/fn pairs was provided, but exclusive=False. The order of conditional tests is deterministic but not guaranteed.\n"
     ]
    }
   ],
   "source": [
    "tf.reset_default_graph()\n",
    "\n",
    "# x = 0 is also a stationary point. We are trying to avoid that by using clip_value_min > 0\n",
    "constraint_fn = lambda x: tf.clip_by_value(x, clip_value_min=0.01, clip_value_max=2.1)\n",
    "var_constr = tf.Variable(x_guess, dtype='float32', constraint=constraint_fn)\n",
    "var_unconstr = tf.Variable(x_guess, dtype='float32')\n",
    "\n",
    "y_t = tf.constant(y, dtype='float32')\n",
    "A_t = tf.constant(A, dtype='float32')                   \n",
    "                   \n",
    "x_true_t = tf.constant(x_true, dtype='float32', name='x_true')\n",
    "\n",
    "def preds_fn(guess_var):\n",
    "    return tf.reshape(A_t @ guess_var[:,None]**2, [-1])\n",
    "def loss_fn(y_pred):\n",
    "    return 0.5 * tf.reduce_sum((y_pred - y_t)**2)\n",
    "\n",
    "preds_constr_t = preds_fn(var_constr)\n",
    "loss_constr_t = loss_fn(preds_constr_t)\n",
    "error_constr_t = tf.reduce_sum((var_constr - x_true_t)**2) / x_true.size\n",
    "\n",
    "preds_unconstr_t = preds_fn(var_unconstr)\n",
    "loss_unconstr_t = loss_fn(preds_unconstr_t)\n",
    "error_unconstr_t = tf.reduce_sum((var_unconstr - x_true_t)**2)  / x_true.size\n",
    "\n",
    "proj_lma_opt = LMA(var_constr, preds_fn, loss_fn, name='constr_opt', min_cg_tol=1e-5, assert_tolerances=False, max_mu_linesearch_iters=1)\n",
    "proj_lma_min_op = proj_lma_opt.minimize()\n",
    "\n",
    "unconstr_lma_opt = LMA(var_unconstr, preds_fn, loss_fn, name='unconstr_opt', min_cg_tol=1e-5, assert_tolerances=False, max_mu_linesearch_iters=1)\n",
    "unconstr_lma_min_op = unconstr_lma_opt.minimize()\n",
    "\n",
    "session = tf.Session()\n",
    "session.run(tf.global_variables_initializer())"
   ]
  },
  {
   "cell_type": "code",
   "execution_count": 22,
   "metadata": {},
   "outputs": [],
   "source": [
    "losses_constr = []\n",
    "errors_constr = []\n",
    "losses_unconstr = []\n",
    "errors_unconstr = []\n",
    "for i in range(200):\n",
    "    session.run([proj_lma_min_op, unconstr_lma_min_op])\n",
    "    l1, l2, e1, e2 = session.run([loss_constr_t, loss_unconstr_t, error_constr_t, error_unconstr_t])\n",
    "    losses_constr.append(l1)\n",
    "    errors_constr.append(e1)\n",
    "    losses_unconstr.append(l2)\n",
    "    errors_unconstr.append(e2)"
   ]
  },
  {
   "cell_type": "code",
   "execution_count": 23,
   "metadata": {},
   "outputs": [
    {
     "data": {
      "image/png": "[encoded data removed]",
      "text/plain": [
       "<Figure size 576x288 with 2 Axes>"
      ]
     },
     "metadata": {
      "needs_background": "light"
     },
     "output_type": "display_data"
    }
   ],
   "source": [
    "\n",
    "plt.figure(figsize=[8,4])\n",
    "plt.subplot(1,2,1)\n",
    "plt.plot(np.log(losses_constr), color='red', ls='--', label='constr')\n",
    "plt.plot(np.log(losses_unconstr), color='green', label='unconstr')\n",
    "plt.legend(loc='best')\n",
    "plt.title('Loss')\n",
    "plt.subplot(1,2,2)\n",
    "plt.plot(np.log(errors_constr), color='red', ls='--', label='constr')\n",
    "plt.plot(np.log(errors_unconstr), color='green', label='unconstr')\n",
    "plt.legend(loc='best')\n",
    "plt.title('Errors')\n",
    "plt.show()"
   ]
  },
  {
   "cell_type": "code",
   "execution_count": 46,
   "metadata": {},
   "outputs": [
    {
     "data": {
      "text/plain": [
       "[array([-2.1369646,  2.0638247, -2.2197802, -2.0885696, -2.1276467,\n",
       "        -1.9019428,  1.9102019, -2.043488 ,  2.1298995, -1.8409691,\n",
       "         1.9180607, -1.9227175,  1.9892062,  2.121836 ,  2.0755205,\n",
       "         1.7770355,  2.0393827, -2.1222312,  1.9264569, -1.8327581],\n",
       "       dtype=float32),\n",
       " array([1.5849909, 1.8815885, 1.7835839, 1.8514143, 1.8844435, 1.9979963,\n",
       "        2.0638566, 1.8968097, 2.0652344, 2.0567372, 2.071703 , 2.1      ,\n",
       "        2.0923798, 1.5616138, 1.9883562, 2.1      , 1.7745427, 2.0696614,\n",
       "        2.097848 , 2.0914986], dtype=float32)]"
      ]
     },
     "execution_count": 46,
     "metadata": {},
     "output_type": "execute_result"
    }
   ],
   "source": [
    "session.run([var_unconstr, var_constr])"
   ]
  },
  {
   "cell_type": "code",
   "execution_count": 47,
   "metadata": {},
   "outputs": [
    {
     "data": {
      "text/plain": [
       "([200, 2555, 254], [200, 3435])"
      ]
     },
     "execution_count": 47,
     "metadata": {},
     "output_type": "execute_result"
    }
   ],
   "source": [
    "session.run([proj_lma_opt._iteration, proj_lma_opt._total_cg_iterations, proj_lma_opt._total_proj_ls_iterations]), session.run([unconstr_lma_opt._iteration, unconstr_lma_opt._total_cg_iterations])"
   ]
  },
  {
   "cell_type": "code",
   "execution_count": null,
   "metadata": {},
   "outputs": [],
   "source": []
  }
 ],
 "metadata": {
  "kernelspec": {
   "display_name": "Python 3",
   "language": "python",
   "name": "python3"
  },
  "language_info": {
   "codemirror_mode": {
    "name": "ipython",
    "version": 3
   },
   "file_extension": ".py",
   "mimetype": "text/x-python",
   "name": "python",
   "nbconvert_exporter": "python",
   "pygments_lexer": "ipython3",
   "version": "3.7.6"
  }
 },
 "nbformat": 4,
 "nbformat_minor": 4
}
