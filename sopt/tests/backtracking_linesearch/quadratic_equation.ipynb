{
 "cells": [
  {
   "cell_type": "code",
   "execution_count": 21,
   "metadata": {},
   "outputs": [],
   "source": [
    "import numpy as np\n",
    "import tensorflow as tf\n",
    "from sopt.optimizers.tensorflow.utils import BackTrackingLineSearch\n",
    "import matplotlib.pyplot as plt"
   ]
  },
  {
   "cell_type": "code",
   "execution_count": 11,
   "metadata": {},
   "outputs": [],
   "source": [
    "tf.reset_default_graph()"
   ]
  },
  {
   "cell_type": "code",
   "execution_count": 12,
   "metadata": {},
   "outputs": [],
   "source": [
    "lossfn = lambda x: tf.reduce_sum((x - 2)**2) \n",
    "def obj_and_upd_fn(x, y): \n",
    "    fnval = lossfn(x + y)\n",
    "    return fnval, x + y"
   ]
  },
  {
   "cell_type": "code",
   "execution_count": 22,
   "metadata": {},
   "outputs": [],
   "source": [
    "v1 = tf.Variable(np.random.randn(100).astype('float32') * 20)\n",
    "steps = tf.Variable(0, dtype='int32')"
   ]
  },
  {
   "cell_type": "code",
   "execution_count": 23,
   "metadata": {},
   "outputs": [],
   "source": [
    "loss_t = lossfn(v1)\n",
    "mean_v = tf.reduce_mean(v1)"
   ]
  },
  {
   "cell_type": "code",
   "execution_count": 24,
   "metadata": {},
   "outputs": [],
   "source": [
    "grad = tf.gradients(loss_t, v1)[0]"
   ]
  },
  {
   "cell_type": "code",
   "execution_count": 25,
   "metadata": {},
   "outputs": [],
   "source": [
    "b = BackTrackingLineSearch()"
   ]
  },
  {
   "cell_type": "code",
   "execution_count": 26,
   "metadata": {},
   "outputs": [],
   "source": [
    "linesearch_out = b.search(obj_and_upd_fn, v1, -grad, grad)"
   ]
  },
  {
   "cell_type": "code",
   "execution_count": 27,
   "metadata": {},
   "outputs": [],
   "source": [
    "assign_ops  = tf.group([v1.assign(linesearch_out.newx), steps.assign_add(linesearch_out.step_count)])"
   ]
  },
  {
   "cell_type": "code",
   "execution_count": 34,
   "metadata": {},
   "outputs": [],
   "source": [
    "sess = tf.Session()\n",
    "sess.run(tf.global_variables_initializer())"
   ]
  },
  {
   "cell_type": "code",
   "execution_count": 35,
   "metadata": {},
   "outputs": [],
   "source": [
    "linesearch_steps = []\n",
    "lossvals = []\n",
    "meanvals = []\n",
    "for i in range(10):\n",
    "    step, loss, mean = sess.run([steps, loss_t, mean_v])\n",
    "    linesearch_steps.append(step)\n",
    "    lossvals.append(loss)\n",
    "    meanvals.append(mean)\n",
    "    sess.run(assign_ops)"
   ]
  },
  {
   "cell_type": "code",
   "execution_count": 37,
   "metadata": {},
   "outputs": [
    {
     "data": {
      "image/png": "[encoded data removed]",
      "text/plain": [
       "<Figure size 576x288 with 2 Axes>"
      ]
     },
     "metadata": {
      "needs_background": "light"
     },
     "output_type": "display_data"
    }
   ],
   "source": [
    "# Final mean should be 2.0\n",
    "\n",
    "plt.figure(figsize=[8,4])\n",
    "plt.subplot(1, 2, 1)\n",
    "plt.plot(linesearch_steps, lossvals)\n",
    "plt.title('Loss')\n",
    "plt.subplot(1,2,2)\n",
    "plt.plot(linesearch_steps, meanvals)\n",
    "plt.title('Mean')\n",
    "plt.show()"
   ]
  },
  {
   "cell_type": "code",
   "execution_count": null,
   "metadata": {},
   "outputs": [],
   "source": []
  }
 ],
 "metadata": {
  "kernelspec": {
   "display_name": "Python 3",
   "language": "python",
   "name": "python3"
  },
  "language_info": {
   "codemirror_mode": {
    "name": "ipython",
    "version": 3
   },
   "file_extension": ".py",
   "mimetype": "text/x-python",
   "name": "python",
   "nbconvert_exporter": "python",
   "pygments_lexer": "ipython3",
   "version": "3.7.6"
  }
 },
 "nbformat": 4,
 "nbformat_minor": 4
}
