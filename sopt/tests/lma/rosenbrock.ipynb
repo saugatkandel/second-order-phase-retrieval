{
 "cells": [
  {
   "cell_type": "code",
   "execution_count": null,
   "metadata": {},
   "outputs": [],
   "source": [
    "# This class tests whether tensorflow and autograd both calculate the hessian-vector-products identically.\n",
    "\n",
    "# The rosenbrock function is not a least squares optimization problem. \n",
    "# Additionally, I have formulated the loss function in such a way that to find a minimum, we need to \n",
    "# calculate the hessian-vector product."
   ]
  },
  {
   "cell_type": "code",
   "execution_count": 35,
   "metadata": {},
   "outputs": [],
   "source": [
    "from autograd import numpy as np\n",
    "import tensorflow as tf\n",
    "from matplotlib import pyplot as plt\n",
    "from sopt.optimizers.autograd.lma import LMA as LMAag\n",
    "from sopt.optimizers.tensorflow.lma import LMA as LMAtf"
   ]
  },
  {
   "cell_type": "code",
   "execution_count": 36,
   "metadata": {},
   "outputs": [
    {
     "name": "stdout",
     "output_type": "stream",
     "text": [
      "The autoreload extension is already loaded. To reload it, use:\n",
      "  %reload_ext autoreload\n"
     ]
    }
   ],
   "source": [
    "%load_ext autoreload\n",
    "%autoreload 2"
   ]
  },
  {
   "cell_type": "code",
   "execution_count": 37,
   "metadata": {},
   "outputs": [],
   "source": [
    "def rosenbrock(x):\n",
    "    x_reshaped = np.reshape(x, [2, -1])\n",
    "    return np.sum(100*(x_reshaped[1] - x_reshaped[0]**2)**2 + (1 - x_reshaped[0])**2)"
   ]
  },
  {
   "cell_type": "code",
   "execution_count": 38,
   "metadata": {},
   "outputs": [],
   "source": [
    "x_fn = lambda z: z\n",
    "z_init = np.zeros(10)"
   ]
  },
  {
   "cell_type": "code",
   "execution_count": 48,
   "metadata": {},
   "outputs": [],
   "source": [
    "# Autograd\n",
    "lma_ag = LMAag(z_init, x_fn, rosenbrock, squared_loss=False, cg_tol=1e-5, max_cg_iter=20)"
   ]
  },
  {
   "cell_type": "code",
   "execution_count": 49,
   "metadata": {},
   "outputs": [],
   "source": [
    "ag_losses = []\n",
    "for i in range(12):\n",
    "    out = lma_ag.minimize()\n",
    "    lossval = rosenbrock(x_fn(out))\n",
    "    ag_losses.append(lossval)"
   ]
  },
  {
   "cell_type": "code",
   "execution_count": 50,
   "metadata": {},
   "outputs": [
    {
     "name": "stderr",
     "output_type": "stream",
     "text": [
      "W1127 19:33:32.145271 140091138103104 lma.py:123] The ftol, gtol, and xtol conditions are adapted from https://docs.scipy.org/doc/scipy/reference/generated/scipy.optimize.least_squares.html.This is a test version, and there is no guarantee that these work as intended.\n"
     ]
    }
   ],
   "source": [
    "# Tensorflow\n",
    "tf.reset_default_graph()\n",
    "tf_var = tf.Variable(z_init, dtype='float32')\n",
    "tf_x_fn = lambda x: tf.identity(x)\n",
    "tf_x_fn_tensor = tf_x_fn(tf_var)\n",
    "\n",
    "def tf_rosenbrock(x):\n",
    "    x_reshaped = tf.reshape(x, [2, -1])\n",
    "    return tf.reduce_sum(100*(x_reshaped[1] - x_reshaped[0]**2)**2 + (1 - x_reshaped[0])**2)\n",
    "\n",
    "tf_rosenbrock_tensor = tf_rosenbrock(tf_x_fn_tensor)\n",
    "\n",
    "lma_tf = LMAtf(tf_var, tf_x_fn, tf_rosenbrock, name='ros', squared_loss=False, cg_tol=1e-5, max_cg_iter=20)\n",
    "minimizer = lma_tf.minimize()\n",
    "\n",
    "session = tf.Session()\n",
    "session.run(tf.global_variables_initializer())"
   ]
  },
  {
   "cell_type": "code",
   "execution_count": 51,
   "metadata": {},
   "outputs": [],
   "source": [
    "tf_losses = []\n",
    "for i in range(12):\n",
    "    session.run(minimizer)\n",
    "    lossval = session.run(tf_rosenbrock_tensor)\n",
    "    tf_losses.append(lossval)"
   ]
  },
  {
   "cell_type": "code",
   "execution_count": 52,
   "metadata": {},
   "outputs": [
    {
     "data": {
      "image/png": "[encoded data removed]",
      "text/plain": [
       "<Figure size 432x288 with 1 Axes>"
      ]
     },
     "metadata": {
      "needs_background": "light"
     },
     "output_type": "display_data"
    }
   ],
   "source": [
    "plt.plot(ag_losses, color='blue', ls=':', linewidth=5.0, alpha=0.8, label='ag')\n",
    "plt.plot(tf_losses, color='red', ls='--', linewidth=5.0, alpha=0.4, label='tf')\n",
    "plt.yscale('log')\n",
    "plt.legend(loc='best')\n",
    "plt.show()"
   ]
  },
  {
   "cell_type": "code",
   "execution_count": 53,
   "metadata": {},
   "outputs": [
    {
     "data": {
      "text/plain": [
       "array([0.98726624, 0.98726624, 0.98726624, 0.98726624, 0.98726624,\n",
       "       0.97430235, 0.97430235, 0.97430235, 0.97430235, 0.97430235],\n",
       "      dtype=float32)"
      ]
     },
     "execution_count": 53,
     "metadata": {},
     "output_type": "execute_result"
    }
   ],
   "source": [
    "# Solution is all ones\n",
    "session.run(lma_tf._input_var)"
   ]
  },
  {
   "cell_type": "code",
   "execution_count": null,
   "metadata": {},
   "outputs": [],
   "source": []
  }
 ],
 "metadata": {
  "kernelspec": {
   "display_name": "Python 3",
   "language": "python",
   "name": "python3"
  },
  "language_info": {
   "codemirror_mode": {
    "name": "ipython",
    "version": 3
   },
   "file_extension": ".py",
   "mimetype": "text/x-python",
   "name": "python",
   "nbconvert_exporter": "python",
   "pygments_lexer": "ipython3",
   "version": "3.7.3"
  }
 },
 "nbformat": 4,
 "nbformat_minor": 4
}
