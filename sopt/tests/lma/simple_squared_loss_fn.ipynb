{
 "cells": [
  {
   "cell_type": "code",
   "execution_count": 1,
   "metadata": {},
   "outputs": [],
   "source": [
    "# This class tests whether the tensorflow and autograd versions give identical outputs for a simple least squared loss function"
   ]
  },
  {
   "cell_type": "code",
   "execution_count": 1,
   "metadata": {},
   "outputs": [],
   "source": [
    "from autograd import numpy as np\n",
    "import tensorflow as tf\n",
    "from matplotlib import pyplot as plt\n",
    "from sopt.optimizers.autograd.lma import LMA as LMAag\n",
    "from sopt.optimizers.tensorflow import LMA as LMAtf"
   ]
  },
  {
   "cell_type": "code",
   "execution_count": 2,
   "metadata": {},
   "outputs": [],
   "source": [
    "%load_ext autoreload\n",
    "%autoreload 2"
   ]
  },
  {
   "cell_type": "code",
   "execution_count": 3,
   "metadata": {},
   "outputs": [],
   "source": [
    "z_true = np.random.randn(3,10).astype('float32')\n",
    "\n",
    "random_mat = np.random.randn(3,3)\n",
    "random_symmetric_mat = random_mat + random_mat.T\n",
    "evals, evecs = np.linalg.eig(random_symmetric_mat)\n",
    "affine_transform = evecs\n",
    "\n",
    "y_true = affine_transform @ z_true\n",
    "y_true_flat = y_true.flatten()"
   ]
  },
  {
   "cell_type": "code",
   "execution_count": 4,
   "metadata": {},
   "outputs": [],
   "source": [
    "def y_pred(z_flat):\n",
    "    z_arr = np.reshape(z_flat, (3, -1))\n",
    "    return (affine_transform @ z_arr).flatten()\n",
    "\n",
    "def loss_fn(y):\n",
    "    return 0.5 * np.sum((y - y_true_flat)**2)"
   ]
  },
  {
   "cell_type": "code",
   "execution_count": 5,
   "metadata": {},
   "outputs": [],
   "source": [
    "z_guess = np.random.randn(30).astype('float32')"
   ]
  },
  {
   "cell_type": "code",
   "execution_count": 6,
   "metadata": {},
   "outputs": [],
   "source": [
    "# Testing the autograd implementations"
   ]
  },
  {
   "cell_type": "code",
   "execution_count": 7,
   "metadata": {},
   "outputs": [],
   "source": [
    "ag_lma1 = LMAag(z_guess, y_pred, loss_fn, squared_loss=True, damping_factor=1., cg_tol=1e-5)\n",
    "ag_lma2 = LMAag(z_guess, y_pred, loss_fn, squared_loss=False, damping_factor=1., cg_tol=1e-5)"
   ]
  },
  {
   "cell_type": "code",
   "execution_count": 8,
   "metadata": {},
   "outputs": [
    {
     "name": "stdout",
     "output_type": "stream",
     "text": [
      "0 6.745080719219516 6.745080719219516\n",
      "1 1.0792129150751233 1.0792129150751233\n",
      "2 0.10217400379409441 0.10217400379409441\n",
      "3 0.005338070402303672 0.005338070402303672\n",
      "4 0.0001452381786576409 0.0001452381786576409\n",
      "5 1.966596957955992e-06 1.966596957955992e-06\n",
      "6 1.2809404387666918e-08 1.2809404387666918e-08\n",
      "Stopping iteration. Very low loss value: 1.2809404387666918e-08\n",
      "Stopping iteration. Very low loss value: 1.2809404387666918e-08\n",
      "7 1.2809404387666918e-08 1.2809404387666918e-08\n",
      "Stopping iteration. Very low loss value: 1.2809404387666918e-08\n",
      "Stopping iteration. Very low loss value: 1.2809404387666918e-08\n",
      "8 1.2809404387666918e-08 1.2809404387666918e-08\n",
      "Stopping iteration. Very low loss value: 1.2809404387666918e-08\n",
      "Stopping iteration. Very low loss value: 1.2809404387666918e-08\n",
      "9 1.2809404387666918e-08 1.2809404387666918e-08\n"
     ]
    }
   ],
   "source": [
    "ag_losses1 = []\n",
    "ag_losses2 = []\n",
    "for i in range(10):\n",
    "    out1 = ag_lma1.minimize()\n",
    "    out2 = ag_lma2.minimize()\n",
    "    print(i, loss_fn(y_pred(out1)), loss_fn(y_pred(out2)))\n",
    "    ag_losses1.append(loss_fn(y_pred(out1)))\n",
    "    ag_losses2.append(loss_fn(y_pred(out2)))"
   ]
  },
  {
   "cell_type": "code",
   "execution_count": 9,
   "metadata": {},
   "outputs": [],
   "source": [
    "# Tensorflow test"
   ]
  },
  {
   "cell_type": "code",
   "execution_count": 15,
   "metadata": {},
   "outputs": [
    {
     "name": "stdout",
     "output_type": "stream",
     "text": [
      "WARNING:tensorflow:The ftol, gtol, and xtol conditions are adapted from https://docs.scipy.org/doc/scipy/reference/generated/scipy.optimize.least_squares.html.This is a test version, and there is no guarantee that these work as intended.\n",
      "WARNING:tensorflow:case: An unordered dictionary of predicate/fn pairs was provided, but exclusive=False. The order of conditional tests is deterministic but not guaranteed.\n",
      "WARNING:tensorflow:The ftol, gtol, and xtol conditions are adapted from https://docs.scipy.org/doc/scipy/reference/generated/scipy.optimize.least_squares.html.This is a test version, and there is no guarantee that these work as intended.\n",
      "WARNING:tensorflow:case: An unordered dictionary of predicate/fn pairs was provided, but exclusive=False. The order of conditional tests is deterministic but not guaranteed.\n"
     ]
    }
   ],
   "source": [
    "tf.reset_default_graph()\n",
    "var1 = tf.get_variable('var1', dtype=tf.float32, initializer=z_guess)\n",
    "var2 = tf.get_variable('var2', dtype=tf.float32, initializer=z_guess)\n",
    "\n",
    "tf_y_true = tf.convert_to_tensor(y_true_flat, dtype='float32', name='y_true')\n",
    "tf_affine_transform = tf.convert_to_tensor(affine_transform, dtype='float32', name='affine_transform')\n",
    "\n",
    "def tf_y_pred(z):\n",
    "    return tf.reshape(tf_affine_transform @ tf.reshape(z, [3, -1]), [-1])\n",
    "def tf_loss(y_pred):\n",
    "    return 0.5 * tf.reduce_sum((tf_y_true - y_pred)**2)\n",
    "def tf_hessian(y_pred):\n",
    "    return 1.0\n",
    "\n",
    "preds1 = tf_y_pred(var1)\n",
    "preds2 = tf_y_pred(var2)\n",
    "loss_tensor1 = tf_loss(preds1)\n",
    "loss_tensor2 = tf_loss(preds2)\n",
    "\n",
    "tf_lma1 = LMAtf(var1, tf_y_pred, tf_loss, name='opt1', min_cg_tol=1e-1, assert_tolerances=False)\n",
    "tf_lma2 = LMAtf(var2, tf_y_pred, tf_loss, name='opt2', hessian_fn=tf_hessian, min_cg_tol=1e-1, assert_tolerances=False)\n",
    "\n",
    "tf_lma1_min = tf_lma1.minimize()\n",
    "tf_lma2_min = tf_lma2.minimize()\n",
    "session = tf.Session()\n",
    "session.run(tf.global_variables_initializer())"
   ]
  },
  {
   "cell_type": "code",
   "execution_count": 16,
   "metadata": {},
   "outputs": [
    {
     "name": "stdout",
     "output_type": "stream",
     "text": [
      "6.666667e-05\n",
      "0 1.45335725e-05 1.45335725e-05\n",
      "4.4444445e-05\n",
      "1 2.1378732e-14 2.1378732e-14\n",
      "4.4444445e-05\n",
      "2 2.1378732e-14 2.1378732e-14\n",
      "4.4444445e-05\n",
      "3 2.1378732e-14 2.1378732e-14\n",
      "4.4444445e-05\n",
      "4 2.1378732e-14 2.1378732e-14\n",
      "4.4444445e-05\n",
      "5 2.1378732e-14 2.1378732e-14\n",
      "4.4444445e-05\n",
      "6 2.1378732e-14 2.1378732e-14\n",
      "4.4444445e-05\n",
      "7 2.1378732e-14 2.1378732e-14\n",
      "4.4444445e-05\n",
      "8 2.1378732e-14 2.1378732e-14\n",
      "4.4444445e-05\n",
      "9 2.1378732e-14 2.1378732e-14\n"
     ]
    }
   ],
   "source": [
    "tf_losses1 = []\n",
    "tf_losses2 = []\n",
    "for i in range(10):\n",
    "    session.run([tf_lma1_min, tf_lma2_min])\n",
    "    print(session.run(tf_lma1._mu))\n",
    "    lossval1, lossval2 = session.run([loss_tensor1, loss_tensor2])\n",
    "    print(i, lossval1, lossval2)\n",
    "    tf_losses1.append(lossval1)\n",
    "    tf_losses2.append(lossval2)\n",
    "    "
   ]
  },
  {
   "cell_type": "code",
   "execution_count": 14,
   "metadata": {},
   "outputs": [
    {
     "data": {
      "image/png": "[encoded data removed]",
      "text/plain": [
       "<Figure size 432x288 with 1 Axes>"
      ]
     },
     "metadata": {
      "needs_background": "light"
     },
     "output_type": "display_data"
    }
   ],
   "source": [
    "plt.plot(ag_losses1, color='blue', ls=':', linewidth=5.0, alpha=0.8, label='ag_sq_true')\n",
    "plt.plot(ag_losses2, color='green', ls='--', linewidth=5.0, alpha=0.4, label='ag_sq_false')\n",
    "plt.plot(np.array(tf_losses1), color='red', ls=':', linewidth=5.0, alpha=0.8, label='tf_sq_true')\n",
    "plt.plot(np.array(tf_losses2), color='orange', ls='--', linewidth=5.0, alpha=0.4, label='tf_sq_false')\n",
    "plt.yscale('log')\n",
    "plt.legend(loc='best')\n",
    "plt.show()"
   ]
  },
  {
   "cell_type": "code",
   "execution_count": 17,
   "metadata": {},
   "outputs": [
    {
     "data": {
      "text/plain": [
       "array([ 0.7632457 ,  0.35943726,  1.534484  , -0.01710471,  1.2816777 ,\n",
       "        0.39290228,  1.0186828 , -0.5035555 , -0.5358688 , -0.24049735,\n",
       "       -0.3500105 ,  1.0453898 ,  0.8301344 , -0.63013047,  0.37519586,\n",
       "        0.29556668,  1.0371232 ,  0.92286104, -0.14413221, -0.61143786,\n",
       "       -0.7215301 , -0.72698396, -1.0947051 , -1.1066101 ,  1.0241183 ,\n",
       "        0.9291858 , -0.48584855, -0.15732017, -0.04646305,  1.1199192 ],\n",
       "      dtype=float32)"
      ]
     },
     "execution_count": 17,
     "metadata": {},
     "output_type": "execute_result"
    }
   ],
   "source": [
    "session.run(var1)"
   ]
  },
  {
   "cell_type": "code",
   "execution_count": 18,
   "metadata": {},
   "outputs": [
    {
     "data": {
      "text/plain": [
       "array([[ 0.7632457 ,  0.3594373 ,  1.534484  , -0.01710474,  1.2816777 ,\n",
       "         0.39290234,  1.0186828 , -0.5035555 , -0.5358688 , -0.24049737],\n",
       "       [-0.35001054,  1.0453898 ,  0.83013433, -0.63013047,  0.37519586,\n",
       "         0.29556668,  1.0371231 ,  0.92286104, -0.14413221, -0.61143786],\n",
       "       [-0.7215301 , -0.726984  , -1.0947051 , -1.1066101 ,  1.0241183 ,\n",
       "         0.9291859 , -0.48584852, -0.1573202 , -0.04646306,  1.1199192 ]],\n",
       "      dtype=float32)"
      ]
     },
     "execution_count": 18,
     "metadata": {},
     "output_type": "execute_result"
    }
   ],
   "source": [
    "z_true"
   ]
  },
  {
   "cell_type": "code",
   "execution_count": null,
   "metadata": {},
   "outputs": [],
   "source": []
  }
 ],
 "metadata": {
  "kernelspec": {
   "display_name": "Python 3",
   "language": "python",
   "name": "python3"
  },
  "language_info": {
   "codemirror_mode": {
    "name": "ipython",
    "version": 3
   },
   "file_extension": ".py",
   "mimetype": "text/x-python",
   "name": "python",
   "nbconvert_exporter": "python",
   "pygments_lexer": "ipython3",
   "version": "3.7.6"
  }
 },
 "nbformat": 4,
 "nbformat_minor": 4
}
