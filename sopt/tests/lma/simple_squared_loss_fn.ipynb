{
 "cells": [
  {
   "cell_type": "code",
   "execution_count": 1,
   "metadata": {},
   "outputs": [],
   "source": [
    "# This class tests whether the tensorflow and autograd versions give identical outputs for a simple least squared loss function"
   ]
  },
  {
   "cell_type": "code",
   "execution_count": 2,
   "metadata": {},
   "outputs": [],
   "source": [
    "from autograd import numpy as np\n",
    "import tensorflow as tf\n",
    "from matplotlib import pyplot as plt\n",
    "from sopt.optimizers.autograd.lma import LMA as LMAag\n",
    "from sopt.optimizers.tensorflow import LMA as LMAtf"
   ]
  },
  {
   "cell_type": "code",
   "execution_count": 3,
   "metadata": {},
   "outputs": [],
   "source": [
    "%load_ext autoreload\n",
    "%autoreload 2"
   ]
  },
  {
   "cell_type": "code",
   "execution_count": 4,
   "metadata": {},
   "outputs": [],
   "source": [
    "z_true = np.random.randn(3,10).astype('float32')\n",
    "\n",
    "random_mat = np.random.randn(3,3)\n",
    "random_symmetric_mat = random_mat + random_mat.T\n",
    "evals, evecs = np.linalg.eig(random_symmetric_mat)\n",
    "affine_transform = evecs\n",
    "\n",
    "y_true = affine_transform @ z_true\n",
    "y_true_flat = y_true.flatten()"
   ]
  },
  {
   "cell_type": "code",
   "execution_count": 15,
   "metadata": {},
   "outputs": [],
   "source": [
    "def y_pred(z_flat):\n",
    "    z_arr = np.reshape(z_flat, (3, -1))\n",
    "    return (affine_transform @ z_arr).flatten()\n",
    "\n",
    "def loss_fn(y):\n",
    "    return 0.5 * np.sum((y - y_true_flat)**2)"
   ]
  },
  {
   "cell_type": "code",
   "execution_count": 16,
   "metadata": {},
   "outputs": [],
   "source": [
    "z_guess = np.random.randn(30).astype('float32')"
   ]
  },
  {
   "cell_type": "code",
   "execution_count": 17,
   "metadata": {},
   "outputs": [],
   "source": [
    "# Testing the autograd implementations"
   ]
  },
  {
   "cell_type": "code",
   "execution_count": 18,
   "metadata": {},
   "outputs": [],
   "source": [
    "ag_lma1 = LMAag(z_guess, y_pred, loss_fn, squared_loss=True, damping_factor=1., cg_tol=1e-5)\n",
    "ag_lma2 = LMAag(z_guess, y_pred, loss_fn, squared_loss=False, damping_factor=1., cg_tol=1e-5)"
   ]
  },
  {
   "cell_type": "code",
   "execution_count": 19,
   "metadata": {},
   "outputs": [
    {
     "name": "stdout",
     "output_type": "stream",
     "text": [
      "0 10.12627016594906 10.12627016594906\n",
      "1 1.6202032265518493 1.6202032265518493\n",
      "2 0.1533920214486955 0.1533920214486955\n",
      "3 0.00801395050834 0.00801395050834\n",
      "4 0.0002180435041061846 0.0002180435041061846\n"
     ]
    }
   ],
   "source": [
    "ag_losses1 = []\n",
    "ag_losses2 = []\n",
    "for i in range(5):\n",
    "    out1 = ag_lma1.minimize()\n",
    "    out2 = ag_lma2.minimize()\n",
    "    print(i, loss_fn(y_pred(out1)), loss_fn(y_pred(out2)))\n",
    "    ag_losses1.append(loss_fn(y_pred(out1)))\n",
    "    ag_losses2.append(loss_fn(y_pred(out2)))"
   ]
  },
  {
   "cell_type": "code",
   "execution_count": 20,
   "metadata": {},
   "outputs": [],
   "source": [
    "# Tensorflow test"
   ]
  },
  {
   "cell_type": "code",
   "execution_count": 40,
   "metadata": {},
   "outputs": [
    {
     "name": "stderr",
     "output_type": "stream",
     "text": [
      "W1205 09:34:35.334561 140456999921472 lma_new.py:143] The ftol, gtol, and xtol conditions are adapted from https://docs.scipy.org/doc/scipy/reference/generated/scipy.optimize.least_squares.html.This is a test version, and there is no guarantee that these work as intended.\n",
      "W1205 09:34:35.663875 140456999921472 lma_new.py:143] The ftol, gtol, and xtol conditions are adapted from https://docs.scipy.org/doc/scipy/reference/generated/scipy.optimize.least_squares.html.This is a test version, and there is no guarantee that these work as intended.\n",
      "W1205 09:34:36.206530 140456999921472 lma_new.py:143] The ftol, gtol, and xtol conditions are adapted from https://docs.scipy.org/doc/scipy/reference/generated/scipy.optimize.least_squares.html.This is a test version, and there is no guarantee that these work as intended.\n"
     ]
    }
   ],
   "source": [
    "tf.reset_default_graph()\n",
    "var1 = tf.get_variable('var1', dtype=tf.float32, initializer=z_guess)\n",
    "var2 = tf.get_variable('var2', dtype=tf.float32, initializer=z_guess)\n",
    "var3 = tf.get_variable('var3', dtype=tf.float32, initializer=z_guess)\n",
    "\n",
    "tf_y_true = tf.convert_to_tensor(y_true_flat, dtype='float32', name='y_true')\n",
    "tf_affine_transform = tf.convert_to_tensor(affine_transform, dtype='float32', name='affine_transform')\n",
    "\n",
    "def tf_y_pred(z):\n",
    "    return tf.reshape(tf_affine_transform @ tf.reshape(z, [3, -1]), [-1])\n",
    "def tf_loss(y_pred):\n",
    "    return 0.5 * tf.reduce_sum((tf_y_true - y_pred)**2) - 500\n",
    "def tf_hessian(y_pred):\n",
    "    return 1.0\n",
    "\n",
    "preds1 = tf_y_pred(var1)\n",
    "preds2 = tf_y_pred(var2)\n",
    "preds3 = tf_y_pred(var3)\n",
    "loss_tensor1 = tf_loss(preds1)\n",
    "loss_tensor2 = tf_loss(preds2)\n",
    "loss_tensor3 = tf_loss(preds3)\n",
    "\n",
    "tf_lma1 = LMAtf(var1, tf_y_pred, tf_loss, name='opt1', squared_loss=True, cg_tol=1e-5)\n",
    "tf_lma2 = LMAtf(var2, tf_y_pred, tf_loss, name='opt2', squared_loss=False, cg_tol=1e-5)\n",
    "tf_lma3 = LMAtf(var3, tf_y_pred, tf_loss, name='opt3', squared_loss=False, hessian_fn=tf_hessian, cg_tol=1e-5)\n",
    "\n",
    "\n",
    "tf_lma1_min = tf_lma1.minimize()\n",
    "tf_lma2_min = tf_lma2.minimize()\n",
    "tf_lma3_min = tf_lma3.minimize()\n",
    "session = tf.Session()\n",
    "session.run(tf.global_variables_initializer())"
   ]
  },
  {
   "cell_type": "code",
   "execution_count": 41,
   "metadata": {},
   "outputs": [
    {
     "name": "stdout",
     "output_type": "stream",
     "text": [
      "0.6666667\n",
      "0 -489.87372 -489.87372 -489.87372\n",
      "0.44444448\n",
      "1 -498.3798 -498.3798 -498.3798\n",
      "0.29629633\n",
      "2 -499.84662 -499.84662 -499.84662\n",
      "0.1975309\n",
      "3 -499.99197 -499.99197 -499.99197\n",
      "0.13168727\n",
      "4 -499.9998 -499.9998 -499.9998\n"
     ]
    }
   ],
   "source": [
    "tf_losses1 = []\n",
    "tf_losses2 = []\n",
    "tf_losses3 = []\n",
    "for i in range(5):\n",
    "    session.run([tf_lma1_min, tf_lma2_min, tf_lma3_min])\n",
    "    print(session.run(tf_lma1._damping_factor))\n",
    "    lossval1, lossval2, lossval3 = session.run([loss_tensor1, loss_tensor2, loss_tensor3])\n",
    "    print(i, lossval1, lossval2, lossval3)\n",
    "    tf_losses1.append(lossval1)\n",
    "    tf_losses2.append(lossval2)\n",
    "    tf_losses3.append(lossval3)\n",
    "    "
   ]
  },
  {
   "cell_type": "code",
   "execution_count": 42,
   "metadata": {},
   "outputs": [
    {
     "data": {
      "image/png": "[encoded data removed]",
      "text/plain": [
       "<Figure size 432x288 with 1 Axes>"
      ]
     },
     "metadata": {
      "needs_background": "light"
     },
     "output_type": "display_data"
    }
   ],
   "source": [
    "plt.plot(ag_losses1, color='blue', ls=':', linewidth=5.0, alpha=0.8, label='ag_sq_true')\n",
    "plt.plot(ag_losses2, color='green', ls='--', linewidth=5.0, alpha=0.4, label='ag_sq_false')\n",
    "plt.plot(np.array(tf_losses1) + 500, color='red', ls=':', linewidth=5.0, alpha=0.8, label='tf_sq_true')\n",
    "plt.plot(np.array(tf_losses2) + 500, color='orange', ls='--', linewidth=5.0, alpha=0.4, label='tf_sq_false')\n",
    "plt.yscale('log')\n",
    "plt.legend(loc='best')\n",
    "plt.show()"
   ]
  },
  {
   "cell_type": "code",
   "execution_count": 29,
   "metadata": {},
   "outputs": [
    {
     "data": {
      "text/plain": [
       "array([-1.693111  ,  0.6961818 ,  1.4490342 , -0.9481077 ,  1.8455472 ,\n",
       "        0.9819226 ,  2.3330898 ,  1.3036275 ,  1.3316226 , -0.3771391 ,\n",
       "       -0.93641376,  2.2393725 ,  0.5209918 ,  2.1554024 , -0.4919834 ,\n",
       "       -2.2240825 ,  0.3248706 ,  1.3737745 , -0.750793  ,  0.4688263 ,\n",
       "       -0.32746792, -0.5071511 , -0.2870059 ,  1.4028902 ,  0.45804977,\n",
       "        1.675847  ,  1.2983289 ,  0.21939039, -0.2184372 ,  0.9751215 ],\n",
       "      dtype=float32)"
      ]
     },
     "execution_count": 29,
     "metadata": {},
     "output_type": "execute_result"
    }
   ],
   "source": [
    "session.run(var1)"
   ]
  },
  {
   "cell_type": "code",
   "execution_count": 27,
   "metadata": {},
   "outputs": [
    {
     "data": {
      "text/plain": [
       "array([[-1.6931113 ,  0.69618213,  1.4490342 , -0.94810796,  1.8455478 ,\n",
       "         0.98192334,  2.33309   ,  1.3036282 ,  1.3316232 , -0.3771387 ],\n",
       "       [-0.93641347,  2.2393723 ,  0.5209916 ,  2.1554017 , -0.49198323,\n",
       "        -2.2240825 ,  0.32486978,  1.3737755 , -0.75079286,  0.46882647],\n",
       "       [-0.3274678 , -0.50715107, -0.28700578,  1.4028906 ,  0.45805043,\n",
       "         1.6758475 ,  1.2983289 ,  0.2193911 , -0.21843696,  0.97512156]],\n",
       "      dtype=float32)"
      ]
     },
     "execution_count": 27,
     "metadata": {},
     "output_type": "execute_result"
    }
   ],
   "source": [
    "z_true"
   ]
  },
  {
   "cell_type": "code",
   "execution_count": null,
   "metadata": {},
   "outputs": [],
   "source": []
  }
 ],
 "metadata": {
  "kernelspec": {
   "display_name": "Python 3",
   "language": "python",
   "name": "python3"
  },
  "language_info": {
   "codemirror_mode": {
    "name": "ipython",
    "version": 3
   },
   "file_extension": ".py",
   "mimetype": "text/x-python",
   "name": "python",
   "nbconvert_exporter": "python",
   "pygments_lexer": "ipython3",
   "version": "3.7.3"
  }
 },
 "nbformat": 4,
 "nbformat_minor": 4
}
