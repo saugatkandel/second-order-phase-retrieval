{
 "cells": [
  {
   "cell_type": "code",
   "execution_count": 1,
   "metadata": {},
   "outputs": [],
   "source": [
    "# Testing whether the projected LM approach works\n",
    "#  Without the constraints, the problem admits both +x and -x as solutions.\n",
    "# With the constraints, we should only get +x"
   ]
  },
  {
   "cell_type": "code",
   "execution_count": 2,
   "metadata": {},
   "outputs": [],
   "source": [
    "import numpy as np\n",
    "import tensorflow as tf\n",
    "import matplotlib.pyplot as plt\n",
    "from sopt.optimizers.tensorflow.lma import LMA"
   ]
  },
  {
   "cell_type": "code",
   "execution_count": 3,
   "metadata": {},
   "outputs": [],
   "source": [
    "%load_ext autoreload\n",
    "%autoreload 2"
   ]
  },
  {
   "cell_type": "code",
   "execution_count": 4,
   "metadata": {},
   "outputs": [],
   "source": [
    "x_true = np.ones(20, dtype='float32') * 2\n",
    "\n",
    "random_mat = np.random.randn(20,20)\n",
    "A = random_mat @ random_mat\n",
    "\n",
    "# The output data could be from x=2 or x=-2.\n",
    "y = np.reshape(A @ x_true**2, [-1])"
   ]
  },
  {
   "cell_type": "code",
   "execution_count": 5,
   "metadata": {},
   "outputs": [],
   "source": [
    "x_guess = np.random.randn(20).astype('float32') * 10"
   ]
  },
  {
   "cell_type": "markdown",
   "metadata": {},
   "source": [
    "# LMA - linesearch for damping param"
   ]
  },
  {
   "cell_type": "code",
   "execution_count": 6,
   "metadata": {},
   "outputs": [],
   "source": [
    "tf.reset_default_graph()\n",
    "\n",
    "# x = 0 is also a stationary point. We are trying to avoid that by using clip_value_min > 0\n",
    "constraint_fn = lambda x: tf.clip_by_value(x, clip_value_min=0.01, clip_value_max=2.1)\n",
    "var_constr = tf.Variable(x_guess, dtype='float32', constraint=constraint_fn)\n",
    "var_unconstr = tf.Variable(x_guess, dtype='float32')\n",
    "\n",
    "y_t = tf.constant(y, dtype='float32')\n",
    "A_t = tf.constant(A, dtype='float32')                   \n",
    "                   \n",
    "x_true_t = tf.constant(x_true, dtype='float32', name='x_true')\n",
    "\n",
    "def preds_fn(guess_var):\n",
    "    return tf.reshape(A_t @ guess_var[:,None]**2, [-1])\n",
    "def loss_fn(y_pred):\n",
    "    return 0.5 * tf.reduce_sum((y_pred - y_t)**2)"
   ]
  },
  {
   "cell_type": "code",
   "execution_count": 7,
   "metadata": {},
   "outputs": [
    {
     "name": "stdout",
     "output_type": "stream",
     "text": [
      "WARNING:tensorflow:From /raid/home/skandel/code/sopt/sopt/optimizers/tensorflow/lma.py:81: The name tf.variable_scope is deprecated. Please use tf.compat.v1.variable_scope instead.\n",
      "\n",
      "WARNING:tensorflow:From /raid/home/skandel/code/sopt/sopt/optimizers/tensorflow/lma.py:82: The name tf.get_variable is deprecated. Please use tf.compat.v1.get_variable instead.\n",
      "\n",
      "WARNING:tensorflow:From /raid/home/skandel/miniconda3/envs/ad/lib/python3.7/site-packages/tensorflow_core/python/ops/math_grad.py:1375: where (from tensorflow.python.ops.array_ops) is deprecated and will be removed in a future version.\n",
      "Instructions for updating:\n",
      "Use tf.where in 2.0, which has the same broadcast rule as np.where\n",
      "WARNING:tensorflow:From /raid/home/skandel/code/sopt/sopt/optimizers/tensorflow/lma.py:250: The name tf.logging.warning is deprecated. Please use tf.compat.v1.logging.warning instead.\n",
      "\n",
      "WARNING:tensorflow:The ftol, gtol, and xtol conditions are adapted from https://docs.scipy.org/doc/scipy/reference/generated/scipy.optimize.least_squares.html.This is a test version, and there is no guarantee that these work as intended.\n",
      "WARNING:tensorflow:From /raid/home/skandel/code/sopt/sopt/optimizers/tensorflow/lma.py:255: The name tf.assign is deprecated. Please use tf.compat.v1.assign instead.\n",
      "\n",
      "WARNING:tensorflow:case: An unordered dictionary of predicate/fn pairs was provided, but exclusive=False. The order of conditional tests is deterministic but not guaranteed.\n",
      "WARNING:tensorflow:The ftol, gtol, and xtol conditions are adapted from https://docs.scipy.org/doc/scipy/reference/generated/scipy.optimize.least_squares.html.This is a test version, and there is no guarantee that these work as intended.\n",
      "WARNING:tensorflow:case: An unordered dictionary of predicate/fn pairs was provided, but exclusive=False. The order of conditional tests is deterministic but not guaranteed.\n"
     ]
    }
   ],
   "source": [
    "preds_constr_t = preds_fn(var_constr)\n",
    "loss_constr_t = loss_fn(preds_constr_t)\n",
    "error_constr_t = tf.reduce_sum((var_constr - x_true_t)**2) / x_true.size\n",
    "\n",
    "preds_unconstr_t = preds_fn(var_unconstr)\n",
    "loss_unconstr_t = loss_fn(preds_unconstr_t)\n",
    "error_unconstr_t = tf.reduce_sum((var_unconstr - x_true_t)**2)  / x_true.size\n",
    "\n",
    "proj_lma_opt = LMA(var_constr, preds_fn, loss_fn, name='constr_opt', min_cg_tol=1e-1, assert_tolerances=False)\n",
    "proj_lma_min_op = proj_lma_opt.minimize()\n",
    "\n",
    "unconstr_lma_opt = LMA(var_unconstr, preds_fn, loss_fn, name='unconstr_opt', min_cg_tol=1e-1, assert_tolerances=False)\n",
    "unconstr_lma_min_op = unconstr_lma_opt.minimize()\n",
    "\n",
    "session = tf.Session()\n",
    "session.run(tf.global_variables_initializer())"
   ]
  },
  {
   "cell_type": "code",
   "execution_count": 8,
   "metadata": {},
   "outputs": [],
   "source": [
    "losses_constr = []\n",
    "errors_constr = []\n",
    "losses_unconstr = []\n",
    "errors_unconstr = []\n",
    "for i in range(100):\n",
    "    session.run([proj_lma_min_op, unconstr_lma_min_op])\n",
    "    l1, l2, e1, e2 = session.run([loss_constr_t, loss_unconstr_t, error_constr_t, error_unconstr_t])\n",
    "    losses_constr.append(l1)\n",
    "    errors_constr.append(e1)\n",
    "    losses_unconstr.append(l2)\n",
    "    errors_unconstr.append(e2)"
   ]
  },
  {
   "cell_type": "code",
   "execution_count": 9,
   "metadata": {},
   "outputs": [
    {
     "data": {
      "image/png": "[encoded data removed]",
      "text/plain": [
       "<Figure size 576x288 with 2 Axes>"
      ]
     },
     "metadata": {
      "needs_background": "light"
     },
     "output_type": "display_data"
    }
   ],
   "source": [
    "\n",
    "plt.figure(figsize=[8,4])\n",
    "plt.subplot(1,2,1)\n",
    "plt.plot(np.log(losses_constr), color='red', ls='--', label='constr')\n",
    "plt.plot(np.log(losses_unconstr), color='green', label='unconstr')\n",
    "plt.legend(loc='best')\n",
    "plt.title('Loss')\n",
    "plt.subplot(1,2,2)\n",
    "plt.plot(np.log(errors_constr), color='red', ls='--', label='constr')\n",
    "plt.plot(np.log(errors_unconstr), color='green', label='unconstr')\n",
    "plt.legend(loc='best')\n",
    "plt.title('Errors')\n",
    "plt.show()"
   ]
  },
  {
   "cell_type": "code",
   "execution_count": 10,
   "metadata": {},
   "outputs": [
    {
     "data": {
      "text/plain": [
       "[array([-1.9999926, -2.0000277,  2.0000062, -1.9999573,  2.0000196,\n",
       "        -2.000033 , -1.9999732,  2.000034 ,  2.0000062,  2.0000367,\n",
       "         2.0000265, -2.0000193,  1.999959 ,  1.9999427,  1.9999762,\n",
       "        -2.0000572, -2.0000215, -1.9999843, -1.9999954,  1.9999617],\n",
       "       dtype=float32),\n",
       " array([2.0046132 , 1.9797554 , 1.8781434 , 1.2175454 , 1.783487  ,\n",
       "        1.8344574 , 1.7270534 , 0.5310961 , 1.9643551 , 2.040685  ,\n",
       "        2.1       , 2.1       , 1.0864952 , 0.02972499, 2.1       ,\n",
       "        0.18393902, 2.0817516 , 2.1       , 1.9597872 , 1.969658  ],\n",
       "       dtype=float32)]"
      ]
     },
     "execution_count": 10,
     "metadata": {},
     "output_type": "execute_result"
    }
   ],
   "source": [
    "session.run([var_unconstr, var_constr])"
   ]
  },
  {
   "cell_type": "code",
   "execution_count": 11,
   "metadata": {},
   "outputs": [
    {
     "data": {
      "text/plain": [
       "([135, 1454, 146], [150, 2988])"
      ]
     },
     "execution_count": 11,
     "metadata": {},
     "output_type": "execute_result"
    }
   ],
   "source": [
    "session.run([proj_lma_opt._iteration, proj_lma_opt._total_cg_iterations, proj_lma_opt._total_proj_ls_iterations]), session.run([unconstr_lma_opt._iteration, unconstr_lma_opt._total_cg_iterations])"
   ]
  },
  {
   "cell_type": "code",
   "execution_count": 12,
   "metadata": {},
   "outputs": [
    {
     "data": {
      "text/plain": [
       "[0.55003375, 8.000025]"
      ]
     },
     "execution_count": 12,
     "metadata": {},
     "output_type": "execute_result"
    }
   ],
   "source": [
    "session.run([error_constr_t, error_unconstr_t])"
   ]
  },
  {
   "cell_type": "markdown",
   "metadata": {},
   "source": [
    "# LM without linesearch "
   ]
  },
  {
   "cell_type": "code",
   "execution_count": 13,
   "metadata": {},
   "outputs": [],
   "source": [
    "tf.reset_default_graph()\n",
    "\n",
    "# x = 0 is also a stationary point. We are trying to avoid that by using clip_value_min > 0\n",
    "constraint_fn = lambda x: tf.clip_by_value(x, clip_value_min=0.01, clip_value_max=2.1)\n",
    "var_constr = tf.Variable(x_guess, dtype='float32', constraint=constraint_fn)\n",
    "var_unconstr = tf.Variable(x_guess, dtype='float32')\n",
    "\n",
    "y_t = tf.constant(y, dtype='float32')\n",
    "A_t = tf.constant(A, dtype='float32')                   \n",
    "                   \n",
    "x_true_t = tf.constant(x_true, dtype='float32', name='x_true')\n",
    "\n",
    "def preds_fn(guess_var):\n",
    "    return tf.reshape(A_t @ guess_var[:,None]**2, [-1])\n",
    "def loss_fn(y_pred):\n",
    "    return 0.5 * tf.reduce_sum((y_pred - y_t)**2)"
   ]
  },
  {
   "cell_type": "code",
   "execution_count": 14,
   "metadata": {},
   "outputs": [
    {
     "name": "stdout",
     "output_type": "stream",
     "text": [
      "WARNING:tensorflow:The ftol, gtol, and xtol conditions are adapted from https://docs.scipy.org/doc/scipy/reference/generated/scipy.optimize.least_squares.html.This is a test version, and there is no guarantee that these work as intended.\n",
      "WARNING:tensorflow:case: An unordered dictionary of predicate/fn pairs was provided, but exclusive=False. The order of conditional tests is deterministic but not guaranteed.\n",
      "WARNING:tensorflow:The ftol, gtol, and xtol conditions are adapted from https://docs.scipy.org/doc/scipy/reference/generated/scipy.optimize.least_squares.html.This is a test version, and there is no guarantee that these work as intended.\n",
      "WARNING:tensorflow:case: An unordered dictionary of predicate/fn pairs was provided, but exclusive=False. The order of conditional tests is deterministic but not guaranteed.\n"
     ]
    }
   ],
   "source": [
    "preds_constr_t = preds_fn(var_constr)\n",
    "loss_constr_t = loss_fn(preds_constr_t)\n",
    "error_constr_t = tf.reduce_sum((var_constr - x_true_t)**2) / x_true.size\n",
    "\n",
    "preds_unconstr_t = preds_fn(var_unconstr)\n",
    "loss_unconstr_t = loss_fn(preds_unconstr_t)\n",
    "error_unconstr_t = tf.reduce_sum((var_unconstr - x_true_t)**2)  / x_true.size\n",
    "\n",
    "proj_lma_opt = LMA(var_constr, preds_fn, loss_fn, name='constr_opt', min_cg_tol=1e-1, assert_tolerances=False, max_mu_linesearch_iters=1)\n",
    "proj_lma_min_op = proj_lma_opt.minimize()\n",
    "\n",
    "unconstr_lma_opt = LMA(var_unconstr, preds_fn, loss_fn, name='unconstr_opt', min_cg_tol=1e-1, assert_tolerances=False, max_mu_linesearch_iters=1)\n",
    "unconstr_lma_min_op = unconstr_lma_opt.minimize()\n",
    "\n",
    "session = tf.Session()\n",
    "session.run(tf.global_variables_initializer())"
   ]
  },
  {
   "cell_type": "code",
   "execution_count": 15,
   "metadata": {},
   "outputs": [],
   "source": [
    "losses_constr = []\n",
    "errors_constr = []\n",
    "losses_unconstr = []\n",
    "errors_unconstr = []\n",
    "for i in range(100):\n",
    "    session.run([proj_lma_min_op, unconstr_lma_min_op])\n",
    "    l1, l2, e1, e2 = session.run([loss_constr_t, loss_unconstr_t, error_constr_t, error_unconstr_t])\n",
    "    losses_constr.append(l1)\n",
    "    errors_constr.append(e1)\n",
    "    losses_unconstr.append(l2)\n",
    "    errors_unconstr.append(e2)"
   ]
  },
  {
   "cell_type": "code",
   "execution_count": 16,
   "metadata": {},
   "outputs": [
    {
     "data": {
      "image/png": "[encoded data removed]",
      "text/plain": [
       "<Figure size 576x288 with 2 Axes>"
      ]
     },
     "metadata": {
      "needs_background": "light"
     },
     "output_type": "display_data"
    }
   ],
   "source": [
    "\n",
    "plt.figure(figsize=[8,4])\n",
    "plt.subplot(1,2,1)\n",
    "plt.plot(np.log(losses_constr), color='red', ls='--', label='constr')\n",
    "plt.plot(np.log(losses_unconstr), color='green', label='unconstr')\n",
    "plt.legend(loc='best')\n",
    "plt.title('Loss')\n",
    "plt.subplot(1,2,2)\n",
    "plt.plot(np.log(errors_constr), color='red', ls='--', label='constr')\n",
    "plt.plot(np.log(errors_unconstr), color='green', label='unconstr')\n",
    "plt.legend(loc='best')\n",
    "plt.title('Errors')\n",
    "plt.show()"
   ]
  },
  {
   "cell_type": "code",
   "execution_count": 17,
   "metadata": {},
   "outputs": [
    {
     "data": {
      "text/plain": [
       "[array([-1.9857541, -2.0556927,  2.0112402, -1.9227211,  2.0343132,\n",
       "        -2.050549 , -1.953015 ,  2.0615304,  2.014216 ,  2.0623436,\n",
       "         2.0421526, -2.0320904,  1.9341441,  1.9026878,  1.9633642,\n",
       "        -2.0992885, -2.029112 , -1.9630085, -1.9912575,  1.9363899],\n",
       "       dtype=float32),\n",
       " array([2.0998156 , 2.0968685 , 1.7130423 , 1.2153122 , 2.070712  ,\n",
       "        2.1       , 1.495485  , 0.68724823, 2.059907  , 2.0654778 ,\n",
       "        2.1       , 2.0352485 , 0.03199795, 0.02103464, 2.1       ,\n",
       "        1.2437457 , 2.1       , 2.0968256 , 1.8814751 , 1.7258608 ],\n",
       "       dtype=float32)]"
      ]
     },
     "execution_count": 17,
     "metadata": {},
     "output_type": "execute_result"
    }
   ],
   "source": [
    "session.run([var_unconstr, var_constr])"
   ]
  },
  {
   "cell_type": "code",
   "execution_count": 18,
   "metadata": {},
   "outputs": [
    {
     "data": {
      "text/plain": [
       "([100, 1200, 141], [100, 1862])"
      ]
     },
     "execution_count": 18,
     "metadata": {},
     "output_type": "execute_result"
    }
   ],
   "source": [
    "session.run([proj_lma_opt._iteration, proj_lma_opt._total_cg_iterations, proj_lma_opt._total_proj_ls_iterations]), session.run([unconstr_lma_opt._iteration, unconstr_lma_opt._total_cg_iterations])"
   ]
  },
  {
   "cell_type": "code",
   "execution_count": null,
   "metadata": {},
   "outputs": [],
   "source": []
  }
 ],
 "metadata": {
  "kernelspec": {
   "display_name": "Python 3",
   "language": "python",
   "name": "python3"
  },
  "language_info": {
   "codemirror_mode": {
    "name": "ipython",
    "version": 3
   },
   "file_extension": ".py",
   "mimetype": "text/x-python",
   "name": "python",
   "nbconvert_exporter": "python",
   "pygments_lexer": "ipython3",
   "version": "3.7.6"
  }
 },
 "nbformat": 4,
 "nbformat_minor": 4
}
