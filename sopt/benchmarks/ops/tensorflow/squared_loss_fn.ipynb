{
 "cells": [
  {
   "cell_type": "code",
   "execution_count": 1,
   "metadata": {},
   "outputs": [],
   "source": [
    "import numpy as np\n",
    "import tensorflow as tf\n",
    "from matplotlib import pyplot as plt\n",
    "from tensorflow.python.framework import graph_util\n",
    "import sopt.benchmarks.ops.tensorflow.flops_registry_custom\n",
    "from tensorflow.python.ops.gradients_impl import _hessian_vector_product\n",
    "from sopt.optimizers.tensorflow.curveball import Curveball\n",
    "from sopt.optimizers.tensorflow.lma import LMA"
   ]
  },
  {
   "cell_type": "code",
   "execution_count": 2,
   "metadata": {},
   "outputs": [],
   "source": [
    "%load_ext autoreload\n",
    "%autoreload 2"
   ]
  },
  {
   "cell_type": "code",
   "execution_count": 3,
   "metadata": {},
   "outputs": [],
   "source": [
    "def load_pb(pb):\n",
    "    with tf.gfile.GFile(pb, \"rb\") as f:\n",
    "        graph_def = tf.GraphDef()\n",
    "        graph_def.ParseFromString(f.read())\n",
    "    with tf.Graph().as_default() as graph:\n",
    "        tf.import_graph_def(graph_def, name='')\n",
    "        return graph"
   ]
  },
  {
   "cell_type": "code",
   "execution_count": 4,
   "metadata": {},
   "outputs": [],
   "source": [
    "def tf_y_pred(z, tf_affine_transform):\n",
    "    return tf.reshape(tf_affine_transform @ tf.reshape(z, [3, -1]), [-1])\n",
    "def tf_loss(y_pred, tf_y_true):\n",
    "    return 0.5 * tf.reduce_sum((tf_y_true - y_pred)**2)"
   ]
  },
  {
   "cell_type": "code",
   "execution_count": 5,
   "metadata": {},
   "outputs": [],
   "source": [
    "z_true = np.random.randn(3,100).astype('float32')\n",
    "\n",
    "random_mat = np.random.randn(3,3)\n",
    "random_symmetric_mat = random_mat + random_mat.T\n",
    "evals, evecs = np.linalg.eig(random_symmetric_mat)\n",
    "affine_transform = evecs\n",
    "\n",
    "y_true = affine_transform @ z_true\n",
    "y_true_flat = y_true.flatten()\n",
    "\n",
    "z_guess = np.random.randn(300).astype('float32')"
   ]
  },
  {
   "cell_type": "code",
   "execution_count": 6,
   "metadata": {},
   "outputs": [],
   "source": [
    "# Reference:\n",
    "# https://stackoverflow.com/questions/45085938/tensorflow-is-there-a-way-to-measure-flops-for-a-model\n",
    "\n",
    "# See more documentation at \n",
    "# https://github.com/tensorflow/tensorflow/blob/master/tensorflow/core/profiler/g3doc/profile_model_architecture.md\n",
    "\n"
   ]
  },
  {
   "cell_type": "code",
   "execution_count": 7,
   "metadata": {},
   "outputs": [
    {
     "name": "stdout",
     "output_type": "stream",
     "text": [
      "WARNING:tensorflow:From /raid/home/skandel/miniconda3/envs/ad/lib/python3.7/site-packages/tensorflow_core/python/ops/math_ops.py:2866: tensor_shape_from_node_def_name (from tensorflow.python.framework.graph_util_impl) is deprecated and will be removed in a future version.\n",
      "Instructions for updating:\n",
      "Use `tf.compat.v1.graph_util.tensor_shape_from_node_def_name`\n",
      "2700\n"
     ]
    }
   ],
   "source": [
    "# Forward model\n",
    "tf.reset_default_graph()\n",
    "var = tf.get_variable('var', dtype=tf.float32, initializer=z_guess)\n",
    "\n",
    "tf_y_true = tf.convert_to_tensor(y_true_flat, dtype='float32', name='y_true')\n",
    "tf_affine_transform = tf.convert_to_tensor(affine_transform, dtype='float32', name='affine_transform')\n",
    "\n",
    "preds = tf_y_pred(var, tf_affine_transform)\n",
    "loss_tensor = tf_loss(preds, tf_y_true)    \n",
    "\n",
    "session = tf.Session()\n",
    "session.run(tf.global_variables_initializer())\n",
    "\n",
    "run_meta = tf.RunMetadata()\n",
    "opts = tf.profiler.ProfileOptionBuilder.float_operation()    \n",
    "flops_fwd = tf.profiler.profile(run_meta=run_meta, cmd='graph', options=opts) \n",
    "print(flops_fwd.total_float_ops)"
   ]
  },
  {
   "cell_type": "code",
   "execution_count": 8,
   "metadata": {},
   "outputs": [
    {
     "name": "stdout",
     "output_type": "stream",
     "text": [
      "WARNING:tensorflow:From /raid/home/skandel/miniconda3/envs/ad/lib/python3.7/site-packages/tensorflow_core/python/ops/math_grad.py:1375: where (from tensorflow.python.ops.array_ops) is deprecated and will be removed in a future version.\n",
      "Instructions for updating:\n",
      "Use tf.where in 2.0, which has the same broadcast rule as np.where\n",
      "9002\n"
     ]
    }
   ],
   "source": [
    "# Forward model + gradients\n",
    "tf.reset_default_graph()\n",
    "var = tf.get_variable('var', dtype=tf.float32, initializer=z_guess)\n",
    "\n",
    "tf_y_true = tf.convert_to_tensor(y_true_flat, dtype='float32', name='y_true')\n",
    "tf_affine_transform = tf.convert_to_tensor(affine_transform, dtype='float32', name='affine_transform')\n",
    "\n",
    "preds = tf_y_pred(var, tf_affine_transform)\n",
    "loss_tensor = tf_loss(preds, tf_y_true)  \n",
    "\n",
    "gradients = tf.gradients([loss_tensor], [var])\n",
    "\n",
    "session = tf.Session()\n",
    "session.run(tf.global_variables_initializer())\n",
    "\n",
    "run_meta = tf.RunMetadata()\n",
    "opts = tf.profiler.ProfileOptionBuilder.float_operation()    \n",
    "flops_fwd_grad = tf.profiler.profile(run_meta=run_meta, cmd='graph', options=opts) \n",
    "print(flops_fwd_grad.total_float_ops)"
   ]
  },
  {
   "cell_type": "code",
   "execution_count": 9,
   "metadata": {},
   "outputs": [
    {
     "name": "stdout",
     "output_type": "stream",
     "text": [
      "13500\n"
     ]
    }
   ],
   "source": [
    "# gauss-newton vector product\n",
    "tf.reset_default_graph()\n",
    "var = tf.get_variable('var', dtype=tf.float32, initializer=z_guess)\n",
    "z = tf.get_variable('z', dtype=tf.float32, initializer=tf.zeros_like(z_guess, dtype='float32'))\n",
    "dummy_var = tf.get_variable('dummy', dtype=tf.float32, initializer=tf.zeros_like(y_true_flat, dtype='float32'))\n",
    "\n",
    "tf_y_true = tf.convert_to_tensor(y_true_flat, dtype='float32', name='y_true')\n",
    "tf_affine_transform = tf.convert_to_tensor(affine_transform, dtype='float32', name='affine_transform')\n",
    "\n",
    "preds = tf_y_pred(var, tf_affine_transform)\n",
    "loss_tensor = tf_loss(preds, tf_y_true)  \n",
    "\n",
    "#jloss = tf.gradients(loss_tensor, preds)\n",
    "\n",
    "vjp_dummy = tf.gradients(preds, var,dummy_var)[0]\n",
    "jvpz = tf.gradients(vjp_dummy, dummy_var, z)[0]\n",
    "\n",
    "gvpz = tf.gradients(preds, var, jvpz)[0]\n",
    "\n",
    "session = tf.Session()\n",
    "session.run(tf.global_variables_initializer())\n",
    "\n",
    "run_meta = tf.RunMetadata()\n",
    "opts = tf.profiler.ProfileOptionBuilder.float_operation()    \n",
    "flops_gvp = tf.profiler.profile(run_meta=run_meta, cmd='graph', options=opts) \n",
    "print(flops_gvp.total_float_ops)"
   ]
  },
  {
   "cell_type": "code",
   "execution_count": 10,
   "metadata": {},
   "outputs": [
    {
     "name": "stdout",
     "output_type": "stream",
     "text": [
      "20702\n"
     ]
    }
   ],
   "source": [
    "# generalized gauss-newton vector product (with hessian-vector product)\n",
    "tf.reset_default_graph()\n",
    "var = tf.get_variable('var', dtype=tf.float32, initializer=z_guess)\n",
    "z = tf.get_variable('z', dtype=tf.float32, initializer=tf.zeros_like(z_guess, dtype='float32'))\n",
    "dummy_var = tf.get_variable('dummy', dtype=tf.float32, initializer=tf.zeros_like(y_true_flat, dtype='float32'))\n",
    "\n",
    "tf_y_true = tf.convert_to_tensor(y_true_flat, dtype='float32', name='y_true')\n",
    "tf_affine_transform = tf.convert_to_tensor(affine_transform, dtype='float32', name='affine_transform')\n",
    "\n",
    "preds = tf_y_pred(var, tf_affine_transform)\n",
    "loss_tensor = tf_loss(preds, tf_y_true)  \n",
    "\n",
    "#jloss = tf.gradients(loss_tensor, preds)\n",
    "\n",
    "vjp_dummy = tf.gradients(preds, var,dummy_var)[0]\n",
    "jvpz = tf.gradients(vjp_dummy, dummy_var, z)[0]\n",
    "\n",
    "hjvpz = _hessian_vector_product([loss_tensor], [preds], [jvpz])\n",
    "\n",
    "gvpz = tf.gradients(preds, var, hjvpz)[0]\n",
    "\n",
    "session = tf.Session()\n",
    "session.run(tf.global_variables_initializer())\n",
    "\n",
    "run_meta = tf.RunMetadata()\n",
    "opts = tf.profiler.ProfileOptionBuilder.float_operation()    \n",
    "flops_gvp = tf.profiler.profile(run_meta=run_meta, cmd='graph', options=opts) \n",
    "print(flops_gvp.total_float_ops)"
   ]
  },
  {
   "cell_type": "code",
   "execution_count": 13,
   "metadata": {},
   "outputs": [
    {
     "name": "stdout",
     "output_type": "stream",
     "text": [
      "WARNING:tensorflow:From /raid/home/skandel/code/sopt/sopt/optimizers/tensorflow/curveball.py:204: The name tf.assign is deprecated. Please use tf.compat.v1.assign instead.\n",
      "\n",
      "32145\n"
     ]
    }
   ],
   "source": [
    "# curveball (without hessian-vector-product)\n",
    "tf.reset_default_graph()\n",
    "\n",
    "var = tf.get_variable('var', dtype=tf.float32, initializer=z_guess)\n",
    "\n",
    "tf_y_true = tf.convert_to_tensor(y_true_flat, dtype='float32', name='y_true')\n",
    "tf_affine_transform = tf.convert_to_tensor(affine_transform, dtype='float32', name='affine_transform')\n",
    "\n",
    "preds_fn = lambda x: tf_y_pred(x, tf_affine_transform)\n",
    "loss_fn = lambda x: tf_loss(x, tf_y_true)\n",
    "\n",
    "optimizer = Curveball(var, predictions_fn=preds_fn, loss_fn=loss_fn, hessian_fn=lambda x: 1.0, name='opt')\n",
    "minimize_op = optimizer.minimize()\n",
    "\n",
    "session = tf.Session()\n",
    "\n",
    "session.run(tf.global_variables_initializer())\n",
    "\n",
    "run_meta = tf.RunMetadata()\n",
    "opts = tf.profiler.ProfileOptionBuilder.float_operation()    \n",
    "flops_gvp = tf.profiler.profile(run_meta=run_meta, cmd='graph', options=opts) \n",
    "print(flops_gvp.total_float_ops)"
   ]
  },
  {
   "cell_type": "code",
   "execution_count": 14,
   "metadata": {},
   "outputs": [
    {
     "name": "stdout",
     "output_type": "stream",
     "text": [
      "WARNING:tensorflow:From /raid/home/skandel/code/sopt/sopt/optimizers/tensorflow/lma.py:250: The name tf.logging.warning is deprecated. Please use tf.compat.v1.logging.warning instead.\n",
      "\n",
      "WARNING:tensorflow:The ftol, gtol, and xtol conditions are adapted from https://docs.scipy.org/doc/scipy/reference/generated/scipy.optimize.least_squares.html.This is a test version, and there is no guarantee that these work as intended.\n",
      "WARNING:tensorflow:case: An unordered dictionary of predicate/fn pairs was provided, but exclusive=False. The order of conditional tests is deterministic but not guaranteed.\n",
      "WARNING:tensorflow:From /raid/home/skandel/code/sopt/sopt/optimizers/tensorflow/lma.py:349: The name tf.assert_greater is deprecated. Please use tf.compat.v1.assert_greater instead.\n",
      "\n",
      "36636\n"
     ]
    }
   ],
   "source": [
    "# LMA (without hessian-vector-product)\n",
    "tf.reset_default_graph()\n",
    "var = tf.get_variable('var', dtype=tf.float32, initializer=z_guess)\n",
    "\n",
    "tf_y_true = tf.convert_to_tensor(y_true_flat, dtype='float32', name='y_true')\n",
    "tf_affine_transform = tf.convert_to_tensor(affine_transform, dtype='float32', name='affine_transform')\n",
    "\n",
    "preds_fn = lambda x: tf_y_pred(x, tf_affine_transform)\n",
    "loss_fn = lambda x: tf_loss(x, tf_y_true)\n",
    "\n",
    "optimizer = LMA(var, predictions_fn=preds_fn, loss_fn=loss_fn, hessian_fn=lambda x: 1.0, \n",
    "                name='opt', max_cg_iter=10)\n",
    "minimize_op = optimizer.minimize()\n",
    "\n",
    "session = tf.Session()\n",
    "\n",
    "session.run(tf.global_variables_initializer())\n",
    "\n",
    "run_meta = tf.RunMetadata()\n",
    "opts = tf.profiler.ProfileOptionBuilder.float_operation()    \n",
    "flops_gvp = tf.profiler.profile(run_meta=run_meta, cmd='graph', options=opts) \n",
    "print(flops_gvp.total_float_ops)"
   ]
  },
  {
   "cell_type": "code",
   "execution_count": null,
   "metadata": {},
   "outputs": [],
   "source": []
  }
 ],
 "metadata": {
  "kernelspec": {
   "display_name": "Python 3",
   "language": "python",
   "name": "python3"
  },
  "language_info": {
   "codemirror_mode": {
    "name": "ipython",
    "version": 3
   },
   "file_extension": ".py",
   "mimetype": "text/x-python",
   "name": "python",
   "nbconvert_exporter": "python",
   "pygments_lexer": "ipython3",
   "version": "3.7.6"
  }
 },
 "nbformat": 4,
 "nbformat_minor": 4
}
